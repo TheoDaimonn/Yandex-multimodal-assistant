{
 "cells": [
  {
   "cell_type": "code",
   "execution_count": 2,
   "metadata": {
    "id": "G4txx6rHpyPg"
   },
   "outputs": [],
   "source": [
    "import json\n",
    "import re\n",
    "from pathlib import Path\n",
    "import pandas as pd\n",
    "import glob\n",
    "import os"
   ]
  },
  {
   "cell_type": "code",
   "execution_count": null,
   "metadata": {
    "colab": {
     "base_uri": "https://localhost:8080/"
    },
    "executionInfo": {
     "elapsed": 27370,
     "status": "ok",
     "timestamp": 1745872458844,
     "user": {
      "displayName": "Mariya Soloveva",
      "userId": "10867533629666462341"
     },
     "user_tz": -180
    },
    "id": "jXQgPc_TWgoq",
    "outputId": "c73f8f6a-f2cd-4389-dfb6-6e75dad6fcf6"
   },
   "outputs": [],
   "source": []
  },
  {
   "cell_type": "code",
   "execution_count": 3,
   "metadata": {
    "colab": {
     "base_uri": "https://localhost:8080/"
    },
    "executionInfo": {
     "elapsed": 682,
     "status": "ok",
     "timestamp": 1745872459524,
     "user": {
      "displayName": "Mariya Soloveva",
      "userId": "10867533629666462341"
     },
     "user_tz": -180
    },
    "id": "nnPixMbkY-k2",
    "outputId": "43f788d5-ecb3-4539-99cc-7f65b39c3889"
   },
   "outputs": [
    {
     "data": {
      "text/plain": [
       "['../data/json/chat2023.json',\n",
       " '../data/json/chat2022.json',\n",
       " '../data/json/chat2024.json',\n",
       " '../data/json/chat2021.json']"
      ]
     },
     "execution_count": 3,
     "metadata": {},
     "output_type": "execute_result"
    }
   ],
   "source": [
    "json_folder = Path('../data/json')\n",
    "json_paths = glob.glob(str(json_folder / '*.json'))\n",
    "json_paths"
   ]
  },
  {
   "cell_type": "code",
   "execution_count": 4,
   "metadata": {
    "id": "Swe8OxWukcpu"
   },
   "outputs": [],
   "source": [
    "def normalize_text(field):\n",
    "    if isinstance(field, str):\n",
    "        return field.strip()\n",
    "    if isinstance(field, list):\n",
    "        parts = []\n",
    "        for el in field:\n",
    "            if isinstance(el, str):\n",
    "                parts.append(el.strip())\n",
    "            elif isinstance(el, dict) and 'text' in el and isinstance(el['text'], str):\n",
    "                parts.append(el['text'].strip())\n",
    "        return ' '.join([p for p in parts if p])\n",
    "    return ''"
   ]
  },
  {
   "cell_type": "code",
   "execution_count": 5,
   "metadata": {
    "id": "worxEqNxpSod"
   },
   "outputs": [],
   "source": [
    "EMOJI_PATTERN = re.compile(\n",
    "    r\"[\\U0001F300-\\U0001F6FF\\u2600-\\u26FF\\u2700-\\u27BF]+\",\n",
    "    flags=re.UNICODE\n",
    ")\n",
    "\n",
    "def remove_emojis(text: str) -> str:\n",
    "    return EMOJI_PATTERN.sub('', text)"
   ]
  },
  {
   "cell_type": "code",
   "execution_count": 6,
   "metadata": {
    "id": "GRVFXZLCU-VH"
   },
   "outputs": [],
   "source": [
    "rows = []\n",
    "for p in json_paths:\n",
    "    with open(p, 'r', encoding='utf-8') as f:\n",
    "        data = json.load(f)\n",
    "    msgs = data.get('messages', [])\n",
    "    for m in msgs:\n",
    "        text = normalize_text(m.get('text', ''))\n",
    "        txt = remove_emojis(text).strip()\n",
    "        if not text:\n",
    "            continue\n",
    "        if len(txt.split()) <= 4:\n",
    "            continue\n",
    "        rows.append({\n",
    "            'source': os.path.splitext(os.path.basename(p))[0],\n",
    "            'id': m.get('id'),\n",
    "            'date': m.get('date'),\n",
    "            'from':m.get('from'),\n",
    "            # 'from_id':m.get('from_id'),\n",
    "            'reply_to_message_id': m.get('reply_to_message_id'),\n",
    "            'text': text,\n",
    "        })\n"
   ]
  },
  {
   "cell_type": "code",
   "execution_count": 7,
   "metadata": {
    "id": "hAWC_CfOgWDi"
   },
   "outputs": [],
   "source": [
    "df = pd.DataFrame(rows)\n",
    "df['date'] = pd.to_datetime(df['date'], errors='coerce')\n",
    "df = df.sort_values('date').reset_index(drop=True)"
   ]
  },
  {
   "cell_type": "code",
   "execution_count": 8,
   "metadata": {
    "colab": {
     "base_uri": "https://localhost:8080/",
     "height": 293
    },
    "executionInfo": {
     "elapsed": 226,
     "status": "ok",
     "timestamp": 1745872677857,
     "user": {
      "displayName": "Mariya Soloveva",
      "userId": "10867533629666462341"
     },
     "user_tz": -180
    },
    "id": "m_TW-nGQlY2L",
    "outputId": "e6358f41-af38-4acf-82f3-118450c1137e"
   },
   "outputs": [
    {
     "data": {
      "text/html": [
       "<div>\n",
       "<style scoped>\n",
       "    .dataframe tbody tr th:only-of-type {\n",
       "        vertical-align: middle;\n",
       "    }\n",
       "\n",
       "    .dataframe tbody tr th {\n",
       "        vertical-align: top;\n",
       "    }\n",
       "\n",
       "    .dataframe thead th {\n",
       "        text-align: right;\n",
       "    }\n",
       "</style>\n",
       "<table border=\"1\" class=\"dataframe\">\n",
       "  <thead>\n",
       "    <tr style=\"text-align: right;\">\n",
       "      <th></th>\n",
       "      <th>source</th>\n",
       "      <th>id</th>\n",
       "      <th>date</th>\n",
       "      <th>from</th>\n",
       "      <th>reply_to_message_id</th>\n",
       "      <th>text</th>\n",
       "    </tr>\n",
       "  </thead>\n",
       "  <tbody>\n",
       "    <tr>\n",
       "      <th>59039</th>\n",
       "      <td>chat2024</td>\n",
       "      <td>70490</td>\n",
       "      <td>2024-09-16 17:42:52</td>\n",
       "      <td>Максим Приемка</td>\n",
       "      <td>NaN</td>\n",
       "      <td>Еще 5-ть мест на экскурсию для перваков 8 инст...</td>\n",
       "    </tr>\n",
       "    <tr>\n",
       "      <th>59040</th>\n",
       "      <td>chat2024</td>\n",
       "      <td>70505</td>\n",
       "      <td>2024-11-18 17:41:44</td>\n",
       "      <td>Максим Приемка</td>\n",
       "      <td>2.0</td>\n",
       "      <td>👀 Мы знаем как волнительна и тревожна для перв...</td>\n",
       "    </tr>\n",
       "    <tr>\n",
       "      <th>59041</th>\n",
       "      <td>chat2024</td>\n",
       "      <td>70507</td>\n",
       "      <td>2024-11-20 14:08:17</td>\n",
       "      <td>(Архив 2024) 8 институт МАИ - это IT 2024</td>\n",
       "      <td>NaN</td>\n",
       "      <td>👀 Мы знаем как волнительна и тревожна для перв...</td>\n",
       "    </tr>\n",
       "    <tr>\n",
       "      <th>59042</th>\n",
       "      <td>chat2024</td>\n",
       "      <td>70509</td>\n",
       "      <td>2024-11-22 10:01:41</td>\n",
       "      <td>(Архив 2024) 8 институт МАИ - это IT 2024</td>\n",
       "      <td>70507.0</td>\n",
       "      <td>8️⃣ Дорогие родители студентов 1 курса 8 инсти...</td>\n",
       "    </tr>\n",
       "    <tr>\n",
       "      <th>59043</th>\n",
       "      <td>chat2024</td>\n",
       "      <td>70511</td>\n",
       "      <td>2024-12-07 12:14:06</td>\n",
       "      <td>(Архив 2024) 8 институт МАИ - это IT 2024</td>\n",
       "      <td>2.0</td>\n",
       "      <td>Вадим Кондаратцев, академический руководитель ...</td>\n",
       "    </tr>\n",
       "  </tbody>\n",
       "</table>\n",
       "</div>"
      ],
      "text/plain": [
       "         source     id                date  \\\n",
       "59039  chat2024  70490 2024-09-16 17:42:52   \n",
       "59040  chat2024  70505 2024-11-18 17:41:44   \n",
       "59041  chat2024  70507 2024-11-20 14:08:17   \n",
       "59042  chat2024  70509 2024-11-22 10:01:41   \n",
       "59043  chat2024  70511 2024-12-07 12:14:06   \n",
       "\n",
       "                                            from  reply_to_message_id  \\\n",
       "59039                             Максим Приемка                  NaN   \n",
       "59040                             Максим Приемка                  2.0   \n",
       "59041  (Архив 2024) 8 институт МАИ - это IT 2024                  NaN   \n",
       "59042  (Архив 2024) 8 институт МАИ - это IT 2024              70507.0   \n",
       "59043  (Архив 2024) 8 институт МАИ - это IT 2024                  2.0   \n",
       "\n",
       "                                                    text  \n",
       "59039  Еще 5-ть мест на экскурсию для перваков 8 инст...  \n",
       "59040  👀 Мы знаем как волнительна и тревожна для перв...  \n",
       "59041  👀 Мы знаем как волнительна и тревожна для перв...  \n",
       "59042  8️⃣ Дорогие родители студентов 1 курса 8 инсти...  \n",
       "59043  Вадим Кондаратцев, академический руководитель ...  "
      ]
     },
     "execution_count": 8,
     "metadata": {},
     "output_type": "execute_result"
    }
   ],
   "source": [
    "df.tail()"
   ]
  },
  {
   "cell_type": "markdown",
   "metadata": {
    "id": "mFyo-mgyt3EU"
   },
   "source": [
    "### Диалоги"
   ]
  },
  {
   "cell_type": "code",
   "execution_count": 9,
   "metadata": {
    "id": "-ZtlQC-Q49ir"
   },
   "outputs": [],
   "source": [
    "df['global_id'] = df['source'] + '_' + df['id'].astype(int).astype(str)\n",
    "df['global_parent_id'] = df.apply(lambda r: f\"{r.source}_{int(r.reply_to_message_id)}\"\n",
    "                                           if pd.notna(r.reply_to_message_id) else None,\n",
    "                                  axis=1)"
   ]
  },
  {
   "cell_type": "code",
   "execution_count": 10,
   "metadata": {
    "id": "uxn12wKUGb00"
   },
   "outputs": [],
   "source": [
    "all_gids = set(df['global_id'])"
   ]
  },
  {
   "cell_type": "code",
   "execution_count": 11,
   "metadata": {
    "id": "hMa-JdWKAtfr"
   },
   "outputs": [],
   "source": [
    "from collections import defaultdict\n",
    "children = defaultdict(list)\n",
    "for row in df.itertuples():\n",
    "    gid  = row.global_id\n",
    "    pgid = row.global_parent_id\n",
    "    if pgid and pgid in all_gids:\n",
    "        children[pgid].append(gid)"
   ]
  },
  {
   "cell_type": "code",
   "execution_count": 12,
   "metadata": {
    "id": "eJdup7hRA4sn"
   },
   "outputs": [],
   "source": [
    "roots = [\n",
    "    row.global_id for row in df.itertuples()\n",
    "    if not row.global_parent_id or row.global_parent_id not in all_gids\n",
    "]"
   ]
  },
  {
   "cell_type": "code",
   "execution_count": 13,
   "metadata": {
    "id": "Xpk6ufFaBAqi"
   },
   "outputs": [],
   "source": [
    "def collect_paths(gid, path=None):\n",
    "    path = (path or []) + [gid]\n",
    "    if gid not in children or not children[gid]:\n",
    "        yield path\n",
    "    else:\n",
    "        for child in children[gid]:\n",
    "            yield from collect_paths(child, path)\n",
    "\n",
    "dialog_paths = []\n",
    "for root in roots:\n",
    "    dialog_paths.extend(collect_paths(root))"
   ]
  },
  {
   "cell_type": "code",
   "execution_count": 14,
   "metadata": {
    "id": "WTFFjO6SD7U8"
   },
   "outputs": [],
   "source": [
    "info_map = df.set_index('global_id')[['from','id', 'text']].to_dict('index')\n",
    "records = []\n",
    "for thread_id, path in enumerate(dialog_paths, 1):\n",
    "    plain, ann, parts = [], [], []\n",
    "    for gid in path:\n",
    "        rec  = info_map[gid]\n",
    "        nick = rec['from']\n",
    "        uid = rec['id']\n",
    "        txt  = rec['text']\n",
    "        plain.append(txt)\n",
    "        ann.append(f\"[{nick} ({uid})] {txt}\")\n",
    "        parts.append((nick, uid))\n",
    "    records.append({\n",
    "        'thread_id':        thread_id,\n",
    "        'root_global_id':   path[0],\n",
    "        'turns':            len(path),\n",
    "        'dialog_plain':     \"\\n\".join(plain),\n",
    "        'dialog_annotated': \"\\n\".join(ann),\n",
    "        'participants':     parts,\n",
    "        'global_ids':       path\n",
    "    })\n",
    "\n",
    "threads_df = pd.DataFrame(records)"
   ]
  },
  {
   "cell_type": "code",
   "execution_count": 15,
   "metadata": {
    "colab": {
     "base_uri": "https://localhost:8080/",
     "height": 892
    },
    "executionInfo": {
     "elapsed": 489,
     "status": "ok",
     "timestamp": 1745872681055,
     "user": {
      "displayName": "Mariya Soloveva",
      "userId": "10867533629666462341"
     },
     "user_tz": -180
    },
    "id": "ZG_1_B0SC9JH",
    "outputId": "49d5365a-1323-4878-8bd9-669982fb12d7"
   },
   "outputs": [
    {
     "data": {
      "text/html": [
       "<div>\n",
       "<style scoped>\n",
       "    .dataframe tbody tr th:only-of-type {\n",
       "        vertical-align: middle;\n",
       "    }\n",
       "\n",
       "    .dataframe tbody tr th {\n",
       "        vertical-align: top;\n",
       "    }\n",
       "\n",
       "    .dataframe thead th {\n",
       "        text-align: right;\n",
       "    }\n",
       "</style>\n",
       "<table border=\"1\" class=\"dataframe\">\n",
       "  <thead>\n",
       "    <tr style=\"text-align: right;\">\n",
       "      <th></th>\n",
       "      <th>thread_id</th>\n",
       "      <th>root_global_id</th>\n",
       "      <th>turns</th>\n",
       "      <th>dialog_plain</th>\n",
       "      <th>dialog_annotated</th>\n",
       "      <th>participants</th>\n",
       "      <th>global_ids</th>\n",
       "    </tr>\n",
       "  </thead>\n",
       "  <tbody>\n",
       "    <tr>\n",
       "      <th>0</th>\n",
       "      <td>1</td>\n",
       "      <td>chat2021_6</td>\n",
       "      <td>1</td>\n",
       "      <td>Порядок распределения по кафедрам/направлениям...</td>\n",
       "      <td>[Институт №8 МАИ 2021 (6)] Порядок распределен...</td>\n",
       "      <td>[(Институт №8 МАИ 2021, 6)]</td>\n",
       "      <td>[chat2021_6]</td>\n",
       "    </tr>\n",
       "    <tr>\n",
       "      <th>1</th>\n",
       "      <td>2</td>\n",
       "      <td>chat2021_7</td>\n",
       "      <td>1</td>\n",
       "      <td>Порядок получения общежития При зачислении мес...</td>\n",
       "      <td>[Институт №8 МАИ 2021 (7)] Порядок получения о...</td>\n",
       "      <td>[(Институт №8 МАИ 2021, 7)]</td>\n",
       "      <td>[chat2021_7]</td>\n",
       "    </tr>\n",
       "    <tr>\n",
       "      <th>2</th>\n",
       "      <td>3</td>\n",
       "      <td>chat2021_10</td>\n",
       "      <td>1</td>\n",
       "      <td>Возможность заселения в одну комнату знакомых/...</td>\n",
       "      <td>[Институт №8 МАИ 2021 (10)] Возможность заселе...</td>\n",
       "      <td>[(Институт №8 МАИ 2021, 10)]</td>\n",
       "      <td>[chat2021_10]</td>\n",
       "    </tr>\n",
       "    <tr>\n",
       "      <th>3</th>\n",
       "      <td>4</td>\n",
       "      <td>chat2021_11</td>\n",
       "      <td>1</td>\n",
       "      <td>Перевод между направлениями 8 института. Перев...</td>\n",
       "      <td>[Институт №8 МАИ 2021 (11)] Перевод между напр...</td>\n",
       "      <td>[(Институт №8 МАИ 2021, 11)]</td>\n",
       "      <td>[chat2021_11]</td>\n",
       "    </tr>\n",
       "    <tr>\n",
       "      <th>4</th>\n",
       "      <td>5</td>\n",
       "      <td>chat2021_12</td>\n",
       "      <td>1</td>\n",
       "      <td>Программа обучения программированию на 1 курсе...</td>\n",
       "      <td>[Институт №8 МАИ 2021 (12)] Программа обучения...</td>\n",
       "      <td>[(Институт №8 МАИ 2021, 12)]</td>\n",
       "      <td>[chat2021_12]</td>\n",
       "    </tr>\n",
       "    <tr>\n",
       "      <th>...</th>\n",
       "      <td>...</td>\n",
       "      <td>...</td>\n",
       "      <td>...</td>\n",
       "      <td>...</td>\n",
       "      <td>...</td>\n",
       "      <td>...</td>\n",
       "      <td>...</td>\n",
       "    </tr>\n",
       "    <tr>\n",
       "      <th>42977</th>\n",
       "      <td>42978</td>\n",
       "      <td>chat2024_70489</td>\n",
       "      <td>1</td>\n",
       "      <td>👀 Студенты, а вы помните крышесносную приемную...</td>\n",
       "      <td>[Максим Приемка (70489)] 👀 Студенты, а вы помн...</td>\n",
       "      <td>[(Максим Приемка, 70489)]</td>\n",
       "      <td>[chat2024_70489]</td>\n",
       "    </tr>\n",
       "    <tr>\n",
       "      <th>42978</th>\n",
       "      <td>42979</td>\n",
       "      <td>chat2024_70490</td>\n",
       "      <td>1</td>\n",
       "      <td>Еще 5-ть мест на экскурсию для перваков 8 инст...</td>\n",
       "      <td>[Максим Приемка (70490)] Еще 5-ть мест на экск...</td>\n",
       "      <td>[(Максим Приемка, 70490)]</td>\n",
       "      <td>[chat2024_70490]</td>\n",
       "    </tr>\n",
       "    <tr>\n",
       "      <th>42979</th>\n",
       "      <td>42980</td>\n",
       "      <td>chat2024_70505</td>\n",
       "      <td>1</td>\n",
       "      <td>👀 Мы знаем как волнительна и тревожна для перв...</td>\n",
       "      <td>[Максим Приемка (70505)] 👀 Мы знаем как волнит...</td>\n",
       "      <td>[(Максим Приемка, 70505)]</td>\n",
       "      <td>[chat2024_70505]</td>\n",
       "    </tr>\n",
       "    <tr>\n",
       "      <th>42980</th>\n",
       "      <td>42981</td>\n",
       "      <td>chat2024_70507</td>\n",
       "      <td>2</td>\n",
       "      <td>👀 Мы знаем как волнительна и тревожна для перв...</td>\n",
       "      <td>[(Архив 2024) 8 институт МАИ - это IT 2024 (70...</td>\n",
       "      <td>[((Архив 2024) 8 институт МАИ - это IT 2024, 7...</td>\n",
       "      <td>[chat2024_70507, chat2024_70509]</td>\n",
       "    </tr>\n",
       "    <tr>\n",
       "      <th>42981</th>\n",
       "      <td>42982</td>\n",
       "      <td>chat2024_70511</td>\n",
       "      <td>1</td>\n",
       "      <td>Вадим Кондаратцев, академический руководитель ...</td>\n",
       "      <td>[(Архив 2024) 8 институт МАИ - это IT 2024 (70...</td>\n",
       "      <td>[((Архив 2024) 8 институт МАИ - это IT 2024, 7...</td>\n",
       "      <td>[chat2024_70511]</td>\n",
       "    </tr>\n",
       "  </tbody>\n",
       "</table>\n",
       "<p>42982 rows × 7 columns</p>\n",
       "</div>"
      ],
      "text/plain": [
       "       thread_id  root_global_id  turns  \\\n",
       "0              1      chat2021_6      1   \n",
       "1              2      chat2021_7      1   \n",
       "2              3     chat2021_10      1   \n",
       "3              4     chat2021_11      1   \n",
       "4              5     chat2021_12      1   \n",
       "...          ...             ...    ...   \n",
       "42977      42978  chat2024_70489      1   \n",
       "42978      42979  chat2024_70490      1   \n",
       "42979      42980  chat2024_70505      1   \n",
       "42980      42981  chat2024_70507      2   \n",
       "42981      42982  chat2024_70511      1   \n",
       "\n",
       "                                            dialog_plain  \\\n",
       "0      Порядок распределения по кафедрам/направлениям...   \n",
       "1      Порядок получения общежития При зачислении мес...   \n",
       "2      Возможность заселения в одну комнату знакомых/...   \n",
       "3      Перевод между направлениями 8 института. Перев...   \n",
       "4      Программа обучения программированию на 1 курсе...   \n",
       "...                                                  ...   \n",
       "42977  👀 Студенты, а вы помните крышесносную приемную...   \n",
       "42978  Еще 5-ть мест на экскурсию для перваков 8 инст...   \n",
       "42979  👀 Мы знаем как волнительна и тревожна для перв...   \n",
       "42980  👀 Мы знаем как волнительна и тревожна для перв...   \n",
       "42981  Вадим Кондаратцев, академический руководитель ...   \n",
       "\n",
       "                                        dialog_annotated  \\\n",
       "0      [Институт №8 МАИ 2021 (6)] Порядок распределен...   \n",
       "1      [Институт №8 МАИ 2021 (7)] Порядок получения о...   \n",
       "2      [Институт №8 МАИ 2021 (10)] Возможность заселе...   \n",
       "3      [Институт №8 МАИ 2021 (11)] Перевод между напр...   \n",
       "4      [Институт №8 МАИ 2021 (12)] Программа обучения...   \n",
       "...                                                  ...   \n",
       "42977  [Максим Приемка (70489)] 👀 Студенты, а вы помн...   \n",
       "42978  [Максим Приемка (70490)] Еще 5-ть мест на экск...   \n",
       "42979  [Максим Приемка (70505)] 👀 Мы знаем как волнит...   \n",
       "42980  [(Архив 2024) 8 институт МАИ - это IT 2024 (70...   \n",
       "42981  [(Архив 2024) 8 институт МАИ - это IT 2024 (70...   \n",
       "\n",
       "                                            participants  \\\n",
       "0                            [(Институт №8 МАИ 2021, 6)]   \n",
       "1                            [(Институт №8 МАИ 2021, 7)]   \n",
       "2                           [(Институт №8 МАИ 2021, 10)]   \n",
       "3                           [(Институт №8 МАИ 2021, 11)]   \n",
       "4                           [(Институт №8 МАИ 2021, 12)]   \n",
       "...                                                  ...   \n",
       "42977                          [(Максим Приемка, 70489)]   \n",
       "42978                          [(Максим Приемка, 70490)]   \n",
       "42979                          [(Максим Приемка, 70505)]   \n",
       "42980  [((Архив 2024) 8 институт МАИ - это IT 2024, 7...   \n",
       "42981  [((Архив 2024) 8 институт МАИ - это IT 2024, 7...   \n",
       "\n",
       "                             global_ids  \n",
       "0                          [chat2021_6]  \n",
       "1                          [chat2021_7]  \n",
       "2                         [chat2021_10]  \n",
       "3                         [chat2021_11]  \n",
       "4                         [chat2021_12]  \n",
       "...                                 ...  \n",
       "42977                  [chat2024_70489]  \n",
       "42978                  [chat2024_70490]  \n",
       "42979                  [chat2024_70505]  \n",
       "42980  [chat2024_70507, chat2024_70509]  \n",
       "42981                  [chat2024_70511]  \n",
       "\n",
       "[42982 rows x 7 columns]"
      ]
     },
     "execution_count": 15,
     "metadata": {},
     "output_type": "execute_result"
    }
   ],
   "source": [
    "threads_df"
   ]
  },
  {
   "cell_type": "code",
   "execution_count": 16,
   "metadata": {
    "colab": {
     "base_uri": "https://localhost:8080/",
     "height": 140
    },
    "executionInfo": {
     "elapsed": 22,
     "status": "ok",
     "timestamp": 1745872682865,
     "user": {
      "displayName": "Mariya Soloveva",
      "userId": "10867533629666462341"
     },
     "user_tz": -180
    },
    "id": "ALKEPn_HHEZO",
    "outputId": "763090b3-b05e-4e7e-dbb0-fc77c96ff6f2"
   },
   "outputs": [
    {
     "data": {
      "text/plain": [
       "'Староста Задачи старосты\\nПередавать информацию от дирекции и начальника курса, задавать им вопросы, интересующие студентов: староста - лицо группы; связываться с преподавателями, передавать от них информацию и задавать вопросы; отмечать посещаемость своей группы, передавать информацию о ней преподавателям и дирекции; посещать собрания старост. \\nКак стать старостой:\\nЕсть 2 исхода, как будет решено, кто будет старостой группы. 1й -- Выборы, 2й -- назначение дирекцией. Обычно старосте, со второго семестра доплачивают 670 рублей. В случае сильного желания, вы можете связаться со своим начальником курса и выразить его (желание). Основные задачи старосты: информирование группы, учет посещаемости.'"
      ]
     },
     "execution_count": 16,
     "metadata": {},
     "output_type": "execute_result"
    }
   ],
   "source": [
    "threads_df.dialog_plain[10]"
   ]
  },
  {
   "cell_type": "code",
   "execution_count": 17,
   "metadata": {
    "colab": {
     "base_uri": "https://localhost:8080/",
     "height": 431
    },
    "executionInfo": {
     "elapsed": 112,
     "status": "ok",
     "timestamp": 1745872717836,
     "user": {
      "displayName": "Mariya Soloveva",
      "userId": "10867533629666462341"
     },
     "user_tz": -180
    },
    "id": "4fKKVdKjBlD-",
    "outputId": "fc12de21-6963-42ca-fd54-7437ae090e21"
   },
   "outputs": [
    {
     "data": {
      "text/html": [
       "<div>\n",
       "<style scoped>\n",
       "    .dataframe tbody tr th:only-of-type {\n",
       "        vertical-align: middle;\n",
       "    }\n",
       "\n",
       "    .dataframe tbody tr th {\n",
       "        vertical-align: top;\n",
       "    }\n",
       "\n",
       "    .dataframe thead th {\n",
       "        text-align: right;\n",
       "    }\n",
       "</style>\n",
       "<table border=\"1\" class=\"dataframe\">\n",
       "  <thead>\n",
       "    <tr style=\"text-align: right;\">\n",
       "      <th></th>\n",
       "      <th>thread_id</th>\n",
       "      <th>root_global_id</th>\n",
       "      <th>turns</th>\n",
       "      <th>dialog_plain</th>\n",
       "      <th>dialog_annotated</th>\n",
       "      <th>participants</th>\n",
       "      <th>global_ids</th>\n",
       "    </tr>\n",
       "  </thead>\n",
       "  <tbody>\n",
       "    <tr>\n",
       "      <th>15</th>\n",
       "      <td>16</td>\n",
       "      <td>chat2021_27</td>\n",
       "      <td>2</td>\n",
       "      <td>Здравствуйте. Нужны ли какие-нибудь справки дл...</td>\n",
       "      <td>[Василий Захаров (27)] Здравствуйте. Нужны ли ...</td>\n",
       "      <td>[(Василий Захаров, 27), (Институт №8 МАИ Чат, ...</td>\n",
       "      <td>[chat2021_27, chat2021_28]</td>\n",
       "    </tr>\n",
       "    <tr>\n",
       "      <th>16</th>\n",
       "      <td>17</td>\n",
       "      <td>chat2021_29</td>\n",
       "      <td>2</td>\n",
       "      <td>Ну лист диспансерный, форма 086-У\\nСправка по ...</td>\n",
       "      <td>[Василий Захаров (29)] Ну лист диспансерный, ф...</td>\n",
       "      <td>[(Василий Захаров, 29), (Институт №8 МАИ Чат, ...</td>\n",
       "      <td>[chat2021_29, chat2021_30]</td>\n",
       "    </tr>\n",
       "    <tr>\n",
       "      <th>19</th>\n",
       "      <td>20</td>\n",
       "      <td>chat2021_40</td>\n",
       "      <td>2</td>\n",
       "      <td>Ключевые даты приемной кампании на направления...</td>\n",
       "      <td>[Институт №8 МАИ 2021 (40)] Ключевые даты прие...</td>\n",
       "      <td>[(Институт №8 МАИ 2021, 40), (Институт №8 МАИ ...</td>\n",
       "      <td>[chat2021_40, chat2021_42]</td>\n",
       "    </tr>\n",
       "    <tr>\n",
       "      <th>24</th>\n",
       "      <td>25</td>\n",
       "      <td>chat2021_67</td>\n",
       "      <td>2</td>\n",
       "      <td>Если уже подал документы, но не указал результ...</td>\n",
       "      <td>[Уля (67)] Если уже подал документы, но не ука...</td>\n",
       "      <td>[(Уля, 67), (Институт №8 МАИ Чат, 68)]</td>\n",
       "      <td>[chat2021_67, chat2021_68]</td>\n",
       "    </tr>\n",
       "    <tr>\n",
       "      <th>25</th>\n",
       "      <td>26</td>\n",
       "      <td>chat2021_67</td>\n",
       "      <td>2</td>\n",
       "      <td>Если уже подал документы, но не указал результ...</td>\n",
       "      <td>[Уля (67)] Если уже подал документы, но не ука...</td>\n",
       "      <td>[(Уля, 67), (Институт №8 МАИ Чат, 69)]</td>\n",
       "      <td>[chat2021_67, chat2021_69]</td>\n",
       "    </tr>\n",
       "  </tbody>\n",
       "</table>\n",
       "</div>"
      ],
      "text/plain": [
       "    thread_id root_global_id  turns  \\\n",
       "15         16    chat2021_27      2   \n",
       "16         17    chat2021_29      2   \n",
       "19         20    chat2021_40      2   \n",
       "24         25    chat2021_67      2   \n",
       "25         26    chat2021_67      2   \n",
       "\n",
       "                                         dialog_plain  \\\n",
       "15  Здравствуйте. Нужны ли какие-нибудь справки дл...   \n",
       "16  Ну лист диспансерный, форма 086-У\\nСправка по ...   \n",
       "19  Ключевые даты приемной кампании на направления...   \n",
       "24  Если уже подал документы, но не указал результ...   \n",
       "25  Если уже подал документы, но не указал результ...   \n",
       "\n",
       "                                     dialog_annotated  \\\n",
       "15  [Василий Захаров (27)] Здравствуйте. Нужны ли ...   \n",
       "16  [Василий Захаров (29)] Ну лист диспансерный, ф...   \n",
       "19  [Институт №8 МАИ 2021 (40)] Ключевые даты прие...   \n",
       "24  [Уля (67)] Если уже подал документы, но не ука...   \n",
       "25  [Уля (67)] Если уже подал документы, но не ука...   \n",
       "\n",
       "                                         participants  \\\n",
       "15  [(Василий Захаров, 27), (Институт №8 МАИ Чат, ...   \n",
       "16  [(Василий Захаров, 29), (Институт №8 МАИ Чат, ...   \n",
       "19  [(Институт №8 МАИ 2021, 40), (Институт №8 МАИ ...   \n",
       "24             [(Уля, 67), (Институт №8 МАИ Чат, 68)]   \n",
       "25             [(Уля, 67), (Институт №8 МАИ Чат, 69)]   \n",
       "\n",
       "                    global_ids  \n",
       "15  [chat2021_27, chat2021_28]  \n",
       "16  [chat2021_29, chat2021_30]  \n",
       "19  [chat2021_40, chat2021_42]  \n",
       "24  [chat2021_67, chat2021_68]  \n",
       "25  [chat2021_67, chat2021_69]  "
      ]
     },
     "execution_count": 17,
     "metadata": {},
     "output_type": "execute_result"
    }
   ],
   "source": [
    "threads_df.query(\"turns == 2\").head()"
   ]
  },
  {
   "cell_type": "code",
   "execution_count": 19,
   "metadata": {},
   "outputs": [],
   "source": [
    "threads_df.to_csv('threads.csv')"
   ]
  },
  {
   "cell_type": "markdown",
   "metadata": {
    "id": "PE_U4ULNISKm"
   },
   "source": [
    "## Подготовка к тематическому моделированию"
   ]
  },
  {
   "cell_type": "code",
   "execution_count": null,
   "metadata": {
    "colab": {
     "base_uri": "https://localhost:8080/"
    },
    "collapsed": true,
    "executionInfo": {
     "elapsed": 122533,
     "status": "ok",
     "timestamp": 1745872843127,
     "user": {
      "displayName": "Mariya Soloveva",
      "userId": "10867533629666462341"
     },
     "user_tz": -180
    },
    "id": "EwkuqhWD-9xn",
    "outputId": "ac992eca-de6d-432a-8aed-cc8fb452b78d"
   },
   "outputs": [
    {
     "name": "stdout",
     "output_type": "stream",
     "text": [
      "Collecting rusenttokenize\n",
      "  Downloading rusenttokenize-0.0.5-py3-none-any.whl.metadata (2.7 kB)\n",
      "Requirement already satisfied: spacy[transformers] in /usr/local/lib/python3.11/dist-packages (3.8.5)\n",
      "Requirement already satisfied: spacy-legacy<3.1.0,>=3.0.11 in /usr/local/lib/python3.11/dist-packages (from spacy[transformers]) (3.0.12)\n",
      "Requirement already satisfied: spacy-loggers<2.0.0,>=1.0.0 in /usr/local/lib/python3.11/dist-packages (from spacy[transformers]) (1.0.5)\n",
      "Requirement already satisfied: murmurhash<1.1.0,>=0.28.0 in /usr/local/lib/python3.11/dist-packages (from spacy[transformers]) (1.0.12)\n",
      "Requirement already satisfied: cymem<2.1.0,>=2.0.2 in /usr/local/lib/python3.11/dist-packages (from spacy[transformers]) (2.0.11)\n",
      "Requirement already satisfied: preshed<3.1.0,>=3.0.2 in /usr/local/lib/python3.11/dist-packages (from spacy[transformers]) (3.0.9)\n",
      "Requirement already satisfied: thinc<8.4.0,>=8.3.4 in /usr/local/lib/python3.11/dist-packages (from spacy[transformers]) (8.3.6)\n",
      "Requirement already satisfied: wasabi<1.2.0,>=0.9.1 in /usr/local/lib/python3.11/dist-packages (from spacy[transformers]) (1.1.3)\n",
      "Requirement already satisfied: srsly<3.0.0,>=2.4.3 in /usr/local/lib/python3.11/dist-packages (from spacy[transformers]) (2.5.1)\n",
      "Requirement already satisfied: catalogue<2.1.0,>=2.0.6 in /usr/local/lib/python3.11/dist-packages (from spacy[transformers]) (2.0.10)\n",
      "Requirement already satisfied: weasel<0.5.0,>=0.1.0 in /usr/local/lib/python3.11/dist-packages (from spacy[transformers]) (0.4.1)\n",
      "Requirement already satisfied: typer<1.0.0,>=0.3.0 in /usr/local/lib/python3.11/dist-packages (from spacy[transformers]) (0.15.2)\n",
      "Requirement already satisfied: tqdm<5.0.0,>=4.38.0 in /usr/local/lib/python3.11/dist-packages (from spacy[transformers]) (4.67.1)\n",
      "Requirement already satisfied: numpy>=1.19.0 in /usr/local/lib/python3.11/dist-packages (from spacy[transformers]) (2.0.2)\n",
      "Requirement already satisfied: requests<3.0.0,>=2.13.0 in /usr/local/lib/python3.11/dist-packages (from spacy[transformers]) (2.32.3)\n",
      "Requirement already satisfied: pydantic!=1.8,!=1.8.1,<3.0.0,>=1.7.4 in /usr/local/lib/python3.11/dist-packages (from spacy[transformers]) (2.11.3)\n",
      "Requirement already satisfied: jinja2 in /usr/local/lib/python3.11/dist-packages (from spacy[transformers]) (3.1.6)\n",
      "Requirement already satisfied: setuptools in /usr/local/lib/python3.11/dist-packages (from spacy[transformers]) (75.2.0)\n",
      "Requirement already satisfied: packaging>=20.0 in /usr/local/lib/python3.11/dist-packages (from spacy[transformers]) (24.2)\n",
      "Requirement already satisfied: langcodes<4.0.0,>=3.2.0 in /usr/local/lib/python3.11/dist-packages (from spacy[transformers]) (3.5.0)\n",
      "Collecting spacy_transformers<1.4.0,>=1.1.2 (from spacy[transformers])\n",
      "  Downloading spacy_transformers-1.3.8-cp311-cp311-manylinux_2_17_x86_64.manylinux2014_x86_64.whl.metadata (7.0 kB)\n",
      "Requirement already satisfied: language-data>=1.2 in /usr/local/lib/python3.11/dist-packages (from langcodes<4.0.0,>=3.2.0->spacy[transformers]) (1.3.0)\n",
      "Requirement already satisfied: annotated-types>=0.6.0 in /usr/local/lib/python3.11/dist-packages (from pydantic!=1.8,!=1.8.1,<3.0.0,>=1.7.4->spacy[transformers]) (0.7.0)\n",
      "Requirement already satisfied: pydantic-core==2.33.1 in /usr/local/lib/python3.11/dist-packages (from pydantic!=1.8,!=1.8.1,<3.0.0,>=1.7.4->spacy[transformers]) (2.33.1)\n",
      "Requirement already satisfied: typing-extensions>=4.12.2 in /usr/local/lib/python3.11/dist-packages (from pydantic!=1.8,!=1.8.1,<3.0.0,>=1.7.4->spacy[transformers]) (4.13.2)\n",
      "Requirement already satisfied: typing-inspection>=0.4.0 in /usr/local/lib/python3.11/dist-packages (from pydantic!=1.8,!=1.8.1,<3.0.0,>=1.7.4->spacy[transformers]) (0.4.0)\n",
      "Requirement already satisfied: charset-normalizer<4,>=2 in /usr/local/lib/python3.11/dist-packages (from requests<3.0.0,>=2.13.0->spacy[transformers]) (3.4.1)\n",
      "Requirement already satisfied: idna<4,>=2.5 in /usr/local/lib/python3.11/dist-packages (from requests<3.0.0,>=2.13.0->spacy[transformers]) (3.10)\n",
      "Requirement already satisfied: urllib3<3,>=1.21.1 in /usr/local/lib/python3.11/dist-packages (from requests<3.0.0,>=2.13.0->spacy[transformers]) (2.4.0)\n",
      "Requirement already satisfied: certifi>=2017.4.17 in /usr/local/lib/python3.11/dist-packages (from requests<3.0.0,>=2.13.0->spacy[transformers]) (2025.1.31)\n",
      "Collecting transformers<4.50.0,>=3.4.0 (from spacy_transformers<1.4.0,>=1.1.2->spacy[transformers])\n",
      "  Downloading transformers-4.49.0-py3-none-any.whl.metadata (44 kB)\n",
      "\u001b[2K     \u001b[90m━━━━━━━━━━━━━━━━━━━━━━━━━━━━━━━━━━━━━━━━\u001b[0m \u001b[32m44.0/44.0 kB\u001b[0m \u001b[31m2.8 MB/s\u001b[0m eta \u001b[36m0:00:00\u001b[0m\n",
      "\u001b[?25hRequirement already satisfied: torch>=1.8.0 in /usr/local/lib/python3.11/dist-packages (from spacy_transformers<1.4.0,>=1.1.2->spacy[transformers]) (2.6.0+cu124)\n",
      "Collecting spacy-alignments<1.0.0,>=0.7.2 (from spacy_transformers<1.4.0,>=1.1.2->spacy[transformers])\n",
      "  Downloading spacy_alignments-0.9.1-cp311-cp311-manylinux_2_17_x86_64.manylinux2014_x86_64.whl.metadata (2.7 kB)\n",
      "Requirement already satisfied: blis<1.4.0,>=1.3.0 in /usr/local/lib/python3.11/dist-packages (from thinc<8.4.0,>=8.3.4->spacy[transformers]) (1.3.0)\n",
      "Requirement already satisfied: confection<1.0.0,>=0.0.1 in /usr/local/lib/python3.11/dist-packages (from thinc<8.4.0,>=8.3.4->spacy[transformers]) (0.1.5)\n",
      "Requirement already satisfied: click>=8.0.0 in /usr/local/lib/python3.11/dist-packages (from typer<1.0.0,>=0.3.0->spacy[transformers]) (8.1.8)\n",
      "Requirement already satisfied: shellingham>=1.3.0 in /usr/local/lib/python3.11/dist-packages (from typer<1.0.0,>=0.3.0->spacy[transformers]) (1.5.4)\n",
      "Requirement already satisfied: rich>=10.11.0 in /usr/local/lib/python3.11/dist-packages (from typer<1.0.0,>=0.3.0->spacy[transformers]) (13.9.4)\n",
      "Requirement already satisfied: cloudpathlib<1.0.0,>=0.7.0 in /usr/local/lib/python3.11/dist-packages (from weasel<0.5.0,>=0.1.0->spacy[transformers]) (0.21.0)\n",
      "Requirement already satisfied: smart-open<8.0.0,>=5.2.1 in /usr/local/lib/python3.11/dist-packages (from weasel<0.5.0,>=0.1.0->spacy[transformers]) (7.1.0)\n",
      "Requirement already satisfied: MarkupSafe>=2.0 in /usr/local/lib/python3.11/dist-packages (from jinja2->spacy[transformers]) (3.0.2)\n",
      "Requirement already satisfied: marisa-trie>=1.1.0 in /usr/local/lib/python3.11/dist-packages (from language-data>=1.2->langcodes<4.0.0,>=3.2.0->spacy[transformers]) (1.2.1)\n",
      "Requirement already satisfied: markdown-it-py>=2.2.0 in /usr/local/lib/python3.11/dist-packages (from rich>=10.11.0->typer<1.0.0,>=0.3.0->spacy[transformers]) (3.0.0)\n",
      "Requirement already satisfied: pygments<3.0.0,>=2.13.0 in /usr/local/lib/python3.11/dist-packages (from rich>=10.11.0->typer<1.0.0,>=0.3.0->spacy[transformers]) (2.19.1)\n",
      "Requirement already satisfied: wrapt in /usr/local/lib/python3.11/dist-packages (from smart-open<8.0.0,>=5.2.1->weasel<0.5.0,>=0.1.0->spacy[transformers]) (1.17.2)\n",
      "Requirement already satisfied: filelock in /usr/local/lib/python3.11/dist-packages (from torch>=1.8.0->spacy_transformers<1.4.0,>=1.1.2->spacy[transformers]) (3.18.0)\n",
      "Requirement already satisfied: networkx in /usr/local/lib/python3.11/dist-packages (from torch>=1.8.0->spacy_transformers<1.4.0,>=1.1.2->spacy[transformers]) (3.4.2)\n",
      "Requirement already satisfied: fsspec in /usr/local/lib/python3.11/dist-packages (from torch>=1.8.0->spacy_transformers<1.4.0,>=1.1.2->spacy[transformers]) (2025.3.2)\n",
      "Collecting nvidia-cuda-nvrtc-cu12==12.4.127 (from torch>=1.8.0->spacy_transformers<1.4.0,>=1.1.2->spacy[transformers])\n",
      "  Downloading nvidia_cuda_nvrtc_cu12-12.4.127-py3-none-manylinux2014_x86_64.whl.metadata (1.5 kB)\n",
      "Collecting nvidia-cuda-runtime-cu12==12.4.127 (from torch>=1.8.0->spacy_transformers<1.4.0,>=1.1.2->spacy[transformers])\n",
      "  Downloading nvidia_cuda_runtime_cu12-12.4.127-py3-none-manylinux2014_x86_64.whl.metadata (1.5 kB)\n",
      "Collecting nvidia-cuda-cupti-cu12==12.4.127 (from torch>=1.8.0->spacy_transformers<1.4.0,>=1.1.2->spacy[transformers])\n",
      "  Downloading nvidia_cuda_cupti_cu12-12.4.127-py3-none-manylinux2014_x86_64.whl.metadata (1.6 kB)\n",
      "Collecting nvidia-cudnn-cu12==9.1.0.70 (from torch>=1.8.0->spacy_transformers<1.4.0,>=1.1.2->spacy[transformers])\n",
      "  Downloading nvidia_cudnn_cu12-9.1.0.70-py3-none-manylinux2014_x86_64.whl.metadata (1.6 kB)\n",
      "Collecting nvidia-cublas-cu12==12.4.5.8 (from torch>=1.8.0->spacy_transformers<1.4.0,>=1.1.2->spacy[transformers])\n",
      "  Downloading nvidia_cublas_cu12-12.4.5.8-py3-none-manylinux2014_x86_64.whl.metadata (1.5 kB)\n",
      "Collecting nvidia-cufft-cu12==11.2.1.3 (from torch>=1.8.0->spacy_transformers<1.4.0,>=1.1.2->spacy[transformers])\n",
      "  Downloading nvidia_cufft_cu12-11.2.1.3-py3-none-manylinux2014_x86_64.whl.metadata (1.5 kB)\n",
      "Collecting nvidia-curand-cu12==10.3.5.147 (from torch>=1.8.0->spacy_transformers<1.4.0,>=1.1.2->spacy[transformers])\n",
      "  Downloading nvidia_curand_cu12-10.3.5.147-py3-none-manylinux2014_x86_64.whl.metadata (1.5 kB)\n",
      "Collecting nvidia-cusolver-cu12==11.6.1.9 (from torch>=1.8.0->spacy_transformers<1.4.0,>=1.1.2->spacy[transformers])\n",
      "  Downloading nvidia_cusolver_cu12-11.6.1.9-py3-none-manylinux2014_x86_64.whl.metadata (1.6 kB)\n",
      "Collecting nvidia-cusparse-cu12==12.3.1.170 (from torch>=1.8.0->spacy_transformers<1.4.0,>=1.1.2->spacy[transformers])\n",
      "  Downloading nvidia_cusparse_cu12-12.3.1.170-py3-none-manylinux2014_x86_64.whl.metadata (1.6 kB)\n",
      "Requirement already satisfied: nvidia-cusparselt-cu12==0.6.2 in /usr/local/lib/python3.11/dist-packages (from torch>=1.8.0->spacy_transformers<1.4.0,>=1.1.2->spacy[transformers]) (0.6.2)\n",
      "Requirement already satisfied: nvidia-nccl-cu12==2.21.5 in /usr/local/lib/python3.11/dist-packages (from torch>=1.8.0->spacy_transformers<1.4.0,>=1.1.2->spacy[transformers]) (2.21.5)\n",
      "Requirement already satisfied: nvidia-nvtx-cu12==12.4.127 in /usr/local/lib/python3.11/dist-packages (from torch>=1.8.0->spacy_transformers<1.4.0,>=1.1.2->spacy[transformers]) (12.4.127)\n",
      "Collecting nvidia-nvjitlink-cu12==12.4.127 (from torch>=1.8.0->spacy_transformers<1.4.0,>=1.1.2->spacy[transformers])\n",
      "  Downloading nvidia_nvjitlink_cu12-12.4.127-py3-none-manylinux2014_x86_64.whl.metadata (1.5 kB)\n",
      "Requirement already satisfied: triton==3.2.0 in /usr/local/lib/python3.11/dist-packages (from torch>=1.8.0->spacy_transformers<1.4.0,>=1.1.2->spacy[transformers]) (3.2.0)\n",
      "Requirement already satisfied: sympy==1.13.1 in /usr/local/lib/python3.11/dist-packages (from torch>=1.8.0->spacy_transformers<1.4.0,>=1.1.2->spacy[transformers]) (1.13.1)\n",
      "Requirement already satisfied: mpmath<1.4,>=1.1.0 in /usr/local/lib/python3.11/dist-packages (from sympy==1.13.1->torch>=1.8.0->spacy_transformers<1.4.0,>=1.1.2->spacy[transformers]) (1.3.0)\n",
      "Requirement already satisfied: huggingface-hub<1.0,>=0.26.0 in /usr/local/lib/python3.11/dist-packages (from transformers<4.50.0,>=3.4.0->spacy_transformers<1.4.0,>=1.1.2->spacy[transformers]) (0.30.2)\n",
      "Requirement already satisfied: pyyaml>=5.1 in /usr/local/lib/python3.11/dist-packages (from transformers<4.50.0,>=3.4.0->spacy_transformers<1.4.0,>=1.1.2->spacy[transformers]) (6.0.2)\n",
      "Requirement already satisfied: regex!=2019.12.17 in /usr/local/lib/python3.11/dist-packages (from transformers<4.50.0,>=3.4.0->spacy_transformers<1.4.0,>=1.1.2->spacy[transformers]) (2024.11.6)\n",
      "Requirement already satisfied: tokenizers<0.22,>=0.21 in /usr/local/lib/python3.11/dist-packages (from transformers<4.50.0,>=3.4.0->spacy_transformers<1.4.0,>=1.1.2->spacy[transformers]) (0.21.1)\n",
      "Requirement already satisfied: safetensors>=0.4.1 in /usr/local/lib/python3.11/dist-packages (from transformers<4.50.0,>=3.4.0->spacy_transformers<1.4.0,>=1.1.2->spacy[transformers]) (0.5.3)\n",
      "Requirement already satisfied: mdurl~=0.1 in /usr/local/lib/python3.11/dist-packages (from markdown-it-py>=2.2.0->rich>=10.11.0->typer<1.0.0,>=0.3.0->spacy[transformers]) (0.1.2)\n",
      "Downloading rusenttokenize-0.0.5-py3-none-any.whl (10 kB)\n",
      "Downloading spacy_transformers-1.3.8-cp311-cp311-manylinux_2_17_x86_64.manylinux2014_x86_64.whl (756 kB)\n",
      "\u001b[2K   \u001b[90m━━━━━━━━━━━━━━━━━━━━━━━━━━━━━━━━━━━━━━━━\u001b[0m \u001b[32m756.2/756.2 kB\u001b[0m \u001b[31m20.9 MB/s\u001b[0m eta \u001b[36m0:00:00\u001b[0m\n",
      "\u001b[?25hDownloading spacy_alignments-0.9.1-cp311-cp311-manylinux_2_17_x86_64.manylinux2014_x86_64.whl (313 kB)\n",
      "\u001b[2K   \u001b[90m━━━━━━━━━━━━━━━━━━━━━━━━━━━━━━━━━━━━━━━━\u001b[0m \u001b[32m314.0/314.0 kB\u001b[0m \u001b[31m26.1 MB/s\u001b[0m eta \u001b[36m0:00:00\u001b[0m\n",
      "\u001b[?25hDownloading nvidia_cublas_cu12-12.4.5.8-py3-none-manylinux2014_x86_64.whl (363.4 MB)\n",
      "\u001b[2K   \u001b[90m━━━━━━━━━━━━━━━━━━━━━━━━━━━━━━━━━━━━━━━━\u001b[0m \u001b[32m363.4/363.4 MB\u001b[0m \u001b[31m4.3 MB/s\u001b[0m eta \u001b[36m0:00:00\u001b[0m\n",
      "\u001b[?25hDownloading nvidia_cuda_cupti_cu12-12.4.127-py3-none-manylinux2014_x86_64.whl (13.8 MB)\n",
      "\u001b[2K   \u001b[90m━━━━━━━━━━━━━━━━━━━━━━━━━━━━━━━━━━━━━━━━\u001b[0m \u001b[32m13.8/13.8 MB\u001b[0m \u001b[31m93.8 MB/s\u001b[0m eta \u001b[36m0:00:00\u001b[0m\n",
      "\u001b[?25hDownloading nvidia_cuda_nvrtc_cu12-12.4.127-py3-none-manylinux2014_x86_64.whl (24.6 MB)\n",
      "\u001b[2K   \u001b[90m━━━━━━━━━━━━━━━━━━━━━━━━━━━━━━━━━━━━━━━━\u001b[0m \u001b[32m24.6/24.6 MB\u001b[0m \u001b[31m82.7 MB/s\u001b[0m eta \u001b[36m0:00:00\u001b[0m\n",
      "\u001b[?25hDownloading nvidia_cuda_runtime_cu12-12.4.127-py3-none-manylinux2014_x86_64.whl (883 kB)\n",
      "\u001b[2K   \u001b[90m━━━━━━━━━━━━━━━━━━━━━━━━━━━━━━━━━━━━━━━━\u001b[0m \u001b[32m883.7/883.7 kB\u001b[0m \u001b[31m51.6 MB/s\u001b[0m eta \u001b[36m0:00:00\u001b[0m\n",
      "\u001b[?25hDownloading nvidia_cudnn_cu12-9.1.0.70-py3-none-manylinux2014_x86_64.whl (664.8 MB)\n",
      "\u001b[2K   \u001b[90m━━━━━━━━━━━━━━━━━━━━━━━━━━━━━━━━━━━━━━━━\u001b[0m \u001b[32m664.8/664.8 MB\u001b[0m \u001b[31m1.3 MB/s\u001b[0m eta \u001b[36m0:00:00\u001b[0m\n",
      "\u001b[?25hDownloading nvidia_cufft_cu12-11.2.1.3-py3-none-manylinux2014_x86_64.whl (211.5 MB)\n",
      "\u001b[2K   \u001b[90m━━━━━━━━━━━━━━━━━━━━━━━━━━━━━━━━━━━━━━━━\u001b[0m \u001b[32m211.5/211.5 MB\u001b[0m \u001b[31m5.9 MB/s\u001b[0m eta \u001b[36m0:00:00\u001b[0m\n",
      "\u001b[?25hDownloading nvidia_curand_cu12-10.3.5.147-py3-none-manylinux2014_x86_64.whl (56.3 MB)\n",
      "\u001b[2K   \u001b[90m━━━━━━━━━━━━━━━━━━━━━━━━━━━━━━━━━━━━━━━━\u001b[0m \u001b[32m56.3/56.3 MB\u001b[0m \u001b[31m12.5 MB/s\u001b[0m eta \u001b[36m0:00:00\u001b[0m\n",
      "\u001b[?25hDownloading nvidia_cusolver_cu12-11.6.1.9-py3-none-manylinux2014_x86_64.whl (127.9 MB)\n",
      "\u001b[2K   \u001b[90m━━━━━━━━━━━━━━━━━━━━━━━━━━━━━━━━━━━━━━━━\u001b[0m \u001b[32m127.9/127.9 MB\u001b[0m \u001b[31m7.5 MB/s\u001b[0m eta \u001b[36m0:00:00\u001b[0m\n",
      "\u001b[?25hDownloading nvidia_cusparse_cu12-12.3.1.170-py3-none-manylinux2014_x86_64.whl (207.5 MB)\n",
      "\u001b[2K   \u001b[90m━━━━━━━━━━━━━━━━━━━━━━━━━━━━━━━━━━━━━━━━\u001b[0m \u001b[32m207.5/207.5 MB\u001b[0m \u001b[31m6.1 MB/s\u001b[0m eta \u001b[36m0:00:00\u001b[0m\n",
      "\u001b[?25hDownloading nvidia_nvjitlink_cu12-12.4.127-py3-none-manylinux2014_x86_64.whl (21.1 MB)\n",
      "\u001b[2K   \u001b[90m━━━━━━━━━━━━━━━━━━━━━━━━━━━━━━━━━━━━━━━━\u001b[0m \u001b[32m21.1/21.1 MB\u001b[0m \u001b[31m90.8 MB/s\u001b[0m eta \u001b[36m0:00:00\u001b[0m\n",
      "\u001b[?25hDownloading transformers-4.49.0-py3-none-any.whl (10.0 MB)\n",
      "\u001b[2K   \u001b[90m━━━━━━━━━━━━━━━━━━━━━━━━━━━━━━━━━━━━━━━━\u001b[0m \u001b[32m10.0/10.0 MB\u001b[0m \u001b[31m116.4 MB/s\u001b[0m eta \u001b[36m0:00:00\u001b[0m\n",
      "\u001b[?25hInstalling collected packages: rusenttokenize, spacy-alignments, nvidia-nvjitlink-cu12, nvidia-curand-cu12, nvidia-cufft-cu12, nvidia-cuda-runtime-cu12, nvidia-cuda-nvrtc-cu12, nvidia-cuda-cupti-cu12, nvidia-cublas-cu12, nvidia-cusparse-cu12, nvidia-cudnn-cu12, nvidia-cusolver-cu12, transformers, spacy_transformers\n",
      "  Attempting uninstall: nvidia-nvjitlink-cu12\n",
      "    Found existing installation: nvidia-nvjitlink-cu12 12.5.82\n",
      "    Uninstalling nvidia-nvjitlink-cu12-12.5.82:\n",
      "      Successfully uninstalled nvidia-nvjitlink-cu12-12.5.82\n",
      "  Attempting uninstall: nvidia-curand-cu12\n",
      "    Found existing installation: nvidia-curand-cu12 10.3.6.82\n",
      "    Uninstalling nvidia-curand-cu12-10.3.6.82:\n",
      "      Successfully uninstalled nvidia-curand-cu12-10.3.6.82\n",
      "  Attempting uninstall: nvidia-cufft-cu12\n",
      "    Found existing installation: nvidia-cufft-cu12 11.2.3.61\n",
      "    Uninstalling nvidia-cufft-cu12-11.2.3.61:\n",
      "      Successfully uninstalled nvidia-cufft-cu12-11.2.3.61\n",
      "  Attempting uninstall: nvidia-cuda-runtime-cu12\n",
      "    Found existing installation: nvidia-cuda-runtime-cu12 12.5.82\n",
      "    Uninstalling nvidia-cuda-runtime-cu12-12.5.82:\n",
      "      Successfully uninstalled nvidia-cuda-runtime-cu12-12.5.82\n",
      "  Attempting uninstall: nvidia-cuda-nvrtc-cu12\n",
      "    Found existing installation: nvidia-cuda-nvrtc-cu12 12.5.82\n",
      "    Uninstalling nvidia-cuda-nvrtc-cu12-12.5.82:\n",
      "      Successfully uninstalled nvidia-cuda-nvrtc-cu12-12.5.82\n",
      "  Attempting uninstall: nvidia-cuda-cupti-cu12\n",
      "    Found existing installation: nvidia-cuda-cupti-cu12 12.5.82\n",
      "    Uninstalling nvidia-cuda-cupti-cu12-12.5.82:\n",
      "      Successfully uninstalled nvidia-cuda-cupti-cu12-12.5.82\n",
      "  Attempting uninstall: nvidia-cublas-cu12\n",
      "    Found existing installation: nvidia-cublas-cu12 12.5.3.2\n",
      "    Uninstalling nvidia-cublas-cu12-12.5.3.2:\n",
      "      Successfully uninstalled nvidia-cublas-cu12-12.5.3.2\n",
      "  Attempting uninstall: nvidia-cusparse-cu12\n",
      "    Found existing installation: nvidia-cusparse-cu12 12.5.1.3\n",
      "    Uninstalling nvidia-cusparse-cu12-12.5.1.3:\n",
      "      Successfully uninstalled nvidia-cusparse-cu12-12.5.1.3\n",
      "  Attempting uninstall: nvidia-cudnn-cu12\n",
      "    Found existing installation: nvidia-cudnn-cu12 9.3.0.75\n",
      "    Uninstalling nvidia-cudnn-cu12-9.3.0.75:\n",
      "      Successfully uninstalled nvidia-cudnn-cu12-9.3.0.75\n",
      "  Attempting uninstall: nvidia-cusolver-cu12\n",
      "    Found existing installation: nvidia-cusolver-cu12 11.6.3.83\n",
      "    Uninstalling nvidia-cusolver-cu12-11.6.3.83:\n",
      "      Successfully uninstalled nvidia-cusolver-cu12-11.6.3.83\n",
      "  Attempting uninstall: transformers\n",
      "    Found existing installation: transformers 4.51.3\n",
      "    Uninstalling transformers-4.51.3:\n",
      "      Successfully uninstalled transformers-4.51.3\n",
      "Successfully installed nvidia-cublas-cu12-12.4.5.8 nvidia-cuda-cupti-cu12-12.4.127 nvidia-cuda-nvrtc-cu12-12.4.127 nvidia-cuda-runtime-cu12-12.4.127 nvidia-cudnn-cu12-9.1.0.70 nvidia-cufft-cu12-11.2.1.3 nvidia-curand-cu12-10.3.5.147 nvidia-cusolver-cu12-11.6.1.9 nvidia-cusparse-cu12-12.3.1.170 nvidia-nvjitlink-cu12-12.4.127 rusenttokenize-0.0.5 spacy-alignments-0.9.1 spacy_transformers-1.3.8 transformers-4.49.0\n",
      "Collecting ru-core-news-sm==3.8.0\n",
      "  Downloading https://github.com/explosion/spacy-models/releases/download/ru_core_news_sm-3.8.0/ru_core_news_sm-3.8.0-py3-none-any.whl (15.3 MB)\n",
      "\u001b[2K     \u001b[90m━━━━━━━━━━━━━━━━━━━━━━━━━━━━━━━━━━━━━━━\u001b[0m \u001b[32m15.3/15.3 MB\u001b[0m \u001b[31m106.3 MB/s\u001b[0m eta \u001b[36m0:00:00\u001b[0m\n",
      "\u001b[?25hCollecting pymorphy3>=1.0.0 (from ru-core-news-sm==3.8.0)\n",
      "  Downloading pymorphy3-2.0.3-py3-none-any.whl.metadata (1.9 kB)\n",
      "Collecting dawg2-python>=0.8.0 (from pymorphy3>=1.0.0->ru-core-news-sm==3.8.0)\n",
      "  Downloading dawg2_python-0.9.0-py3-none-any.whl.metadata (7.5 kB)\n",
      "Collecting pymorphy3-dicts-ru (from pymorphy3>=1.0.0->ru-core-news-sm==3.8.0)\n",
      "  Downloading pymorphy3_dicts_ru-2.4.417150.4580142-py2.py3-none-any.whl.metadata (2.0 kB)\n",
      "Downloading pymorphy3-2.0.3-py3-none-any.whl (53 kB)\n",
      "\u001b[2K   \u001b[90m━━━━━━━━━━━━━━━━━━━━━━━━━━━━━━━━━━━━━━━━\u001b[0m \u001b[32m53.8/53.8 kB\u001b[0m \u001b[31m3.3 MB/s\u001b[0m eta \u001b[36m0:00:00\u001b[0m\n",
      "\u001b[?25hDownloading dawg2_python-0.9.0-py3-none-any.whl (9.3 kB)\n",
      "Downloading pymorphy3_dicts_ru-2.4.417150.4580142-py2.py3-none-any.whl (8.4 MB)\n",
      "\u001b[2K   \u001b[90m━━━━━━━━━━━━━━━━━━━━━━━━━━━━━━━━━━━━━━━━\u001b[0m \u001b[32m8.4/8.4 MB\u001b[0m \u001b[31m89.4 MB/s\u001b[0m eta \u001b[36m0:00:00\u001b[0m\n",
      "\u001b[?25hInstalling collected packages: pymorphy3-dicts-ru, dawg2-python, pymorphy3, ru-core-news-sm\n",
      "Successfully installed dawg2-python-0.9.0 pymorphy3-2.0.3 pymorphy3-dicts-ru-2.4.417150.4580142 ru-core-news-sm-3.8.0\n",
      "\u001b[38;5;2m✔ Download and installation successful\u001b[0m\n",
      "You can now load the package via spacy.load('ru_core_news_sm')\n",
      "\u001b[38;5;3m⚠ Restart to reload dependencies\u001b[0m\n",
      "If you are in a Jupyter or Colab notebook, you may need to restart Python in\n",
      "order to load all the package's dependencies. You can do this by selecting the\n",
      "'Restart kernel' or 'Restart runtime' option.\n"
     ]
    }
   ],
   "source": [
    "! pip install spacy[transformers] rusenttokenize\n",
    "! python -m spacy download ru_core_news_sm"
   ]
  },
  {
   "cell_type": "code",
   "execution_count": null,
   "metadata": {
    "id": "APKtbrzoI0s1"
   },
   "outputs": [],
   "source": [
    "import spacy\n",
    "from rusenttokenize import ru_sent_tokenize\n",
    "from string import punctuation\n",
    "\n",
    "nlp = spacy.load(\"ru_core_news_sm\")\n",
    "stop_words = nlp.Defaults.stop_words"
   ]
  },
  {
   "cell_type": "code",
   "execution_count": null,
   "metadata": {
    "id": "i71t2P49JsMK"
   },
   "outputs": [],
   "source": [
    "def preprocess_text(text: str) -> str:\n",
    "    doc = nlp(text)\n",
    "    tokens = []\n",
    "    for tok in doc:\n",
    "        if tok.is_punct:\n",
    "            tokens.append(tok.text)\n",
    "            continue\n",
    "\n",
    "        lemma = tok.lemma_.lower().strip()\n",
    "        if (not lemma\n",
    "            or lemma in stop_words\n",
    "            or lemma.isdigit()\n",
    "            or len(lemma) <= 2\n",
    "           ):\n",
    "            continue\n",
    "        tokens.append(lemma)\n",
    "    return \" \".join(tokens)\n",
    "\n",
    "threads_df['text_proc'] = threads_df['dialog_plain'].apply(preprocess_text)"
   ]
  },
  {
   "cell_type": "code",
   "execution_count": null,
   "metadata": {
    "colab": {
     "base_uri": "https://localhost:8080/",
     "height": 241
    },
    "executionInfo": {
     "elapsed": 42,
     "status": "ok",
     "timestamp": 1745873902453,
     "user": {
      "displayName": "Mariya Soloveva",
      "userId": "10867533629666462341"
     },
     "user_tz": -180
    },
    "id": "S30X4xpcLq_Z",
    "outputId": "04c279e9-a710-4bca-a3a4-735014bf32cf"
   },
   "outputs": [
    {
     "data": {
      "text/html": [
       "<div>\n",
       "<style scoped>\n",
       "    .dataframe tbody tr th:only-of-type {\n",
       "        vertical-align: middle;\n",
       "    }\n",
       "\n",
       "    .dataframe tbody tr th {\n",
       "        vertical-align: top;\n",
       "    }\n",
       "\n",
       "    .dataframe thead th {\n",
       "        text-align: right;\n",
       "    }\n",
       "</style>\n",
       "<table border=\"1\" class=\"dataframe\">\n",
       "  <thead>\n",
       "    <tr style=\"text-align: right;\">\n",
       "      <th></th>\n",
       "      <th>text_proc</th>\n",
       "    </tr>\n",
       "  </thead>\n",
       "  <tbody>\n",
       "    <tr>\n",
       "      <th>0</th>\n",
       "      <td>порядок распределение кафедрам / направление г...</td>\n",
       "    </tr>\n",
       "    <tr>\n",
       "      <th>1</th>\n",
       "      <td>порядок получение общежитие зачисление место р...</td>\n",
       "    </tr>\n",
       "    <tr>\n",
       "      <th>2</th>\n",
       "      <td>возможность заселение комната знакомых / друг ...</td>\n",
       "    </tr>\n",
       "    <tr>\n",
       "      <th>3</th>\n",
       "      <td>перевод направление институт . перевод направл...</td>\n",
       "    </tr>\n",
       "    <tr>\n",
       "      <th>4</th>\n",
       "      <td>программа обучение программирование курс обуче...</td>\n",
       "    </tr>\n",
       "  </tbody>\n",
       "</table>\n",
       "</div><br><label><b>dtype:</b> object</label>"
      ],
      "text/plain": [
       "0    порядок распределение кафедрам / направление г...\n",
       "1    порядок получение общежитие зачисление место р...\n",
       "2    возможность заселение комната знакомых / друг ...\n",
       "3    перевод направление институт . перевод направл...\n",
       "4    программа обучение программирование курс обуче...\n",
       "Name: text_proc, dtype: object"
      ]
     },
     "execution_count": 22,
     "metadata": {},
     "output_type": "execute_result"
    }
   ],
   "source": [
    "threads_df['text_proc'].head()"
   ]
  },
  {
   "cell_type": "markdown",
   "metadata": {
    "id": "txlvUPJpMbrm"
   },
   "source": [
    "## Кластеризация"
   ]
  },
  {
   "cell_type": "code",
   "execution_count": null,
   "metadata": {
    "colab": {
     "base_uri": "https://localhost:8080/"
    },
    "collapsed": true,
    "executionInfo": {
     "elapsed": 4342,
     "status": "ok",
     "timestamp": 1745873928059,
     "user": {
      "displayName": "Mariya Soloveva",
      "userId": "10867533629666462341"
     },
     "user_tz": -180
    },
    "id": "sYJIezbhMepb",
    "outputId": "f4520a68-8e34-4638-be6a-5996778eeff3"
   },
   "outputs": [
    {
     "name": "stdout",
     "output_type": "stream",
     "text": [
      "Requirement already satisfied: sentence-transformers in /usr/local/lib/python3.11/dist-packages (3.4.1)\n",
      "Requirement already satisfied: hdbscan in /usr/local/lib/python3.11/dist-packages (0.8.40)\n",
      "Requirement already satisfied: umap-learn in /usr/local/lib/python3.11/dist-packages (0.5.7)\n",
      "Requirement already satisfied: wordcloud in /usr/local/lib/python3.11/dist-packages (1.9.4)\n",
      "Collecting bertopic[all]\n",
      "  Downloading bertopic-0.17.0-py3-none-any.whl.metadata (23 kB)\n",
      "Requirement already satisfied: transformers<5.0.0,>=4.41.0 in /usr/local/lib/python3.11/dist-packages (from sentence-transformers) (4.49.0)\n",
      "Requirement already satisfied: tqdm in /usr/local/lib/python3.11/dist-packages (from sentence-transformers) (4.67.1)\n",
      "Requirement already satisfied: torch>=1.11.0 in /usr/local/lib/python3.11/dist-packages (from sentence-transformers) (2.6.0+cu124)\n",
      "Requirement already satisfied: scikit-learn in /usr/local/lib/python3.11/dist-packages (from sentence-transformers) (1.6.1)\n",
      "Requirement already satisfied: scipy in /usr/local/lib/python3.11/dist-packages (from sentence-transformers) (1.15.2)\n",
      "Requirement already satisfied: huggingface-hub>=0.20.0 in /usr/local/lib/python3.11/dist-packages (from sentence-transformers) (0.30.2)\n",
      "Requirement already satisfied: Pillow in /usr/local/lib/python3.11/dist-packages (from sentence-transformers) (11.2.1)\n",
      "Requirement already satisfied: numpy<3,>=1.20 in /usr/local/lib/python3.11/dist-packages (from hdbscan) (2.0.2)\n",
      "Requirement already satisfied: joblib>=1.0 in /usr/local/lib/python3.11/dist-packages (from hdbscan) (1.4.2)\n",
      "Requirement already satisfied: numba>=0.51.2 in /usr/local/lib/python3.11/dist-packages (from umap-learn) (0.60.0)\n",
      "Requirement already satisfied: pynndescent>=0.5 in /usr/local/lib/python3.11/dist-packages (from umap-learn) (0.5.13)\n",
      "Requirement already satisfied: matplotlib in /usr/local/lib/python3.11/dist-packages (from wordcloud) (3.10.0)\n",
      "\u001b[33mWARNING: bertopic 0.17.0 does not provide the extra 'all'\u001b[0m\u001b[33m\n",
      "\u001b[0mRequirement already satisfied: pandas>=1.1.5 in /usr/local/lib/python3.11/dist-packages (from bertopic[all]) (2.2.2)\n",
      "Requirement already satisfied: plotly>=4.7.0 in /usr/local/lib/python3.11/dist-packages (from bertopic[all]) (5.24.1)\n",
      "Requirement already satisfied: filelock in /usr/local/lib/python3.11/dist-packages (from huggingface-hub>=0.20.0->sentence-transformers) (3.18.0)\n",
      "Requirement already satisfied: fsspec>=2023.5.0 in /usr/local/lib/python3.11/dist-packages (from huggingface-hub>=0.20.0->sentence-transformers) (2025.3.2)\n",
      "Requirement already satisfied: packaging>=20.9 in /usr/local/lib/python3.11/dist-packages (from huggingface-hub>=0.20.0->sentence-transformers) (24.2)\n",
      "Requirement already satisfied: pyyaml>=5.1 in /usr/local/lib/python3.11/dist-packages (from huggingface-hub>=0.20.0->sentence-transformers) (6.0.2)\n",
      "Requirement already satisfied: requests in /usr/local/lib/python3.11/dist-packages (from huggingface-hub>=0.20.0->sentence-transformers) (2.32.3)\n",
      "Requirement already satisfied: typing-extensions>=3.7.4.3 in /usr/local/lib/python3.11/dist-packages (from huggingface-hub>=0.20.0->sentence-transformers) (4.13.2)\n",
      "Requirement already satisfied: llvmlite<0.44,>=0.43.0dev0 in /usr/local/lib/python3.11/dist-packages (from numba>=0.51.2->umap-learn) (0.43.0)\n",
      "Requirement already satisfied: python-dateutil>=2.8.2 in /usr/local/lib/python3.11/dist-packages (from pandas>=1.1.5->bertopic[all]) (2.9.0.post0)\n",
      "Requirement already satisfied: pytz>=2020.1 in /usr/local/lib/python3.11/dist-packages (from pandas>=1.1.5->bertopic[all]) (2025.2)\n",
      "Requirement already satisfied: tzdata>=2022.7 in /usr/local/lib/python3.11/dist-packages (from pandas>=1.1.5->bertopic[all]) (2025.2)\n",
      "Requirement already satisfied: tenacity>=6.2.0 in /usr/local/lib/python3.11/dist-packages (from plotly>=4.7.0->bertopic[all]) (9.1.2)\n",
      "Requirement already satisfied: threadpoolctl>=3.1.0 in /usr/local/lib/python3.11/dist-packages (from scikit-learn->sentence-transformers) (3.6.0)\n",
      "Requirement already satisfied: networkx in /usr/local/lib/python3.11/dist-packages (from torch>=1.11.0->sentence-transformers) (3.4.2)\n",
      "Requirement already satisfied: jinja2 in /usr/local/lib/python3.11/dist-packages (from torch>=1.11.0->sentence-transformers) (3.1.6)\n",
      "Requirement already satisfied: nvidia-cuda-nvrtc-cu12==12.4.127 in /usr/local/lib/python3.11/dist-packages (from torch>=1.11.0->sentence-transformers) (12.4.127)\n",
      "Requirement already satisfied: nvidia-cuda-runtime-cu12==12.4.127 in /usr/local/lib/python3.11/dist-packages (from torch>=1.11.0->sentence-transformers) (12.4.127)\n",
      "Requirement already satisfied: nvidia-cuda-cupti-cu12==12.4.127 in /usr/local/lib/python3.11/dist-packages (from torch>=1.11.0->sentence-transformers) (12.4.127)\n",
      "Requirement already satisfied: nvidia-cudnn-cu12==9.1.0.70 in /usr/local/lib/python3.11/dist-packages (from torch>=1.11.0->sentence-transformers) (9.1.0.70)\n",
      "Requirement already satisfied: nvidia-cublas-cu12==12.4.5.8 in /usr/local/lib/python3.11/dist-packages (from torch>=1.11.0->sentence-transformers) (12.4.5.8)\n",
      "Requirement already satisfied: nvidia-cufft-cu12==11.2.1.3 in /usr/local/lib/python3.11/dist-packages (from torch>=1.11.0->sentence-transformers) (11.2.1.3)\n",
      "Requirement already satisfied: nvidia-curand-cu12==10.3.5.147 in /usr/local/lib/python3.11/dist-packages (from torch>=1.11.0->sentence-transformers) (10.3.5.147)\n",
      "Requirement already satisfied: nvidia-cusolver-cu12==11.6.1.9 in /usr/local/lib/python3.11/dist-packages (from torch>=1.11.0->sentence-transformers) (11.6.1.9)\n",
      "Requirement already satisfied: nvidia-cusparse-cu12==12.3.1.170 in /usr/local/lib/python3.11/dist-packages (from torch>=1.11.0->sentence-transformers) (12.3.1.170)\n",
      "Requirement already satisfied: nvidia-cusparselt-cu12==0.6.2 in /usr/local/lib/python3.11/dist-packages (from torch>=1.11.0->sentence-transformers) (0.6.2)\n",
      "Requirement already satisfied: nvidia-nccl-cu12==2.21.5 in /usr/local/lib/python3.11/dist-packages (from torch>=1.11.0->sentence-transformers) (2.21.5)\n",
      "Requirement already satisfied: nvidia-nvtx-cu12==12.4.127 in /usr/local/lib/python3.11/dist-packages (from torch>=1.11.0->sentence-transformers) (12.4.127)\n",
      "Requirement already satisfied: nvidia-nvjitlink-cu12==12.4.127 in /usr/local/lib/python3.11/dist-packages (from torch>=1.11.0->sentence-transformers) (12.4.127)\n",
      "Requirement already satisfied: triton==3.2.0 in /usr/local/lib/python3.11/dist-packages (from torch>=1.11.0->sentence-transformers) (3.2.0)\n",
      "Requirement already satisfied: sympy==1.13.1 in /usr/local/lib/python3.11/dist-packages (from torch>=1.11.0->sentence-transformers) (1.13.1)\n",
      "Requirement already satisfied: mpmath<1.4,>=1.1.0 in /usr/local/lib/python3.11/dist-packages (from sympy==1.13.1->torch>=1.11.0->sentence-transformers) (1.3.0)\n",
      "Requirement already satisfied: regex!=2019.12.17 in /usr/local/lib/python3.11/dist-packages (from transformers<5.0.0,>=4.41.0->sentence-transformers) (2024.11.6)\n",
      "Requirement already satisfied: tokenizers<0.22,>=0.21 in /usr/local/lib/python3.11/dist-packages (from transformers<5.0.0,>=4.41.0->sentence-transformers) (0.21.1)\n",
      "Requirement already satisfied: safetensors>=0.4.1 in /usr/local/lib/python3.11/dist-packages (from transformers<5.0.0,>=4.41.0->sentence-transformers) (0.5.3)\n",
      "Requirement already satisfied: contourpy>=1.0.1 in /usr/local/lib/python3.11/dist-packages (from matplotlib->wordcloud) (1.3.2)\n",
      "Requirement already satisfied: cycler>=0.10 in /usr/local/lib/python3.11/dist-packages (from matplotlib->wordcloud) (0.12.1)\n",
      "Requirement already satisfied: fonttools>=4.22.0 in /usr/local/lib/python3.11/dist-packages (from matplotlib->wordcloud) (4.57.0)\n",
      "Requirement already satisfied: kiwisolver>=1.3.1 in /usr/local/lib/python3.11/dist-packages (from matplotlib->wordcloud) (1.4.8)\n",
      "Requirement already satisfied: pyparsing>=2.3.1 in /usr/local/lib/python3.11/dist-packages (from matplotlib->wordcloud) (3.2.3)\n",
      "Requirement already satisfied: six>=1.5 in /usr/local/lib/python3.11/dist-packages (from python-dateutil>=2.8.2->pandas>=1.1.5->bertopic[all]) (1.17.0)\n",
      "Requirement already satisfied: MarkupSafe>=2.0 in /usr/local/lib/python3.11/dist-packages (from jinja2->torch>=1.11.0->sentence-transformers) (3.0.2)\n",
      "Requirement already satisfied: charset-normalizer<4,>=2 in /usr/local/lib/python3.11/dist-packages (from requests->huggingface-hub>=0.20.0->sentence-transformers) (3.4.1)\n",
      "Requirement already satisfied: idna<4,>=2.5 in /usr/local/lib/python3.11/dist-packages (from requests->huggingface-hub>=0.20.0->sentence-transformers) (3.10)\n",
      "Requirement already satisfied: urllib3<3,>=1.21.1 in /usr/local/lib/python3.11/dist-packages (from requests->huggingface-hub>=0.20.0->sentence-transformers) (2.4.0)\n",
      "Requirement already satisfied: certifi>=2017.4.17 in /usr/local/lib/python3.11/dist-packages (from requests->huggingface-hub>=0.20.0->sentence-transformers) (2025.1.31)\n",
      "Downloading bertopic-0.17.0-py3-none-any.whl (150 kB)\n",
      "\u001b[2K   \u001b[90m━━━━━━━━━━━━━━━━━━━━━━━━━━━━━━━━━━━━━━━━\u001b[0m \u001b[32m150.6/150.6 kB\u001b[0m \u001b[31m6.9 MB/s\u001b[0m eta \u001b[36m0:00:00\u001b[0m\n",
      "\u001b[?25hInstalling collected packages: bertopic\n",
      "Successfully installed bertopic-0.17.0\n"
     ]
    }
   ],
   "source": [
    "!pip install sentence-transformers hdbscan umap-learn wordcloud bertopic[all]"
   ]
  },
  {
   "cell_type": "code",
   "execution_count": null,
   "metadata": {
    "id": "rSLe6Gm_MtuZ"
   },
   "outputs": [],
   "source": [
    "import matplotlib.pyplot as plt\n",
    "import seaborn as sns"
   ]
  },
  {
   "cell_type": "code",
   "execution_count": null,
   "metadata": {
    "id": "F3gO3Z1hMu70"
   },
   "outputs": [],
   "source": [
    "texts = threads_df['text_proc'].tolist()"
   ]
  },
  {
   "cell_type": "markdown",
   "metadata": {
    "id": "S6rgZm1jM04f"
   },
   "source": [
    "### Эмбеддинги + HDBSCAN + PCA + WordCloud"
   ]
  },
  {
   "cell_type": "code",
   "execution_count": null,
   "metadata": {
    "id": "fcAaDNpObGCH"
   },
   "outputs": [],
   "source": [
    "from itertools import islice\n",
    "\n",
    "def chunked(iterable, n):\n",
    "    it = iter(iterable)\n",
    "    while True:\n",
    "        chunk = list(islice(it, n))\n",
    "        if not chunk:\n",
    "            break\n",
    "        yield chunk"
   ]
  },
  {
   "cell_type": "code",
   "execution_count": null,
   "metadata": {
    "id": "ReWPbD5YVrQl"
   },
   "outputs": [],
   "source": [
    "from langchain.embeddings.base import Embeddings\n",
    "import time\n",
    "import requests\n",
    "from tenacity import Retrying, stop_after_attempt, wait_fixed, retry_if_exception_type\n",
    "\n",
    "class YandexEmbeddings(Embeddings):\n",
    "    def __init__(\n",
    "        self,\n",
    "        api_key: str,\n",
    "        folder_id: str,\n",
    "        sleep_interval: float = 1.0,\n",
    "        retries: int = 3,\n",
    "        **kwargs\n",
    "    ):\n",
    "        self.api_key = api_key\n",
    "        self.folder_id = folder_id\n",
    "        self.sleep_interval = sleep_interval\n",
    "        self.retries = retries\n",
    "\n",
    "        self.headers = {\n",
    "            \"Authorization\": f\"Api-Key {self.api_key}\",\n",
    "            \"Content-Type\":  \"application/json\"\n",
    "        }\n",
    "\n",
    "    def _get_model_uri(self, is_document: bool) -> str:\n",
    "        mode = \"doc\" if is_document else \"query\"\n",
    "        return f\"emb://{self.folder_id}/text-search-{mode}/latest\"\n",
    "\n",
    "    def _embed_one(self, text: str, is_document: bool) -> list[float]:\n",
    "        payload = {\n",
    "            \"modelUri\": self._get_model_uri(is_document),\n",
    "            \"text\":     text\n",
    "        }\n",
    "        last_exc = None\n",
    "\n",
    "        for attempt in Retrying(\n",
    "            stop=stop_after_attempt(self.retries),\n",
    "            wait=wait_fixed(self.sleep_interval),\n",
    "            retry=retry_if_exception_type(requests.RequestException)\n",
    "        ):\n",
    "            with attempt:\n",
    "                resp = requests.post(\n",
    "                    \"https://llm.api.cloud.yandex.net/foundationModels/v1/textEmbedding\",\n",
    "                    json=payload,\n",
    "                    headers=self.headers,\n",
    "                    timeout=10\n",
    "                )\n",
    "                resp.raise_for_status()\n",
    "                data = resp.json()\n",
    "                if \"embedding\" in data:\n",
    "                    return data[\"embedding\"]\n",
    "                raise ValueError(f\"Нет ключа 'embedding' в ответе: {data}\")\n",
    "\n",
    "        raise RuntimeError(f\"Не удалось получить embedding после {self.retries} попыток\")\n",
    "\n",
    "    def embed_query(self, text: str) -> list[float]:\n",
    "        return self._embed_one(text, is_document=False)\n",
    "\n",
    "    def embed_documents(self, texts: list[str], chunk_size: int = 15) -> list[list[float]]:\n",
    "        embeddings = []\n",
    "        for txt in texts:\n",
    "            emb = self._embed_one(txt, is_document=True)\n",
    "            embeddings.append(emb)\n",
    "            # print(embeddings[:2])\n",
    "            time.sleep(self.sleep_interval)\n",
    "        return embeddings\n"
   ]
  },
  {
   "cell_type": "code",
   "execution_count": null,
   "metadata": {
    "id": "C3_7KsZmWRtm"
   },
   "outputs": [],
   "source": [
    "emb = YandexEmbeddings(api_key=\"\", folder_id=\"\")"
   ]
  },
  {
   "cell_type": "code",
   "execution_count": null,
   "metadata": {
    "colab": {
     "base_uri": "https://localhost:8080/"
    },
    "collapsed": true,
    "executionInfo": {
     "elapsed": 611,
     "status": "ok",
     "timestamp": 1745878787561,
     "user": {
      "displayName": "Mariya Soloveva",
      "userId": "10867533629666462341"
     },
     "user_tz": -180
    },
    "id": "Hl5tyqyaWcpQ",
    "outputId": "7fe5d7c4-03f5-4c09-f79c-a673fbc09135"
   },
   "outputs": [
    {
     "data": {
      "text/plain": [
       "[0.0440673828125,\n",
       " 0.03973388671875,\n",
       " -0.06744384765625,\n",
       " -0.0767822265625,\n",
       " 0.038482666015625,\n",
       " 0.02471923828125,\n",
       " -0.01372528076171875,\n",
       " -0.1898193359375,\n",
       " -0.0142059326171875,\n",
       " 0.038360595703125,\n",
       " -0.0166778564453125,\n",
       " -0.10662841796875,\n",
       " 0.051300048828125,\n",
       " -0.06787109375,\n",
       " 0.0159149169921875,\n",
       " -0.0257720947265625,\n",
       " 0.09423828125,\n",
       " -0.08990478515625,\n",
       " -0.01433563232421875,\n",
       " -0.0810546875,\n",
       " 0.07763671875,\n",
       " 0.03826904296875,\n",
       " -0.061981201171875,\n",
       " -0.037261962890625,\n",
       " -0.040252685546875,\n",
       " -0.04351806640625,\n",
       " 0.065185546875,\n",
       " 0.002593994140625,\n",
       " 0.09149169921875,\n",
       " -0.06085205078125,\n",
       " -0.05584716796875,\n",
       " 0.07086181640625,\n",
       " -0.09112548828125,\n",
       " 0.08563232421875,\n",
       " -0.033660888671875,\n",
       " -0.0753173828125,\n",
       " 0.018585205078125,\n",
       " 0.0253753662109375,\n",
       " -0.03021240234375,\n",
       " 0.061004638671875,\n",
       " -0.139892578125,\n",
       " -0.019195556640625,\n",
       " 0.036895751953125,\n",
       " 0.01910400390625,\n",
       " -0.019012451171875,\n",
       " 0.0006270408630371094,\n",
       " 0.0125732421875,\n",
       " 0.037811279296875,\n",
       " 0.03863525390625,\n",
       " 0.06561279296875,\n",
       " -0.041656494140625,\n",
       " -0.0989990234375,\n",
       " 0.0187225341796875,\n",
       " -0.0263519287109375,\n",
       " 0.030242919921875,\n",
       " 0.07403564453125,\n",
       " 0.007904052734375,\n",
       " 0.10833740234375,\n",
       " 0.0154266357421875,\n",
       " -0.05804443359375,\n",
       " 0.0927734375,\n",
       " -0.06121826171875,\n",
       " -0.016143798828125,\n",
       " 0.033447265625,\n",
       " 0.0257415771484375,\n",
       " 0.07000732421875,\n",
       " -0.0423583984375,\n",
       " -0.10498046875,\n",
       " -0.00641632080078125,\n",
       " 0.00859832763671875,\n",
       " -0.232666015625,\n",
       " 0.039825439453125,\n",
       " 0.056396484375,\n",
       " 0.042236328125,\n",
       " 0.038177490234375,\n",
       " 0.002498626708984375,\n",
       " 0.00911712646484375,\n",
       " -0.01354217529296875,\n",
       " 0.06549072265625,\n",
       " 0.01200103759765625,\n",
       " 0.0038318634033203125,\n",
       " 0.0281219482421875,\n",
       " 0.04150390625,\n",
       " -0.05230712890625,\n",
       " -0.04547119140625,\n",
       " 0.01678466796875,\n",
       " -0.07049560546875,\n",
       " 0.046600341796875,\n",
       " 0.037506103515625,\n",
       " -0.0195465087890625,\n",
       " 0.139404296875,\n",
       " -0.00714874267578125,\n",
       " -0.0217437744140625,\n",
       " 0.00475311279296875,\n",
       " -0.0274810791015625,\n",
       " 0.0006709098815917969,\n",
       " -0.1461181640625,\n",
       " -0.02203369140625,\n",
       " 0.03289794921875,\n",
       " -0.0154571533203125,\n",
       " -0.09539794921875,\n",
       " -0.130615234375,\n",
       " 0.012298583984375,\n",
       " -0.042999267578125,\n",
       " -0.06414794921875,\n",
       " -0.04107666015625,\n",
       " -0.0516357421875,\n",
       " -0.0404052734375,\n",
       " -0.0236053466796875,\n",
       " 0.0355224609375,\n",
       " -0.0799560546875,\n",
       " -0.0841064453125,\n",
       " -0.0204620361328125,\n",
       " -0.01045989990234375,\n",
       " 0.06842041015625,\n",
       " -0.0170135498046875,\n",
       " -0.034027099609375,\n",
       " 0.05084228515625,\n",
       " 0.006015777587890625,\n",
       " -0.073974609375,\n",
       " -0.03778076171875,\n",
       " 0.08074951171875,\n",
       " 0.029052734375,\n",
       " 0.0570068359375,\n",
       " 0.06719970703125,\n",
       " 0.031341552734375,\n",
       " -0.1072998046875,\n",
       " 0.06353759765625,\n",
       " 0.0992431640625,\n",
       " 0.068359375,\n",
       " 0.09033203125,\n",
       " 0.04541015625,\n",
       " -0.0203857421875,\n",
       " -0.02325439453125,\n",
       " 0.1368408203125,\n",
       " 0.005725860595703125,\n",
       " 0.0118255615234375,\n",
       " 0.03350830078125,\n",
       " -0.0299530029296875,\n",
       " 0.07464599609375,\n",
       " 0.03179931640625,\n",
       " -0.0006847381591796875,\n",
       " 0.10400390625,\n",
       " 0.00620269775390625,\n",
       " -0.09332275390625,\n",
       " -0.0025234222412109375,\n",
       " 0.012176513671875,\n",
       " 0.043487548828125,\n",
       " -0.1153564453125,\n",
       " 0.0005083084106445312,\n",
       " -0.0010776519775390625,\n",
       " 0.0259552001953125,\n",
       " 0.01239776611328125,\n",
       " 0.046295166015625,\n",
       " -0.0626220703125,\n",
       " -0.046539306640625,\n",
       " -0.1220703125,\n",
       " -0.035491943359375,\n",
       " -0.03265380859375,\n",
       " 0.1502685546875,\n",
       " 0.0144500732421875,\n",
       " -0.047393798828125,\n",
       " 0.06781005859375,\n",
       " -0.1197509765625,\n",
       " -0.0748291015625,\n",
       " 0.044464111328125,\n",
       " 0.0193939208984375,\n",
       " -0.107666015625,\n",
       " 0.0024700164794921875,\n",
       " -0.10186767578125,\n",
       " -0.050811767578125,\n",
       " -0.0288238525390625,\n",
       " -0.043914794921875,\n",
       " 0.0196380615234375,\n",
       " 0.135986328125,\n",
       " -0.07318115234375,\n",
       " -0.007358551025390625,\n",
       " 0.0131072998046875,\n",
       " 0.049041748046875,\n",
       " -0.10260009765625,\n",
       " -0.0009355545043945312,\n",
       " -0.036590576171875,\n",
       " 0.00951385498046875,\n",
       " 0.0484619140625,\n",
       " 0.024810791015625,\n",
       " -0.029022216796875,\n",
       " -0.04644775390625,\n",
       " -0.0694580078125,\n",
       " 0.127197265625,\n",
       " 0.130126953125,\n",
       " 0.00626373291015625,\n",
       " 0.051177978515625,\n",
       " -0.09869384765625,\n",
       " 0.00780487060546875,\n",
       " 0.034271240234375,\n",
       " -0.039794921875,\n",
       " 0.056854248046875,\n",
       " 0.07403564453125,\n",
       " 0.0972900390625,\n",
       " -0.0816650390625,\n",
       " -0.00862884521484375,\n",
       " 0.07379150390625,\n",
       " 0.05072021484375,\n",
       " 0.036529541015625,\n",
       " 0.028717041015625,\n",
       " -0.10443115234375,\n",
       " 0.01038360595703125,\n",
       " 0.0509033203125,\n",
       " -0.050689697265625,\n",
       " 0.031494140625,\n",
       " 0.0218658447265625,\n",
       " 0.054443359375,\n",
       " 0.019989013671875,\n",
       " 0.004985809326171875,\n",
       " 0.021453857421875,\n",
       " -0.006938934326171875,\n",
       " 0.035247802734375,\n",
       " 0.046600341796875,\n",
       " 0.0697021484375,\n",
       " -0.01548004150390625,\n",
       " 0.04376220703125,\n",
       " 0.08349609375,\n",
       " -0.0777587890625,\n",
       " 0.038177490234375,\n",
       " -0.035675048828125,\n",
       " -0.08837890625,\n",
       " 0.0496826171875,\n",
       " 0.031036376953125,\n",
       " -0.09716796875,\n",
       " 0.040985107421875,\n",
       " 0.1060791015625,\n",
       " -0.047515869140625,\n",
       " -0.012359619140625,\n",
       " -0.002292633056640625,\n",
       " 0.00473785400390625,\n",
       " 0.00760650634765625,\n",
       " 0.01727294921875,\n",
       " 0.10595703125,\n",
       " 0.0489501953125,\n",
       " 0.1949462890625,\n",
       " -0.061309814453125,\n",
       " 0.07366943359375,\n",
       " 0.048736572265625,\n",
       " -0.0196685791015625,\n",
       " 0.018341064453125,\n",
       " -0.029937744140625,\n",
       " 0.057952880859375,\n",
       " 0.0716552734375,\n",
       " -0.0814208984375,\n",
       " 0.0235595703125,\n",
       " 0.032867431640625,\n",
       " 0.05645751953125,\n",
       " -0.055419921875,\n",
       " -0.0936279296875,\n",
       " 0.030731201171875,\n",
       " 0.02703857421875]"
      ]
     },
     "execution_count": 60,
     "metadata": {},
     "output_type": "execute_result"
    }
   ],
   "source": [
    "emb.embed_query(\"привет\")"
   ]
  },
  {
   "cell_type": "code",
   "execution_count": 61,
   "metadata": {
    "colab": {
     "base_uri": "https://localhost:8080/",
     "height": 0
    },
    "executionInfo": {
     "elapsed": 370850,
     "status": "error",
     "timestamp": 1745879518783,
     "user": {
      "displayName": "Mariya Soloveva",
      "userId": "10867533629666462341"
     },
     "user_tz": -180
    },
    "id": "OMJAdOWEWPeQ",
    "outputId": "35cdcff1-d98d-43b1-c7da-f5b877f0bf0a"
   },
   "outputs": [
    {
     "ename": "RetryError",
     "evalue": "RetryError[<Future at 0x78b9dee136d0 state=finished raised HTTPError>]",
     "output_type": "error",
     "traceback": [
      "\u001b[0;31m---------------------------------------------------------------------------\u001b[0m",
      "\u001b[0;31mHTTPError\u001b[0m                                 Traceback (most recent call last)",
      "\u001b[0;32m<ipython-input-58-0e757f938d6f>\u001b[0m in \u001b[0;36m_embed_one\u001b[0;34m(self, text, is_document)\u001b[0m\n\u001b[1;32m     47\u001b[0m                 )\n\u001b[0;32m---> 48\u001b[0;31m                 \u001b[0mresp\u001b[0m\u001b[0;34m.\u001b[0m\u001b[0mraise_for_status\u001b[0m\u001b[0;34m(\u001b[0m\u001b[0;34m)\u001b[0m\u001b[0;34m\u001b[0m\u001b[0;34m\u001b[0m\u001b[0m\n\u001b[0m\u001b[1;32m     49\u001b[0m                 \u001b[0mdata\u001b[0m \u001b[0;34m=\u001b[0m \u001b[0mresp\u001b[0m\u001b[0;34m.\u001b[0m\u001b[0mjson\u001b[0m\u001b[0;34m(\u001b[0m\u001b[0;34m)\u001b[0m\u001b[0;34m\u001b[0m\u001b[0;34m\u001b[0m\u001b[0m\n",
      "\u001b[0;32m/usr/local/lib/python3.11/dist-packages/requests/models.py\u001b[0m in \u001b[0;36mraise_for_status\u001b[0;34m(self)\u001b[0m\n\u001b[1;32m   1023\u001b[0m         \u001b[0;32mif\u001b[0m \u001b[0mhttp_error_msg\u001b[0m\u001b[0;34m:\u001b[0m\u001b[0;34m\u001b[0m\u001b[0;34m\u001b[0m\u001b[0m\n\u001b[0;32m-> 1024\u001b[0;31m             \u001b[0;32mraise\u001b[0m \u001b[0mHTTPError\u001b[0m\u001b[0;34m(\u001b[0m\u001b[0mhttp_error_msg\u001b[0m\u001b[0;34m,\u001b[0m \u001b[0mresponse\u001b[0m\u001b[0;34m=\u001b[0m\u001b[0mself\u001b[0m\u001b[0;34m)\u001b[0m\u001b[0;34m\u001b[0m\u001b[0;34m\u001b[0m\u001b[0m\n\u001b[0m\u001b[1;32m   1025\u001b[0m \u001b[0;34m\u001b[0m\u001b[0m\n",
      "\u001b[0;31mHTTPError\u001b[0m: 400 Client Error: Bad Request for url: https://llm.api.cloud.yandex.net/foundationModels/v1/textEmbedding",
      "\nThe above exception was the direct cause of the following exception:\n",
      "\u001b[0;31mRetryError\u001b[0m                                Traceback (most recent call last)",
      "\u001b[0;32m<ipython-input-61-434483202f60>\u001b[0m in \u001b[0;36m<cell line: 0>\u001b[0;34m()\u001b[0m\n\u001b[0;32m----> 1\u001b[0;31m \u001b[0mdocs_vecs\u001b[0m \u001b[0;34m=\u001b[0m \u001b[0memb\u001b[0m\u001b[0;34m.\u001b[0m\u001b[0membed_documents\u001b[0m\u001b[0;34m(\u001b[0m\u001b[0mtexts\u001b[0m\u001b[0;34m)\u001b[0m\u001b[0;34m\u001b[0m\u001b[0;34m\u001b[0m\u001b[0m\n\u001b[0m",
      "\u001b[0;32m<ipython-input-58-0e757f938d6f>\u001b[0m in \u001b[0;36membed_documents\u001b[0;34m(self, texts, chunk_size)\u001b[0m\n\u001b[1;32m     60\u001b[0m         \u001b[0membeddings\u001b[0m \u001b[0;34m=\u001b[0m \u001b[0;34m[\u001b[0m\u001b[0;34m]\u001b[0m\u001b[0;34m\u001b[0m\u001b[0;34m\u001b[0m\u001b[0m\n\u001b[1;32m     61\u001b[0m         \u001b[0;32mfor\u001b[0m \u001b[0mtxt\u001b[0m \u001b[0;32min\u001b[0m \u001b[0mtexts\u001b[0m\u001b[0;34m:\u001b[0m\u001b[0;34m\u001b[0m\u001b[0;34m\u001b[0m\u001b[0m\n\u001b[0;32m---> 62\u001b[0;31m             \u001b[0memb\u001b[0m \u001b[0;34m=\u001b[0m \u001b[0mself\u001b[0m\u001b[0;34m.\u001b[0m\u001b[0m_embed_one\u001b[0m\u001b[0;34m(\u001b[0m\u001b[0mtxt\u001b[0m\u001b[0;34m,\u001b[0m \u001b[0mis_document\u001b[0m\u001b[0;34m=\u001b[0m\u001b[0;32mTrue\u001b[0m\u001b[0;34m)\u001b[0m\u001b[0;34m\u001b[0m\u001b[0;34m\u001b[0m\u001b[0m\n\u001b[0m\u001b[1;32m     63\u001b[0m             \u001b[0membeddings\u001b[0m\u001b[0;34m.\u001b[0m\u001b[0mappend\u001b[0m\u001b[0;34m(\u001b[0m\u001b[0memb\u001b[0m\u001b[0;34m)\u001b[0m\u001b[0;34m\u001b[0m\u001b[0;34m\u001b[0m\u001b[0m\n\u001b[1;32m     64\u001b[0m             \u001b[0;31m# print(embeddings[:2])\u001b[0m\u001b[0;34m\u001b[0m\u001b[0;34m\u001b[0m\u001b[0m\n",
      "\u001b[0;32m<ipython-input-58-0e757f938d6f>\u001b[0m in \u001b[0;36m_embed_one\u001b[0;34m(self, text, is_document)\u001b[0m\n\u001b[1;32m     34\u001b[0m         \u001b[0mlast_exc\u001b[0m \u001b[0;34m=\u001b[0m \u001b[0;32mNone\u001b[0m\u001b[0;34m\u001b[0m\u001b[0;34m\u001b[0m\u001b[0m\n\u001b[1;32m     35\u001b[0m \u001b[0;34m\u001b[0m\u001b[0m\n\u001b[0;32m---> 36\u001b[0;31m         for attempt in Retrying(\n\u001b[0m\u001b[1;32m     37\u001b[0m             \u001b[0mstop\u001b[0m\u001b[0;34m=\u001b[0m\u001b[0mstop_after_attempt\u001b[0m\u001b[0;34m(\u001b[0m\u001b[0mself\u001b[0m\u001b[0;34m.\u001b[0m\u001b[0mretries\u001b[0m\u001b[0;34m)\u001b[0m\u001b[0;34m,\u001b[0m\u001b[0;34m\u001b[0m\u001b[0;34m\u001b[0m\u001b[0m\n\u001b[1;32m     38\u001b[0m             \u001b[0mwait\u001b[0m\u001b[0;34m=\u001b[0m\u001b[0mwait_fixed\u001b[0m\u001b[0;34m(\u001b[0m\u001b[0mself\u001b[0m\u001b[0;34m.\u001b[0m\u001b[0msleep_interval\u001b[0m\u001b[0;34m)\u001b[0m\u001b[0;34m,\u001b[0m\u001b[0;34m\u001b[0m\u001b[0;34m\u001b[0m\u001b[0m\n",
      "\u001b[0;32m/usr/local/lib/python3.11/dist-packages/tenacity/__init__.py\u001b[0m in \u001b[0;36m__iter__\u001b[0;34m(self)\u001b[0m\n\u001b[1;32m    443\u001b[0m         \u001b[0mretry_state\u001b[0m \u001b[0;34m=\u001b[0m \u001b[0mRetryCallState\u001b[0m\u001b[0;34m(\u001b[0m\u001b[0mself\u001b[0m\u001b[0;34m,\u001b[0m \u001b[0mfn\u001b[0m\u001b[0;34m=\u001b[0m\u001b[0;32mNone\u001b[0m\u001b[0;34m,\u001b[0m \u001b[0margs\u001b[0m\u001b[0;34m=\u001b[0m\u001b[0;34m(\u001b[0m\u001b[0;34m)\u001b[0m\u001b[0;34m,\u001b[0m \u001b[0mkwargs\u001b[0m\u001b[0;34m=\u001b[0m\u001b[0;34m{\u001b[0m\u001b[0;34m}\u001b[0m\u001b[0;34m)\u001b[0m\u001b[0;34m\u001b[0m\u001b[0;34m\u001b[0m\u001b[0m\n\u001b[1;32m    444\u001b[0m         \u001b[0;32mwhile\u001b[0m \u001b[0;32mTrue\u001b[0m\u001b[0;34m:\u001b[0m\u001b[0;34m\u001b[0m\u001b[0;34m\u001b[0m\u001b[0m\n\u001b[0;32m--> 445\u001b[0;31m             \u001b[0mdo\u001b[0m \u001b[0;34m=\u001b[0m \u001b[0mself\u001b[0m\u001b[0;34m.\u001b[0m\u001b[0miter\u001b[0m\u001b[0;34m(\u001b[0m\u001b[0mretry_state\u001b[0m\u001b[0;34m=\u001b[0m\u001b[0mretry_state\u001b[0m\u001b[0;34m)\u001b[0m\u001b[0;34m\u001b[0m\u001b[0;34m\u001b[0m\u001b[0m\n\u001b[0m\u001b[1;32m    446\u001b[0m             \u001b[0;32mif\u001b[0m \u001b[0misinstance\u001b[0m\u001b[0;34m(\u001b[0m\u001b[0mdo\u001b[0m\u001b[0;34m,\u001b[0m \u001b[0mDoAttempt\u001b[0m\u001b[0;34m)\u001b[0m\u001b[0;34m:\u001b[0m\u001b[0;34m\u001b[0m\u001b[0;34m\u001b[0m\u001b[0m\n\u001b[1;32m    447\u001b[0m                 \u001b[0;32myield\u001b[0m \u001b[0mAttemptManager\u001b[0m\u001b[0;34m(\u001b[0m\u001b[0mretry_state\u001b[0m\u001b[0;34m=\u001b[0m\u001b[0mretry_state\u001b[0m\u001b[0;34m)\u001b[0m\u001b[0;34m\u001b[0m\u001b[0;34m\u001b[0m\u001b[0m\n",
      "\u001b[0;32m/usr/local/lib/python3.11/dist-packages/tenacity/__init__.py\u001b[0m in \u001b[0;36miter\u001b[0;34m(self, retry_state)\u001b[0m\n\u001b[1;32m    376\u001b[0m         \u001b[0mresult\u001b[0m \u001b[0;34m=\u001b[0m \u001b[0;32mNone\u001b[0m\u001b[0;34m\u001b[0m\u001b[0;34m\u001b[0m\u001b[0m\n\u001b[1;32m    377\u001b[0m         \u001b[0;32mfor\u001b[0m \u001b[0maction\u001b[0m \u001b[0;32min\u001b[0m \u001b[0mself\u001b[0m\u001b[0;34m.\u001b[0m\u001b[0miter_state\u001b[0m\u001b[0;34m.\u001b[0m\u001b[0mactions\u001b[0m\u001b[0;34m:\u001b[0m\u001b[0;34m\u001b[0m\u001b[0;34m\u001b[0m\u001b[0m\n\u001b[0;32m--> 378\u001b[0;31m             \u001b[0mresult\u001b[0m \u001b[0;34m=\u001b[0m \u001b[0maction\u001b[0m\u001b[0;34m(\u001b[0m\u001b[0mretry_state\u001b[0m\u001b[0;34m)\u001b[0m\u001b[0;34m\u001b[0m\u001b[0;34m\u001b[0m\u001b[0m\n\u001b[0m\u001b[1;32m    379\u001b[0m         \u001b[0;32mreturn\u001b[0m \u001b[0mresult\u001b[0m\u001b[0;34m\u001b[0m\u001b[0;34m\u001b[0m\u001b[0m\n\u001b[1;32m    380\u001b[0m \u001b[0;34m\u001b[0m\u001b[0m\n",
      "\u001b[0;32m/usr/local/lib/python3.11/dist-packages/tenacity/__init__.py\u001b[0m in \u001b[0;36mexc_check\u001b[0;34m(rs)\u001b[0m\n\u001b[1;32m    419\u001b[0m                 \u001b[0;32mif\u001b[0m \u001b[0mself\u001b[0m\u001b[0;34m.\u001b[0m\u001b[0mreraise\u001b[0m\u001b[0;34m:\u001b[0m\u001b[0;34m\u001b[0m\u001b[0;34m\u001b[0m\u001b[0m\n\u001b[1;32m    420\u001b[0m                     \u001b[0;32mraise\u001b[0m \u001b[0mretry_exc\u001b[0m\u001b[0;34m.\u001b[0m\u001b[0mreraise\u001b[0m\u001b[0;34m(\u001b[0m\u001b[0;34m)\u001b[0m\u001b[0;34m\u001b[0m\u001b[0;34m\u001b[0m\u001b[0m\n\u001b[0;32m--> 421\u001b[0;31m                 \u001b[0;32mraise\u001b[0m \u001b[0mretry_exc\u001b[0m \u001b[0;32mfrom\u001b[0m \u001b[0mfut\u001b[0m\u001b[0;34m.\u001b[0m\u001b[0mexception\u001b[0m\u001b[0;34m(\u001b[0m\u001b[0;34m)\u001b[0m\u001b[0;34m\u001b[0m\u001b[0;34m\u001b[0m\u001b[0m\n\u001b[0m\u001b[1;32m    422\u001b[0m \u001b[0;34m\u001b[0m\u001b[0m\n\u001b[1;32m    423\u001b[0m             \u001b[0mself\u001b[0m\u001b[0;34m.\u001b[0m\u001b[0m_add_action_func\u001b[0m\u001b[0;34m(\u001b[0m\u001b[0mexc_check\u001b[0m\u001b[0;34m)\u001b[0m\u001b[0;34m\u001b[0m\u001b[0;34m\u001b[0m\u001b[0m\n",
      "\u001b[0;31mRetryError\u001b[0m: RetryError[<Future at 0x78b9dee136d0 state=finished raised HTTPError>]"
     ]
    }
   ],
   "source": [
    "docs_vecs = emb.embed_documents(texts)"
   ]
  },
  {
   "cell_type": "code",
   "execution_count": null,
   "metadata": {
    "id": "g3pMRd5KXuEX"
   },
   "outputs": [],
   "source": [
    "threads_df['embed_texts'] = docs_vecs"
   ]
  },
  {
   "cell_type": "code",
   "execution_count": null,
   "metadata": {
    "id": "p-b9mM1mdLld"
   },
   "outputs": [],
   "source": [
    "import numpy as np\n",
    "\n",
    "X = np.array(docs_vecs)\n",
    "print(X.shape)"
   ]
  },
  {
   "cell_type": "code",
   "execution_count": null,
   "metadata": {
    "id": "P1BX-lzqOfw_"
   },
   "outputs": [],
   "source": [
    "import hdbscan\n",
    "from sklearn.preprocessing import normalize\n",
    "from sklearn.decomposition import PCA\n",
    "from wordcloud import WordCloud, STOPWORDS"
   ]
  },
  {
   "cell_type": "code",
   "execution_count": null,
   "metadata": {
    "colab": {
     "base_uri": "https://localhost:8080/",
     "height": 391
    },
    "executionInfo": {
     "elapsed": 33,
     "status": "error",
     "timestamp": 1745876581895,
     "user": {
      "displayName": "Mariya Soloveva",
      "userId": "10867533629666462341"
     },
     "user_tz": -180
    },
    "id": "5LnvRndcOMWQ",
    "outputId": "a6fb41d7-a280-44ae-ec45-67a445d61eab"
   },
   "outputs": [
    {
     "ename": "ValueError",
     "evalue": "Expected 2D array, got scalar array instead:\narray=<__main__.YandexEmbeddings object at 0x78b9e47494d0>.\nReshape your data either using array.reshape(-1, 1) if your data has a single feature or array.reshape(1, -1) if it contains a single sample.",
     "output_type": "error",
     "traceback": [
      "\u001b[0;31m---------------------------------------------------------------------------\u001b[0m",
      "\u001b[0;31mValueError\u001b[0m                                Traceback (most recent call last)",
      "\u001b[0;32m<ipython-input-40-c23284cd054a>\u001b[0m in \u001b[0;36m<cell line: 0>\u001b[0;34m()\u001b[0m\n\u001b[1;32m      1\u001b[0m \u001b[0mclusterer\u001b[0m \u001b[0;34m=\u001b[0m \u001b[0mhdbscan\u001b[0m\u001b[0;34m.\u001b[0m\u001b[0mHDBSCAN\u001b[0m\u001b[0;34m(\u001b[0m\u001b[0mmin_cluster_size\u001b[0m\u001b[0;34m=\u001b[0m\u001b[0;36m15\u001b[0m\u001b[0;34m,\u001b[0m \u001b[0mmetric\u001b[0m\u001b[0;34m=\u001b[0m\u001b[0;34m'cosine'\u001b[0m\u001b[0;34m)\u001b[0m\u001b[0;34m\u001b[0m\u001b[0;34m\u001b[0m\u001b[0m\n\u001b[0;32m----> 2\u001b[0;31m \u001b[0mlabels\u001b[0m \u001b[0;34m=\u001b[0m \u001b[0mclusterer\u001b[0m\u001b[0;34m.\u001b[0m\u001b[0mfit_predict\u001b[0m\u001b[0;34m(\u001b[0m\u001b[0memb\u001b[0m\u001b[0;34m)\u001b[0m\u001b[0;34m\u001b[0m\u001b[0;34m\u001b[0m\u001b[0m\n\u001b[0m",
      "\u001b[0;32m/usr/local/lib/python3.11/dist-packages/hdbscan/hdbscan_.py\u001b[0m in \u001b[0;36mfit_predict\u001b[0;34m(self, X, y)\u001b[0m\n\u001b[1;32m   1289\u001b[0m             \u001b[0mcluster\u001b[0m \u001b[0mlabels\u001b[0m\u001b[0;34m\u001b[0m\u001b[0;34m\u001b[0m\u001b[0m\n\u001b[1;32m   1290\u001b[0m         \"\"\"\n\u001b[0;32m-> 1291\u001b[0;31m         \u001b[0mself\u001b[0m\u001b[0;34m.\u001b[0m\u001b[0mfit\u001b[0m\u001b[0;34m(\u001b[0m\u001b[0mX\u001b[0m\u001b[0;34m)\u001b[0m\u001b[0;34m\u001b[0m\u001b[0;34m\u001b[0m\u001b[0m\n\u001b[0m\u001b[1;32m   1292\u001b[0m         \u001b[0;32mreturn\u001b[0m \u001b[0mself\u001b[0m\u001b[0;34m.\u001b[0m\u001b[0mlabels_\u001b[0m\u001b[0;34m\u001b[0m\u001b[0;34m\u001b[0m\u001b[0m\n\u001b[1;32m   1293\u001b[0m \u001b[0;34m\u001b[0m\u001b[0m\n",
      "\u001b[0;32m/usr/local/lib/python3.11/dist-packages/hdbscan/hdbscan_.py\u001b[0m in \u001b[0;36mfit\u001b[0;34m(self, X, y)\u001b[0m\n\u001b[1;32m   1209\u001b[0m             \u001b[0;31m# Non-precomputed matrices may contain non-finite values.\u001b[0m\u001b[0;34m\u001b[0m\u001b[0;34m\u001b[0m\u001b[0m\n\u001b[1;32m   1210\u001b[0m             \u001b[0;31m# Rows with these values\u001b[0m\u001b[0;34m\u001b[0m\u001b[0;34m\u001b[0m\u001b[0m\n\u001b[0;32m-> 1211\u001b[0;31m             \u001b[0mX\u001b[0m \u001b[0;34m=\u001b[0m \u001b[0mcheck_array\u001b[0m\u001b[0;34m(\u001b[0m\u001b[0mX\u001b[0m\u001b[0;34m,\u001b[0m \u001b[0maccept_sparse\u001b[0m\u001b[0;34m=\u001b[0m\u001b[0;34m\"csr\"\u001b[0m\u001b[0;34m,\u001b[0m \u001b[0mforce_all_finite\u001b[0m\u001b[0;34m=\u001b[0m\u001b[0;32mFalse\u001b[0m\u001b[0;34m)\u001b[0m\u001b[0;34m\u001b[0m\u001b[0;34m\u001b[0m\u001b[0m\n\u001b[0m\u001b[1;32m   1212\u001b[0m             \u001b[0mself\u001b[0m\u001b[0;34m.\u001b[0m\u001b[0m_raw_data\u001b[0m \u001b[0;34m=\u001b[0m \u001b[0mX\u001b[0m\u001b[0;34m\u001b[0m\u001b[0;34m\u001b[0m\u001b[0m\n\u001b[1;32m   1213\u001b[0m \u001b[0;34m\u001b[0m\u001b[0m\n",
      "\u001b[0;32m/usr/local/lib/python3.11/dist-packages/sklearn/utils/validation.py\u001b[0m in \u001b[0;36mcheck_array\u001b[0;34m(array, accept_sparse, accept_large_sparse, dtype, order, copy, force_writeable, force_all_finite, ensure_all_finite, ensure_non_negative, ensure_2d, allow_nd, ensure_min_samples, ensure_min_features, estimator, input_name)\u001b[0m\n\u001b[1;32m   1068\u001b[0m             \u001b[0;31m# If input is scalar raise error\u001b[0m\u001b[0;34m\u001b[0m\u001b[0;34m\u001b[0m\u001b[0m\n\u001b[1;32m   1069\u001b[0m             \u001b[0;32mif\u001b[0m \u001b[0marray\u001b[0m\u001b[0;34m.\u001b[0m\u001b[0mndim\u001b[0m \u001b[0;34m==\u001b[0m \u001b[0;36m0\u001b[0m\u001b[0;34m:\u001b[0m\u001b[0;34m\u001b[0m\u001b[0;34m\u001b[0m\u001b[0m\n\u001b[0;32m-> 1070\u001b[0;31m                 raise ValueError(\n\u001b[0m\u001b[1;32m   1071\u001b[0m                     \u001b[0;34m\"Expected 2D array, got scalar array instead:\\narray={}.\\n\"\u001b[0m\u001b[0;34m\u001b[0m\u001b[0;34m\u001b[0m\u001b[0m\n\u001b[1;32m   1072\u001b[0m                     \u001b[0;34m\"Reshape your data either using array.reshape(-1, 1) if \"\u001b[0m\u001b[0;34m\u001b[0m\u001b[0;34m\u001b[0m\u001b[0m\n",
      "\u001b[0;31mValueError\u001b[0m: Expected 2D array, got scalar array instead:\narray=<__main__.YandexEmbeddings object at 0x78b9e47494d0>.\nReshape your data either using array.reshape(-1, 1) if your data has a single feature or array.reshape(1, -1) if it contains a single sample."
     ]
    }
   ],
   "source": [
    "clusterer = hdbscan.HDBSCAN(min_cluster_size=15, metric='cosine')\n",
    "labels = clusterer.fit_predict(X)"
   ]
  },
  {
   "cell_type": "code",
   "execution_count": null,
   "metadata": {
    "id": "w_6TP6eMOcSp"
   },
   "outputs": [],
   "source": [
    "threads_df['hdbscan'] = labels"
   ]
  },
  {
   "cell_type": "code",
   "execution_count": null,
   "metadata": {
    "id": "VAtKbh6sOrAK"
   },
   "outputs": [],
   "source": [
    "pca = PCA( n_components=2, random_state=42)\n",
    "coords = pca.fit_transform(emb)\n",
    "threads_df['pca_x'], threads_df['pca_y'] = coords[:,0], coords[:,1]"
   ]
  },
  {
   "cell_type": "code",
   "execution_count": null,
   "metadata": {
    "id": "CqUfQVs4J6SA"
   },
   "outputs": [],
   "source": [
    "plt.figure(figsize=(8,6))\n",
    "\n",
    "palette = sns.color_palette('tab10', np.unique(labels).max()+2)\n",
    "sns.scatterplot(x='pca_x', y='pca_y', hue='hdbscan',\n",
    "                data=threads_df, palette=palette,\n",
    "                legend='full', s=20)\n",
    "\n",
    "plt.title(\"HDBSCAN\")\n",
    "plt.legend(bbox_to_anchor=(1,1)); plt.show()"
   ]
  },
  {
   "cell_type": "code",
   "execution_count": null,
   "metadata": {
    "id": "5azPP5urO1FI"
   },
   "outputs": [],
   "source": [
    "for cl in sorted(set(labels)):\n",
    "\n",
    "    if cl == -1: continue  # шум\n",
    "    texts_cl = threads_df.loc[threads_df['hdbscan']==cl, 'text_proc']\n",
    "\n",
    "    wc = WordCloud(width=400, height=200, background_color='white',\n",
    "                   stopwords=STOPWORDS).generate(\" \".join(texts_cl))\n",
    "\n",
    "    plt.figure(figsize=(4,2))\n",
    "    plt.imshow(wc, interpolation='bilinear')\n",
    "    plt.axis('off')\n",
    "    plt.title(f\"Cluster {cl} ({len(texts_cl)} docs)\")\n",
    "    plt.show()"
   ]
  },
  {
   "cell_type": "markdown",
   "metadata": {
    "id": "lT6wb4i3PWVU"
   },
   "source": [
    "### BERTopic + UMAP + c-TF-IDF"
   ]
  },
  {
   "cell_type": "code",
   "execution_count": null,
   "metadata": {
    "id": "d6B7RsxoPYIr"
   },
   "outputs": [],
   "source": [
    "from bertopic import BERTopic\n",
    "from umap import UMAP"
   ]
  },
  {
   "cell_type": "code",
   "execution_count": null,
   "metadata": {
    "id": "TN9H4XvoPiBN"
   },
   "outputs": [],
   "source": [
    "umap_model = UMAP(n_neighbors=15, n_components=7, metric='cosine', random_state=42, min_dist=0.6)"
   ]
  },
  {
   "cell_type": "code",
   "execution_count": null,
   "metadata": {
    "colab": {
     "base_uri": "https://localhost:8080/",
     "height": 211
    },
    "executionInfo": {
     "elapsed": 42,
     "status": "error",
     "timestamp": 1745876591547,
     "user": {
      "displayName": "Mariya Soloveva",
      "userId": "10867533629666462341"
     },
     "user_tz": -180
    },
    "id": "b7uiG8jnPjB1",
    "outputId": "fb949ba2-d627-4de4-c42f-7c29e0c8ab0e"
   },
   "outputs": [
    {
     "ename": "TypeError",
     "evalue": "BERTopic.__init__() got an unexpected keyword argument 'diversity'",
     "output_type": "error",
     "traceback": [
      "\u001b[0;31m---------------------------------------------------------------------------\u001b[0m",
      "\u001b[0;31mTypeError\u001b[0m                                 Traceback (most recent call last)",
      "\u001b[0;32m<ipython-input-41-98dc3aa627ed>\u001b[0m in \u001b[0;36m<cell line: 0>\u001b[0;34m()\u001b[0m\n\u001b[0;32m----> 1\u001b[0;31m topic_model = BERTopic(embedding_model=emb,\n\u001b[0m\u001b[1;32m      2\u001b[0m                        \u001b[0mumap_model\u001b[0m\u001b[0;34m=\u001b[0m\u001b[0mumap_model\u001b[0m\u001b[0;34m,\u001b[0m\u001b[0;34m\u001b[0m\u001b[0;34m\u001b[0m\u001b[0m\n\u001b[1;32m      3\u001b[0m                        \u001b[0mnr_topics\u001b[0m\u001b[0;34m=\u001b[0m\u001b[0;34m\"auto\"\u001b[0m\u001b[0;34m,\u001b[0m\u001b[0;34m\u001b[0m\u001b[0;34m\u001b[0m\u001b[0m\n\u001b[1;32m      4\u001b[0m                        \u001b[0mdiversity\u001b[0m\u001b[0;34m=\u001b[0m\u001b[0;36m0.7\u001b[0m\u001b[0;34m,\u001b[0m\u001b[0;34m\u001b[0m\u001b[0;34m\u001b[0m\u001b[0m\n\u001b[1;32m      5\u001b[0m                        top_n_words=20)\n",
      "\u001b[0;31mTypeError\u001b[0m: BERTopic.__init__() got an unexpected keyword argument 'diversity'"
     ]
    }
   ],
   "source": [
    "topic_model = BERTopic(embedding_model=emb,\n",
    "                       umap_model=umap_model,\n",
    "                       nr_topics=\"auto\",\n",
    "                       diversity=0.7,\n",
    "                       top_n_words=20)"
   ]
  },
  {
   "cell_type": "code",
   "execution_count": null,
   "metadata": {
    "id": "rEzPRETKPsIB"
   },
   "outputs": [],
   "source": [
    "topics, probs = topic_model.fit_transform(texts)"
   ]
  },
  {
   "cell_type": "code",
   "execution_count": null,
   "metadata": {
    "id": "L9HFudwFPwlL"
   },
   "outputs": [],
   "source": [
    "threads_df['bertopic'] = topics"
   ]
  },
  {
   "cell_type": "code",
   "execution_count": null,
   "metadata": {
    "id": "eHu9WnoWP0Wj"
   },
   "outputs": [],
   "source": [
    "topic_info = topic_model.get_topic_info()\n",
    "display(topic_info.head(10))"
   ]
  },
  {
   "cell_type": "code",
   "execution_count": null,
   "metadata": {
    "id": "4m7vKW9rP1x5"
   },
   "outputs": [],
   "source": [
    "for t in topic_info['Topic'].unique():\n",
    "    if t == -1: continue\n",
    "    fig = topic_model.visualize_barchart(topic=t, top_n_topics=1)\n",
    "    fig.show()"
   ]
  },
  {
   "cell_type": "code",
   "execution_count": null,
   "metadata": {
    "id": "qW1pQA5PP20f"
   },
   "outputs": [],
   "source": [
    "vis = topic_model.visualize_topics()\n",
    "vis.show()"
   ]
  }
 ],
 "metadata": {
  "colab": {
   "provenance": []
  },
  "kernelspec": {
   "display_name": ".venv",
   "language": "python",
   "name": "python3"
  },
  "language_info": {
   "codemirror_mode": {
    "name": "ipython",
    "version": 3
   },
   "file_extension": ".py",
   "mimetype": "text/x-python",
   "name": "python",
   "nbconvert_exporter": "python",
   "pygments_lexer": "ipython3",
   "version": "3.12.3"
  }
 },
 "nbformat": 4,
 "nbformat_minor": 0
}
