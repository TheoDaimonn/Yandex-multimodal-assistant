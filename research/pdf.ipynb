{
  "cells": [
    {
      "cell_type": "code",
      "execution_count": 1,
      "metadata": {},
      "outputs": [
        {
          "name": "stdout",
          "output_type": "stream",
          "text": [
            "Requirement already satisfied: pandas in c:\\users\\user\\appdata\\local\\programs\\python\\python312\\lib\\site-packages (2.2.3)\n",
            "Requirement already satisfied: numpy>=1.26.0 in c:\\users\\user\\appdata\\local\\programs\\python\\python312\\lib\\site-packages (from pandas) (1.26.4)\n",
            "Requirement already satisfied: python-dateutil>=2.8.2 in c:\\users\\user\\appdata\\roaming\\python\\python312\\site-packages (from pandas) (2.9.0.post0)\n",
            "Requirement already satisfied: pytz>=2020.1 in c:\\users\\user\\appdata\\local\\programs\\python\\python312\\lib\\site-packages (from pandas) (2025.2)\n",
            "Requirement already satisfied: tzdata>=2022.7 in c:\\users\\user\\appdata\\local\\programs\\python\\python312\\lib\\site-packages (from pandas) (2025.2)\n",
            "Requirement already satisfied: six>=1.5 in c:\\users\\user\\appdata\\roaming\\python\\python312\\site-packages (from python-dateutil>=2.8.2->pandas) (1.16.0)\n",
            "Note: you may need to restart the kernel to use updated packages.\n"
          ]
        }
      ],
      "source": [
        "%pip install pandas"
      ]
    },
    {
      "cell_type": "code",
      "execution_count": 2,
      "metadata": {
        "id": "G4txx6rHpyPg"
      },
      "outputs": [],
      "source": [
        "import json\n",
        "import re\n",
        "from pathlib import Path\n",
        "import pandas as pd"
      ]
    },
    {
      "cell_type": "code",
      "execution_count": 2,
      "metadata": {
        "colab": {
          "base_uri": "https://localhost:8080/"
        },
        "id": "jXQgPc_TWgoq",
        "outputId": "fe19ca57-7b4a-4f83-cf85-a32e25fe711a"
      },
      "outputs": [
        {
          "name": "stdout",
          "output_type": "stream",
          "text": [
            "Mounted at /content/drive\n"
          ]
        }
      ],
      "source": [
        "from google.colab import drive\n",
        "drive.mount('/content/drive')"
      ]
    },
    {
      "cell_type": "code",
      "execution_count": 15,
      "metadata": {},
      "outputs": [],
      "source": [
        "folder = '../data/ocred_pdf'"
      ]
    },
    {
      "cell_type": "code",
      "execution_count": 3,
      "metadata": {},
      "outputs": [],
      "source": [
        "import os"
      ]
    },
    {
      "cell_type": "code",
      "execution_count": 17,
      "metadata": {
        "colab": {
          "base_uri": "https://localhost:8080/"
        },
        "id": "nnPixMbkY-k2",
        "outputId": "1fa5fa62-5c9a-4f2b-c8d8-e481b3d0d8f0"
      },
      "outputs": [],
      "source": [
        "paths = [os.path.join(folder, f) for f in os.listdir(folder) if os.path.isfile(os.path.join(folder, f))]"
      ]
    },
    {
      "cell_type": "code",
      "execution_count": 18,
      "metadata": {
        "id": "GRVFXZLCU-VH"
      },
      "outputs": [],
      "source": [
        "docs = []\n",
        "for p in paths:\n",
        "    with open(p, 'r', encoding='utf-8') as f:\n",
        "        data = f.read()\n",
        "    docs.append({\n",
        "        'doc_name': os.path.splitext(os.path.basename(p))[0],\n",
        "        'text': data\n",
        "    })"
      ]
    },
    {
      "cell_type": "code",
      "execution_count": 19,
      "metadata": {
        "colab": {
          "base_uri": "https://localhost:8080/",
          "height": 237
        },
        "id": "bZUlDktfhLzO",
        "outputId": "61612426-3b6d-42b2-ac5f-f5e05a6f3c35"
      },
      "outputs": [
        {
          "data": {
            "text/html": [
              "<div>\n",
              "<style scoped>\n",
              "    .dataframe tbody tr th:only-of-type {\n",
              "        vertical-align: middle;\n",
              "    }\n",
              "\n",
              "    .dataframe tbody tr th {\n",
              "        vertical-align: top;\n",
              "    }\n",
              "\n",
              "    .dataframe thead th {\n",
              "        text-align: right;\n",
              "    }\n",
              "</style>\n",
              "<table border=\"1\" class=\"dataframe\">\n",
              "  <thead>\n",
              "    <tr style=\"text-align: right;\">\n",
              "      <th></th>\n",
              "      <th>doc_name</th>\n",
              "      <th>text</th>\n",
              "    </tr>\n",
              "  </thead>\n",
              "  <tbody>\n",
              "    <tr>\n",
              "      <th>0</th>\n",
              "      <td>Онлайн_магистратура_«Машинное_обучение_и_анали...</td>\n",
              "      <td>× @СБЕР |\\nСпециализированное высшее образован...</td>\n",
              "    </tr>\n",
              "    <tr>\n",
              "      <th>1</th>\n",
              "      <td>Особые_условия_для_поступления_в_Институт_№8_МАИ</td>\n",
              "      <td>Особые условия для поступления в Институт\\n№8 ...</td>\n",
              "    </tr>\n",
              "    <tr>\n",
              "      <th>2</th>\n",
              "      <td>Постановление Правительства РФ от 27.04.2024 N...</td>\n",
              "      <td>ПРАВИТЕЛЬСТВО РОССИЙСКОЙ ФЕДЕРАЦИИ\\nПОСТАНОВЛЕ...</td>\n",
              "    </tr>\n",
              "    <tr>\n",
              "      <th>3</th>\n",
              "      <td>Правила приема МАИ</td>\n",
              "      <td>Правила приема на обучение по образовательным ...</td>\n",
              "    </tr>\n",
              "    <tr>\n",
              "      <th>4</th>\n",
              "      <td>Правила Приема(Министерские)</td>\n",
              "      <td>МИНИСТЕРСТВО юстиции РОССИЙСКОЙ ФЕТЕРАЦИИ\\nЗАР...</td>\n",
              "    </tr>\n",
              "    <tr>\n",
              "      <th>5</th>\n",
              "      <td>Федеральный закон от 29 декабря 2012 г. N 273...</td>\n",
              "      <td>Федеральный закон от 29 декабря 2012 г. N 273-...</td>\n",
              "    </tr>\n",
              "  </tbody>\n",
              "</table>\n",
              "</div>"
            ],
            "text/plain": [
              "                                            doc_name  \\\n",
              "0  Онлайн_магистратура_«Машинное_обучение_и_анали...   \n",
              "1   Особые_условия_для_поступления_в_Институт_№8_МАИ   \n",
              "2  Постановление Правительства РФ от 27.04.2024 N...   \n",
              "3                                 Правила приема МАИ   \n",
              "4                       Правила Приема(Министерские)   \n",
              "5  Федеральный закон от 29 декабря 2012 г. N 273...   \n",
              "\n",
              "                                                text  \n",
              "0  × @СБЕР |\\nСпециализированное высшее образован...  \n",
              "1  Особые условия для поступления в Институт\\n№8 ...  \n",
              "2  ПРАВИТЕЛЬСТВО РОССИЙСКОЙ ФЕДЕРАЦИИ\\nПОСТАНОВЛЕ...  \n",
              "3  Правила приема на обучение по образовательным ...  \n",
              "4  МИНИСТЕРСТВО юстиции РОССИЙСКОЙ ФЕТЕРАЦИИ\\nЗАР...  \n",
              "5  Федеральный закон от 29 декабря 2012 г. N 273-...  "
            ]
          },
          "execution_count": 19,
          "metadata": {},
          "output_type": "execute_result"
        }
      ],
      "source": [
        "df = pd.DataFrame(docs)\n",
        "df"
      ]
    },
    {
      "cell_type": "code",
      "execution_count": 22,
      "metadata": {
        "id": "S7eOHuT7jiiL"
      },
      "outputs": [],
      "source": [
        "def chunk_text_sliding(text: str, window: int = 450, overlap: int = 50):\n",
        "    words = text.split()\n",
        "    step = window - overlap\n",
        "    chunks = []\n",
        "    for start in range(0, len(words), step):\n",
        "        chunk = words[start:start + window]\n",
        "        if not chunk:\n",
        "            break\n",
        "        chunks.append(\" \".join(chunk))\n",
        "    return chunks"
      ]
    },
    {
      "cell_type": "code",
      "execution_count": 23,
      "metadata": {
        "colab": {
          "base_uri": "https://localhost:8080/",
          "height": 206
        },
        "id": "muE_5bXVjsLs",
        "outputId": "8d03d90b-33ab-4d20-ee4b-c1c8ee9ad283"
      },
      "outputs": [
        {
          "data": {
            "text/html": [
              "<div>\n",
              "<style scoped>\n",
              "    .dataframe tbody tr th:only-of-type {\n",
              "        vertical-align: middle;\n",
              "    }\n",
              "\n",
              "    .dataframe tbody tr th {\n",
              "        vertical-align: top;\n",
              "    }\n",
              "\n",
              "    .dataframe thead th {\n",
              "        text-align: right;\n",
              "    }\n",
              "</style>\n",
              "<table border=\"1\" class=\"dataframe\">\n",
              "  <thead>\n",
              "    <tr style=\"text-align: right;\">\n",
              "      <th></th>\n",
              "      <th>doc_name</th>\n",
              "      <th>chunk_id</th>\n",
              "      <th>chunk_text</th>\n",
              "      <th>text_name_source</th>\n",
              "    </tr>\n",
              "  </thead>\n",
              "  <tbody>\n",
              "    <tr>\n",
              "      <th>0</th>\n",
              "      <td>Онлайн_магистратура_«Машинное_обучение_и_анали...</td>\n",
              "      <td>1</td>\n",
              "      <td>× @СБЕР | Специализированное высшее образовани...</td>\n",
              "      <td>[Онлайн_магистратура_«Машинное_обучение_и_анал...</td>\n",
              "    </tr>\n",
              "    <tr>\n",
              "      <th>1</th>\n",
              "      <td>Особые_условия_для_поступления_в_Институт_№8_МАИ</td>\n",
              "      <td>1</td>\n",
              "      <td>Особые условия для поступления в Институт №8 М...</td>\n",
              "      <td>[Особые_условия_для_поступления_в_Институт_№8_...</td>\n",
              "    </tr>\n",
              "    <tr>\n",
              "      <th>2</th>\n",
              "      <td>Особые_условия_для_поступления_в_Институт_№8_МАИ</td>\n",
              "      <td>2</td>\n",
              "      <td>МАИ -- это управление жизненным циклом перспек...</td>\n",
              "      <td>[Особые_условия_для_поступления_в_Институт_№8_...</td>\n",
              "    </tr>\n",
              "    <tr>\n",
              "      <th>3</th>\n",
              "      <td>Постановление Правительства РФ от 27.04.2024 N...</td>\n",
              "      <td>1</td>\n",
              "      <td>ПРАВИТЕЛЬСТВО РОССИЙСКОЙ ФЕДЕРАЦИИ ПОСТАНОВЛЕН...</td>\n",
              "      <td>[Постановление Правительства РФ от 27.04.2024 ...</td>\n",
              "    </tr>\n",
              "    <tr>\n",
              "      <th>4</th>\n",
              "      <td>Постановление Правительства РФ от 27.04.2024 N...</td>\n",
              "      <td>2</td>\n",
              "      <td>Федерации М. МИШУСТИН УТВЕРЖДЕНО постановление...</td>\n",
              "      <td>[Постановление Правительства РФ от 27.04.2024 ...</td>\n",
              "    </tr>\n",
              "  </tbody>\n",
              "</table>\n",
              "</div>"
            ],
            "text/plain": [
              "                                            doc_name  chunk_id  \\\n",
              "0  Онлайн_магистратура_«Машинное_обучение_и_анали...         1   \n",
              "1   Особые_условия_для_поступления_в_Институт_№8_МАИ         1   \n",
              "2   Особые_условия_для_поступления_в_Институт_№8_МАИ         2   \n",
              "3  Постановление Правительства РФ от 27.04.2024 N...         1   \n",
              "4  Постановление Правительства РФ от 27.04.2024 N...         2   \n",
              "\n",
              "                                          chunk_text  \\\n",
              "0  × @СБЕР | Специализированное высшее образовани...   \n",
              "1  Особые условия для поступления в Институт №8 М...   \n",
              "2  МАИ -- это управление жизненным циклом перспек...   \n",
              "3  ПРАВИТЕЛЬСТВО РОССИЙСКОЙ ФЕДЕРАЦИИ ПОСТАНОВЛЕН...   \n",
              "4  Федерации М. МИШУСТИН УТВЕРЖДЕНО постановление...   \n",
              "\n",
              "                                    text_name_source  \n",
              "0  [Онлайн_магистратура_«Машинное_обучение_и_анал...  \n",
              "1  [Особые_условия_для_поступления_в_Институт_№8_...  \n",
              "2  [Особые_условия_для_поступления_в_Институт_№8_...  \n",
              "3  [Постановление Правительства РФ от 27.04.2024 ...  \n",
              "4  [Постановление Правительства РФ от 27.04.2024 ...  "
            ]
          },
          "execution_count": 23,
          "metadata": {},
          "output_type": "execute_result"
        }
      ],
      "source": [
        "records = []\n",
        "for _, row in df.iterrows():\n",
        "    chunks = chunk_text_sliding(\n",
        "        row['text']\n",
        "    )\n",
        "    name = row['doc_name']\n",
        "\n",
        "    for i, chunk in enumerate(chunks, 1):\n",
        "        records.append({\n",
        "            'doc_name':  row['doc_name'],\n",
        "            'chunk_id':  i,\n",
        "            'chunk_text': chunk,\n",
        "            'text_name_source': f\"[{name}] {chunk}\"\n",
        "        })\n",
        "\n",
        "chunks_df = pd.DataFrame(records)\n",
        "chunks_df.head()"
      ]
    },
    {
      "cell_type": "code",
      "execution_count": 24,
      "metadata": {
        "id": "84i6Dr-XzoSH"
      },
      "outputs": [],
      "source": [
        "chunks_df['dialog_plain'] = chunks_df['text_name_source']"
      ]
    },
    {
      "cell_type": "code",
      "execution_count": 25,
      "metadata": {
        "id": "5uBAkOBR0S6f"
      },
      "outputs": [],
      "source": [
        "chunks_df.to_csv('pdf_df.csv')"
      ]
    },
    {
      "cell_type": "code",
      "execution_count": 26,
      "metadata": {},
      "outputs": [],
      "source": [
        "folder = '../data/vk_parse'"
      ]
    },
    {
      "cell_type": "code",
      "execution_count": 35,
      "metadata": {},
      "outputs": [],
      "source": [
        "import os\n",
        "import re\n",
        "\n",
        "def process_vk_files(folder_path: str):\n",
        "\n",
        "    docs = []\n",
        "    \n",
        "    paths = [os.path.join(folder_path, f) for f in os.listdir(folder_path) \n",
        "             if os.path.isfile(os.path.join(folder_path, f))]\n",
        "    \n",
        "    for p in paths:\n",
        "        try:\n",
        "            with open(p, 'r', encoding='utf-8') as f:\n",
        "                data = f.read()\n",
        "            \n",
        "            chunks = re.split(r'\\$\\$\\$\\d+', data)\n",
        "\n",
        "            for chunk in chunks:\n",
        "                clean_chunk = ' '.join(chunk.strip().split())\n",
        "                \n",
        "                if len(clean_chunk.split()) >= 30:\n",
        "                    base_name = os.path.splitext(os.path.basename(p))[0]\n",
        "                    docs.append({\n",
        "                        'doc_name': base_name,\n",
        "                        'text': clean_chunk, \n",
        "                        'dialog_plain': f\"[{base_name}] {clean_chunk}\"\n",
        "                    })\n",
        "                    \n",
        "        except Exception as e:\n",
        "            print(f\"Ошибка при обработке файла {p}: {e}\")\n",
        "    \n",
        "    return docs"
      ]
    },
    {
      "cell_type": "code",
      "execution_count": 38,
      "metadata": {},
      "outputs": [],
      "source": [
        "folder = '../data/vk_parse'\n",
        "processed_docs = process_vk_files(folder)"
      ]
    },
    {
      "cell_type": "code",
      "execution_count": 39,
      "metadata": {},
      "outputs": [
        {
          "data": {
            "text/html": [
              "<div>\n",
              "<style scoped>\n",
              "    .dataframe tbody tr th:only-of-type {\n",
              "        vertical-align: middle;\n",
              "    }\n",
              "\n",
              "    .dataframe tbody tr th {\n",
              "        vertical-align: top;\n",
              "    }\n",
              "\n",
              "    .dataframe thead th {\n",
              "        text-align: right;\n",
              "    }\n",
              "</style>\n",
              "<table border=\"1\" class=\"dataframe\">\n",
              "  <thead>\n",
              "    <tr style=\"text-align: right;\">\n",
              "      <th></th>\n",
              "      <th>doc_name</th>\n",
              "      <th>text</th>\n",
              "      <th>dialog_plain</th>\n",
              "    </tr>\n",
              "  </thead>\n",
              "  <tbody>\n",
              "    <tr>\n",
              "      <th>0</th>\n",
              "      <td>8 факультет МАИ</td>\n",
              "      <td>1733997608 Твой Альфа-Шанс на 300 000 ₽ ⚡️ Дар...</td>\n",
              "      <td>[8 факультет МАИ] 1733997608 Твой Альфа-Шанс н...</td>\n",
              "    </tr>\n",
              "    <tr>\n",
              "      <th>1</th>\n",
              "      <td>IT-Центр МАИ</td>\n",
              "      <td>1745219444 Какие планы на лето? Сессия, практи...</td>\n",
              "      <td>[IT-Центр МАИ] 1745219444 Какие планы на лето?...</td>\n",
              "    </tr>\n",
              "    <tr>\n",
              "      <th>2</th>\n",
              "      <td>Институт № 5 МАИ</td>\n",
              "      <td>1744829478 ❗❗❗ВНИМАНИЕ❗❗❗ Начинается прием зая...</td>\n",
              "      <td>[Институт № 5 МАИ] 1744829478 ❗❗❗ВНИМАНИЕ❗❗❗ Н...</td>\n",
              "    </tr>\n",
              "    <tr>\n",
              "      <th>3</th>\n",
              "      <td>Институт №1 Авиационная Техника МАИ</td>\n",
              "      <td>1745861590 $$$ 1745827600 Приветствуем тебя, ч...</td>\n",
              "      <td>[Институт №1 Авиационная Техника МАИ] 17458615...</td>\n",
              "    </tr>\n",
              "    <tr>\n",
              "      <th>4</th>\n",
              "      <td>ИНСТИТУТ №2 МАИ</td>\n",
              "      <td>1745066468 $$$ 1744965351 Начинается прием зая...</td>\n",
              "      <td>[ИНСТИТУТ №2 МАИ] 1745066468 $$$ 1744965351 На...</td>\n",
              "    </tr>\n",
              "    <tr>\n",
              "      <th>5</th>\n",
              "      <td>МАИ  Московский авиационный институт</td>\n",
              "      <td>1742448600 МАИ — навсегда в твоём сердце За 95...</td>\n",
              "      <td>[МАИ  Московский авиационный институт] 1742448...</td>\n",
              "    </tr>\n",
              "    <tr>\n",
              "      <th>6</th>\n",
              "      <td>МАИ Институт №9  Общеинженерной подготовки</td>\n",
              "      <td>1745227213 Начинается прием заявлений на матер...</td>\n",
              "      <td>[МАИ Институт №9  Общеинженерной подготовки] 1...</td>\n",
              "    </tr>\n",
              "    <tr>\n",
              "      <th>7</th>\n",
              "      <td>Поступи в Институт №7 МАИ</td>\n",
              "      <td>1740983759 $$$ 1738313017 $$$ 1736491987 $$$ 1...</td>\n",
              "      <td>[Поступи в Институт №7 МАИ] 1740983759 $$$ 173...</td>\n",
              "    </tr>\n",
              "    <tr>\n",
              "      <th>8</th>\n",
              "      <td>ФРЭЛА МАИ</td>\n",
              "      <td>1744356960 передайте своему товарищу - может, ...</td>\n",
              "      <td>[ФРЭЛА МАИ] 1744356960 передайте своему товари...</td>\n",
              "    </tr>\n",
              "  </tbody>\n",
              "</table>\n",
              "</div>"
            ],
            "text/plain": [
              "                                     doc_name  \\\n",
              "0                             8 факультет МАИ   \n",
              "1                                IT-Центр МАИ   \n",
              "2                            Институт № 5 МАИ   \n",
              "3         Институт №1 Авиационная Техника МАИ   \n",
              "4                             ИНСТИТУТ №2 МАИ   \n",
              "5        МАИ  Московский авиационный институт   \n",
              "6  МАИ Институт №9  Общеинженерной подготовки   \n",
              "7                   Поступи в Институт №7 МАИ   \n",
              "8                                   ФРЭЛА МАИ   \n",
              "\n",
              "                                                text  \\\n",
              "0  1733997608 Твой Альфа-Шанс на 300 000 ₽ ⚡️ Дар...   \n",
              "1  1745219444 Какие планы на лето? Сессия, практи...   \n",
              "2  1744829478 ❗❗❗ВНИМАНИЕ❗❗❗ Начинается прием зая...   \n",
              "3  1745861590 $$$ 1745827600 Приветствуем тебя, ч...   \n",
              "4  1745066468 $$$ 1744965351 Начинается прием зая...   \n",
              "5  1742448600 МАИ — навсегда в твоём сердце За 95...   \n",
              "6  1745227213 Начинается прием заявлений на матер...   \n",
              "7  1740983759 $$$ 1738313017 $$$ 1736491987 $$$ 1...   \n",
              "8  1744356960 передайте своему товарищу - может, ...   \n",
              "\n",
              "                                        dialog_plain  \n",
              "0  [8 факультет МАИ] 1733997608 Твой Альфа-Шанс н...  \n",
              "1  [IT-Центр МАИ] 1745219444 Какие планы на лето?...  \n",
              "2  [Институт № 5 МАИ] 1744829478 ❗❗❗ВНИМАНИЕ❗❗❗ Н...  \n",
              "3  [Институт №1 Авиационная Техника МАИ] 17458615...  \n",
              "4  [ИНСТИТУТ №2 МАИ] 1745066468 $$$ 1744965351 На...  \n",
              "5  [МАИ  Московский авиационный институт] 1742448...  \n",
              "6  [МАИ Институт №9  Общеинженерной подготовки] 1...  \n",
              "7  [Поступи в Институт №7 МАИ] 1740983759 $$$ 173...  \n",
              "8  [ФРЭЛА МАИ] 1744356960 передайте своему товари...  "
            ]
          },
          "execution_count": 39,
          "metadata": {},
          "output_type": "execute_result"
        }
      ],
      "source": [
        "data = pd.DataFrame(processed_docs)\n",
        "data"
      ]
    },
    {
      "cell_type": "code",
      "execution_count": null,
      "metadata": {},
      "outputs": [],
      "source": [
        "output_folder = '../data/processed_vk'\n",
        "os.makedirs(output_folder, exist_ok=True)\n",
        "df.to_csv(os.path.join(output_folder, 'vk_posts_processed.csv'), index=False)"
      ]
    },
    {
      "cell_type": "code",
      "execution_count": null,
      "metadata": {},
      "outputs": [],
      "source": [
        "\n",
        "\n",
        "# Конвертируем в DataFrame\n",
        "df = pd.DataFrame(processed_docs)\n",
        "print(df.head())\n",
        "\n",
        "# Сохраняем результат\n",
        "output_folder = '../data/processed_vk'\n",
        "os.makedirs(output_folder, exist_ok=True)\n",
        "df.to_csv(os.path.join(output_folder, 'vk_posts_processed.csv'), index=False)"
      ]
    },
    {
      "cell_type": "code",
      "execution_count": 32,
      "metadata": {},
      "outputs": [],
      "source": [
        "import re\n",
        "\n",
        "def process_vk_posts(posts: list[str]) -> pd.DataFrame:\n",
        "    processed_data = []\n",
        "    \n",
        "    for post in posts:\n",
        "        chunks = re.split(r'\\$\\$\\$\\d*', post)\n",
        "        \n",
        "        for chunk in chunks:\n",
        "            clean_chunk = ' '.join(chunk.strip().split())\n",
        "            \n",
        "            if len(clean_chunk.split()) >= 30:\n",
        "                processed_data.append({\n",
        "                    'original_post': post,\n",
        "                    'processed_chunk': clean_chunk\n",
        "                })\n",
        "    \n",
        "    df = pd.DataFrame(processed_data)\n",
        "    \n",
        "    return df"
      ]
    },
    {
      "cell_type": "code",
      "execution_count": 33,
      "metadata": {},
      "outputs": [
        {
          "data": {
            "text/html": [
              "<div>\n",
              "<style scoped>\n",
              "    .dataframe tbody tr th:only-of-type {\n",
              "        vertical-align: middle;\n",
              "    }\n",
              "\n",
              "    .dataframe tbody tr th {\n",
              "        vertical-align: top;\n",
              "    }\n",
              "\n",
              "    .dataframe thead th {\n",
              "        text-align: right;\n",
              "    }\n",
              "</style>\n",
              "<table border=\"1\" class=\"dataframe\">\n",
              "  <thead>\n",
              "    <tr style=\"text-align: right;\">\n",
              "      <th></th>\n",
              "      <th>doc_name</th>\n",
              "      <th>text</th>\n",
              "    </tr>\n",
              "  </thead>\n",
              "  <tbody>\n",
              "    <tr>\n",
              "      <th>0</th>\n",
              "      <td>Онлайн_магистратура_«Машинное_обучение_и_анали...</td>\n",
              "      <td>× @СБЕР |\\nСпециализированное высшее образован...</td>\n",
              "    </tr>\n",
              "    <tr>\n",
              "      <th>1</th>\n",
              "      <td>Особые_условия_для_поступления_в_Институт_№8_МАИ</td>\n",
              "      <td>Особые условия для поступления в Институт\\n№8 ...</td>\n",
              "    </tr>\n",
              "    <tr>\n",
              "      <th>2</th>\n",
              "      <td>Постановление Правительства РФ от 27.04.2024 N...</td>\n",
              "      <td>ПРАВИТЕЛЬСТВО РОССИЙСКОЙ ФЕДЕРАЦИИ\\nПОСТАНОВЛЕ...</td>\n",
              "    </tr>\n",
              "    <tr>\n",
              "      <th>3</th>\n",
              "      <td>Правила приема МАИ</td>\n",
              "      <td>Правила приема на обучение по образовательным ...</td>\n",
              "    </tr>\n",
              "    <tr>\n",
              "      <th>4</th>\n",
              "      <td>Правила Приема(Министерские)</td>\n",
              "      <td>МИНИСТЕРСТВО юстиции РОССИЙСКОЙ ФЕТЕРАЦИИ\\nЗАР...</td>\n",
              "    </tr>\n",
              "    <tr>\n",
              "      <th>5</th>\n",
              "      <td>Федеральный закон от 29 декабря 2012 г. N 273...</td>\n",
              "      <td>Федеральный закон от 29 декабря 2012 г. N 273-...</td>\n",
              "    </tr>\n",
              "  </tbody>\n",
              "</table>\n",
              "</div>"
            ],
            "text/plain": [
              "                                            doc_name  \\\n",
              "0  Онлайн_магистратура_«Машинное_обучение_и_анали...   \n",
              "1   Особые_условия_для_поступления_в_Институт_№8_МАИ   \n",
              "2  Постановление Правительства РФ от 27.04.2024 N...   \n",
              "3                                 Правила приема МАИ   \n",
              "4                       Правила Приема(Министерские)   \n",
              "5  Федеральный закон от 29 декабря 2012 г. N 273...   \n",
              "\n",
              "                                                text  \n",
              "0  × @СБЕР |\\nСпециализированное высшее образован...  \n",
              "1  Особые условия для поступления в Институт\\n№8 ...  \n",
              "2  ПРАВИТЕЛЬСТВО РОССИЙСКОЙ ФЕДЕРАЦИИ\\nПОСТАНОВЛЕ...  \n",
              "3  Правила приема на обучение по образовательным ...  \n",
              "4  МИНИСТЕРСТВО юстиции РОССИЙСКОЙ ФЕТЕРАЦИИ\\nЗАР...  \n",
              "5  Федеральный закон от 29 декабря 2012 г. N 273-...  "
            ]
          },
          "execution_count": 33,
          "metadata": {},
          "output_type": "execute_result"
        }
      ],
      "source": [
        "df"
      ]
    },
    {
      "cell_type": "code",
      "execution_count": 30,
      "metadata": {},
      "outputs": [],
      "source": [
        "docs = []\n",
        "for p in paths:\n",
        "    with open(p, 'r', encoding='utf-8') as f:\n",
        "        data = f.read()\n",
        "    docs.append({\n",
        "        'doc_name': os.path.splitext(os.path.basename(p))[0],\n",
        "        'text': data, \n",
        "        'dialog_plain': f\"[{os.path.splitext(os.path.basename(p))[0]}] {data}\"\n",
        "    })"
      ]
    },
    {
      "cell_type": "code",
      "execution_count": 31,
      "metadata": {},
      "outputs": [
        {
          "data": {
            "text/html": [
              "<div>\n",
              "<style scoped>\n",
              "    .dataframe tbody tr th:only-of-type {\n",
              "        vertical-align: middle;\n",
              "    }\n",
              "\n",
              "    .dataframe tbody tr th {\n",
              "        vertical-align: top;\n",
              "    }\n",
              "\n",
              "    .dataframe thead th {\n",
              "        text-align: right;\n",
              "    }\n",
              "</style>\n",
              "<table border=\"1\" class=\"dataframe\">\n",
              "  <thead>\n",
              "    <tr style=\"text-align: right;\">\n",
              "      <th></th>\n",
              "      <th>doc_name</th>\n",
              "      <th>text</th>\n",
              "      <th>dialog_plain</th>\n",
              "    </tr>\n",
              "  </thead>\n",
              "  <tbody>\n",
              "    <tr>\n",
              "      <th>0</th>\n",
              "      <td>8 факультет МАИ</td>\n",
              "      <td>1733997608\\nТвой Альфа-Шанс на 300 000 ₽ ⚡️ \\n...</td>\n",
              "      <td>[8 факультет МАИ] 1733997608\\nТвой Альфа-Шанс ...</td>\n",
              "    </tr>\n",
              "    <tr>\n",
              "      <th>1</th>\n",
              "      <td>IT-Центр МАИ</td>\n",
              "      <td>1745219444\\nКакие планы на лето? Сессия, практ...</td>\n",
              "      <td>[IT-Центр МАИ] 1745219444\\nКакие планы на лето...</td>\n",
              "    </tr>\n",
              "    <tr>\n",
              "      <th>2</th>\n",
              "      <td>Институт № 5 МАИ</td>\n",
              "      <td>1744829478\\n❗❗❗ВНИМАНИЕ❗❗❗ \\nНачинается прием ...</td>\n",
              "      <td>[Институт № 5 МАИ] 1744829478\\n❗❗❗ВНИМАНИЕ❗❗❗ ...</td>\n",
              "    </tr>\n",
              "    <tr>\n",
              "      <th>3</th>\n",
              "      <td>Институт №1 Авиационная Техника МАИ</td>\n",
              "      <td>1745861590\\n\\n$$$\\n1745827600\\nПриветствуем те...</td>\n",
              "      <td>[Институт №1 Авиационная Техника МАИ] 17458615...</td>\n",
              "    </tr>\n",
              "    <tr>\n",
              "      <th>4</th>\n",
              "      <td>ИНСТИТУТ №2 МАИ</td>\n",
              "      <td>1745066468\\n\\n$$$\\n1744965351\\nНачинается прие...</td>\n",
              "      <td>[ИНСТИТУТ №2 МАИ] 1745066468\\n\\n$$$\\n174496535...</td>\n",
              "    </tr>\n",
              "    <tr>\n",
              "      <th>5</th>\n",
              "      <td>МАИ  Московский авиационный институт</td>\n",
              "      <td>1742448600\\nМАИ — навсегда в твоём сердце \\n\\n...</td>\n",
              "      <td>[МАИ  Московский авиационный институт] 1742448...</td>\n",
              "    </tr>\n",
              "    <tr>\n",
              "      <th>6</th>\n",
              "      <td>МАИ Институт №9  Общеинженерной подготовки</td>\n",
              "      <td>1745227213\\nНачинается прием заявлений на мате...</td>\n",
              "      <td>[МАИ Институт №9  Общеинженерной подготовки] 1...</td>\n",
              "    </tr>\n",
              "    <tr>\n",
              "      <th>7</th>\n",
              "      <td>Поступи в Институт №7 МАИ</td>\n",
              "      <td>1740983759\\n\\n$$$\\n1738313017\\n\\n$$$\\n17364919...</td>\n",
              "      <td>[Поступи в Институт №7 МАИ] 1740983759\\n\\n$$$\\...</td>\n",
              "    </tr>\n",
              "    <tr>\n",
              "      <th>8</th>\n",
              "      <td>ФРЭЛА МАИ</td>\n",
              "      <td>1744356960\\nпередайте своему товарищу - может,...</td>\n",
              "      <td>[ФРЭЛА МАИ] 1744356960\\nпередайте своему товар...</td>\n",
              "    </tr>\n",
              "  </tbody>\n",
              "</table>\n",
              "</div>"
            ],
            "text/plain": [
              "                                     doc_name  \\\n",
              "0                             8 факультет МАИ   \n",
              "1                                IT-Центр МАИ   \n",
              "2                            Институт № 5 МАИ   \n",
              "3         Институт №1 Авиационная Техника МАИ   \n",
              "4                             ИНСТИТУТ №2 МАИ   \n",
              "5        МАИ  Московский авиационный институт   \n",
              "6  МАИ Институт №9  Общеинженерной подготовки   \n",
              "7                   Поступи в Институт №7 МАИ   \n",
              "8                                   ФРЭЛА МАИ   \n",
              "\n",
              "                                                text  \\\n",
              "0  1733997608\\nТвой Альфа-Шанс на 300 000 ₽ ⚡️ \\n...   \n",
              "1  1745219444\\nКакие планы на лето? Сессия, практ...   \n",
              "2  1744829478\\n❗❗❗ВНИМАНИЕ❗❗❗ \\nНачинается прием ...   \n",
              "3  1745861590\\n\\n$$$\\n1745827600\\nПриветствуем те...   \n",
              "4  1745066468\\n\\n$$$\\n1744965351\\nНачинается прие...   \n",
              "5  1742448600\\nМАИ — навсегда в твоём сердце \\n\\n...   \n",
              "6  1745227213\\nНачинается прием заявлений на мате...   \n",
              "7  1740983759\\n\\n$$$\\n1738313017\\n\\n$$$\\n17364919...   \n",
              "8  1744356960\\nпередайте своему товарищу - может,...   \n",
              "\n",
              "                                        dialog_plain  \n",
              "0  [8 факультет МАИ] 1733997608\\nТвой Альфа-Шанс ...  \n",
              "1  [IT-Центр МАИ] 1745219444\\nКакие планы на лето...  \n",
              "2  [Институт № 5 МАИ] 1744829478\\n❗❗❗ВНИМАНИЕ❗❗❗ ...  \n",
              "3  [Институт №1 Авиационная Техника МАИ] 17458615...  \n",
              "4  [ИНСТИТУТ №2 МАИ] 1745066468\\n\\n$$$\\n174496535...  \n",
              "5  [МАИ  Московский авиационный институт] 1742448...  \n",
              "6  [МАИ Институт №9  Общеинженерной подготовки] 1...  \n",
              "7  [Поступи в Институт №7 МАИ] 1740983759\\n\\n$$$\\...  \n",
              "8  [ФРЭЛА МАИ] 1744356960\\nпередайте своему товар...  "
            ]
          },
          "execution_count": 31,
          "metadata": {},
          "output_type": "execute_result"
        }
      ],
      "source": [
        "data = pd.DataFrame(docs)\n",
        "data"
      ]
    },
    {
      "cell_type": "code",
      "execution_count": 4,
      "metadata": {},
      "outputs": [],
      "source": [
        "folder = '../data'"
      ]
    },
    {
      "cell_type": "code",
      "execution_count": 5,
      "metadata": {},
      "outputs": [
        {
          "data": {
            "text/plain": [
              "['../data\\\\2025-04-29_13-41-54_parsed.txt']"
            ]
          },
          "execution_count": 5,
          "metadata": {},
          "output_type": "execute_result"
        }
      ],
      "source": [
        "paths = [os.path.join(folder, f) for f in os.listdir(folder) if os.path.isfile(os.path.join(folder, f))]\n",
        "paths"
      ]
    },
    {
      "cell_type": "code",
      "execution_count": 9,
      "metadata": {},
      "outputs": [],
      "source": [
        "with open('../data/2025-04-29_13-41-54_parsed.txt', 'r', encoding='utf-8') as f:\n",
        "    text = f.read()"
      ]
    },
    {
      "cell_type": "code",
      "execution_count": 12,
      "metadata": {},
      "outputs": [],
      "source": [
        "pages = re.split(r'--- Page: (.+?) ---', text)[1:]\n",
        "\n",
        "data = []\n",
        "\n",
        "for i in range(0, len(pages), 2):\n",
        "    url = pages[i].strip()\n",
        "    content = pages[i+1].strip()\n",
        "    \n",
        "    cleaned_lines = []\n",
        "    for line in content.split('\\n'):\n",
        "        line = line.strip()\n",
        "        \n",
        "        line = re.sub(r'^\\[.*?\\]', '', line).strip()\n",
        "        \n",
        "        if re.match(r'^[A-Za-zА-Яа-я]:', line):\n",
        "            line = re.sub(r'^[A-Za-zА-Яа-я]:', '', line).strip()\n",
        "\n",
        "        line = re.sub(r'^[\\'\"]', '', line)\n",
        "        line = re.sub(r'[\\'\"]$', '', line).strip()\n",
        "        \n",
        "        if line:  \n",
        "            cleaned_lines.append(line)\n",
        "    \n",
        "    page_content = '\\n'.join(cleaned_lines)\n",
        "    \n",
        "    data.append({'url': url, 'content': page_content})\n",
        "\n",
        "\n",
        "df = pd.DataFrame(data)\n"
      ]
    },
    {
      "cell_type": "code",
      "execution_count": 13,
      "metadata": {},
      "outputs": [
        {
          "data": {
            "text/html": [
              "<div>\n",
              "<style scoped>\n",
              "    .dataframe tbody tr th:only-of-type {\n",
              "        vertical-align: middle;\n",
              "    }\n",
              "\n",
              "    .dataframe tbody tr th {\n",
              "        vertical-align: top;\n",
              "    }\n",
              "\n",
              "    .dataframe thead th {\n",
              "        text-align: right;\n",
              "    }\n",
              "</style>\n",
              "<table border=\"1\" class=\"dataframe\">\n",
              "  <thead>\n",
              "    <tr style=\"text-align: right;\">\n",
              "      <th></th>\n",
              "      <th>url</th>\n",
              "      <th>content</th>\n",
              "    </tr>\n",
              "  </thead>\n",
              "  <tbody>\n",
              "    <tr>\n",
              "      <th>0</th>\n",
              "      <td>https://priem.mai.ru/</td>\n",
              "      <td>Приёмная комиссия МАИ\\nБаннеры\\nДниоткрытыхдве...</td>\n",
              "    </tr>\n",
              "    <tr>\n",
              "      <th>1</th>\n",
              "      <td>https://priem.mai.ru/calendar/</td>\n",
              "      <td>Календарь абитуриента\\nКалендарьабитуриента\\nД...</td>\n",
              "    </tr>\n",
              "    <tr>\n",
              "      <th>2</th>\n",
              "      <td>https://priem.mai.ru/results/orders/2024.php</td>\n",
              "      <td>Приказы о зачислении 2024\\nПриказы о зачислени...</td>\n",
              "    </tr>\n",
              "    <tr>\n",
              "      <th>3</th>\n",
              "      <td>https://priem.mai.ru/contacts/</td>\n",
              "      <td>Контакты\\nКонтакты\\nОсновной кампус\\nКак пройт...</td>\n",
              "    </tr>\n",
              "    <tr>\n",
              "      <th>4</th>\n",
              "      <td>https://priem.mai.ru/news/item.php?id=184677</td>\n",
              "      <td>МАИ проведёт День открытых дверей для поступаю...</td>\n",
              "    </tr>\n",
              "    <tr>\n",
              "      <th>...</th>\n",
              "      <td>...</td>\n",
              "      <td>...</td>\n",
              "    </tr>\n",
              "    <tr>\n",
              "      <th>733</th>\n",
              "      <td>https://priem.mai.ru/articles/?PAGEN_1=25</td>\n",
              "      <td>Статьи\\nВ МАИ определили победителей школьной ...</td>\n",
              "    </tr>\n",
              "    <tr>\n",
              "      <th>734</th>\n",
              "      <td>https://priem.mai.ru/articles/?PAGEN_1=26</td>\n",
              "      <td>Статьи\\nУченик Предуниверсария МАИ создал Tele...</td>\n",
              "    </tr>\n",
              "    <tr>\n",
              "      <th>735</th>\n",
              "      <td>https://priem.mai.ru/articles/?PAGEN_1=27</td>\n",
              "      <td>Статьи\\nИз первокурсника в суперинженера: особ...</td>\n",
              "    </tr>\n",
              "    <tr>\n",
              "      <th>736</th>\n",
              "      <td>https://priem.mai.ru/articles/?PAGEN_1=28</td>\n",
              "      <td>Статьи\\nМАИ привлёк школьников к дистанционной...</td>\n",
              "    </tr>\n",
              "    <tr>\n",
              "      <th>737</th>\n",
              "      <td>https://priem.mai.ru/articles/?PAGEN_1=29</td>\n",
              "      <td>Статьи\\nМАИ представил свои программы на выста...</td>\n",
              "    </tr>\n",
              "  </tbody>\n",
              "</table>\n",
              "<p>738 rows × 2 columns</p>\n",
              "</div>"
            ],
            "text/plain": [
              "                                              url  \\\n",
              "0                           https://priem.mai.ru/   \n",
              "1                  https://priem.mai.ru/calendar/   \n",
              "2    https://priem.mai.ru/results/orders/2024.php   \n",
              "3                  https://priem.mai.ru/contacts/   \n",
              "4    https://priem.mai.ru/news/item.php?id=184677   \n",
              "..                                            ...   \n",
              "733     https://priem.mai.ru/articles/?PAGEN_1=25   \n",
              "734     https://priem.mai.ru/articles/?PAGEN_1=26   \n",
              "735     https://priem.mai.ru/articles/?PAGEN_1=27   \n",
              "736     https://priem.mai.ru/articles/?PAGEN_1=28   \n",
              "737     https://priem.mai.ru/articles/?PAGEN_1=29   \n",
              "\n",
              "                                               content  \n",
              "0    Приёмная комиссия МАИ\\nБаннеры\\nДниоткрытыхдве...  \n",
              "1    Календарь абитуриента\\nКалендарьабитуриента\\nД...  \n",
              "2    Приказы о зачислении 2024\\nПриказы о зачислени...  \n",
              "3    Контакты\\nКонтакты\\nОсновной кампус\\nКак пройт...  \n",
              "4    МАИ проведёт День открытых дверей для поступаю...  \n",
              "..                                                 ...  \n",
              "733  Статьи\\nВ МАИ определили победителей школьной ...  \n",
              "734  Статьи\\nУченик Предуниверсария МАИ создал Tele...  \n",
              "735  Статьи\\nИз первокурсника в суперинженера: особ...  \n",
              "736  Статьи\\nМАИ привлёк школьников к дистанционной...  \n",
              "737  Статьи\\nМАИ представил свои программы на выста...  \n",
              "\n",
              "[738 rows x 2 columns]"
            ]
          },
          "execution_count": 13,
          "metadata": {},
          "output_type": "execute_result"
        }
      ],
      "source": [
        "df"
      ]
    },
    {
      "cell_type": "code",
      "execution_count": 14,
      "metadata": {},
      "outputs": [],
      "source": [
        "df.to_csv('../data/support/pages_mai.csv', index=False, encoding='utf-8-sig')"
      ]
    },
    {
      "cell_type": "code",
      "execution_count": null,
      "metadata": {},
      "outputs": [],
      "source": []
    }
  ],
  "metadata": {
    "colab": {
      "provenance": []
    },
    "kernelspec": {
      "display_name": "Python 3",
      "language": "python",
      "name": "python3"
    },
    "language_info": {
      "codemirror_mode": {
        "name": "ipython",
        "version": 3
      },
      "file_extension": ".py",
      "mimetype": "text/x-python",
      "name": "python",
      "nbconvert_exporter": "python",
      "pygments_lexer": "ipython3",
      "version": "3.12.4"
    }
  },
  "nbformat": 4,
  "nbformat_minor": 0
}
