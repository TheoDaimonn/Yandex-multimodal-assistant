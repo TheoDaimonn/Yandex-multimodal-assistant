{
 "cells": [
  {
   "cell_type": "markdown",
   "id": "a9cc0853",
   "metadata": {},
   "source": [
    "Оценка RAG"
   ]
  },
  {
   "cell_type": "code",
   "execution_count": 20,
   "id": "b6e3284d",
   "metadata": {},
   "outputs": [],
   "source": [
    "from typing import List\n",
    "import os\n",
    "import asyncio\n",
    "import json\n",
    "import numpy as np\n",
    "from react_agent.tools import search \n",
    "from react_agent import graph\n",
    "from langchain_openai import ChatOpenAI, OpenAIEmbeddings\n",
    "from ragas import EvaluationDataset, evaluate\n",
    "from ragas.llms import LangchainLLMWrapper\n",
    "from ragas.metrics import LLMContextRecall, Faithfulness, ResponseRelevancy\n",
    "\n",
    "\n",
    "\n",
    "def retrieve(query: str, top_k: int = 10) -> List[str]:\n",
    "    \"\"\"\n",
    "    Вызов Qdrant-инструмента search() для получения до top_k фрагментов контекста.\n",
    "    \"\"\"\n",
    "    raw = search(query)\n",
    "    # search() возвращает строки, разделённые сериями ===== и заголовками источников\n",
    "    # Разбиваем по заголовку каждого результата\n",
    "    parts = [part.strip() for part in raw.split(\"==========Актуально в период:\") if part.strip()]\n",
    "    # Берём первые top_k результатов\n",
    "    return parts[:top_k]\n"
   ]
  },
  {
   "cell_type": "code",
   "execution_count": 21,
   "id": "9c0ce98d",
   "metadata": {},
   "outputs": [
    {
     "name": "stdout",
     "output_type": "stream",
     "text": [
      "<class 'langchain_core.utils.pydantic.ReAct AgentInput'>\n"
     ]
    }
   ],
   "source": [
    "print(graph.input_schema)\n"
   ]
  },
  {
   "cell_type": "markdown",
   "id": "19a087b0",
   "metadata": {},
   "source": [
    "Создание датасета"
   ]
  },
  {
   "cell_type": "code",
   "execution_count": null,
   "id": "292aadcf",
   "metadata": {},
   "outputs": [
    {
     "name": "stdout",
     "output_type": "stream",
     "text": [
      "Request error: 404 Client Error: Not Found for url: https://llm.api.cloud.yandex.net/foundationModels/v1/completion\n",
      "Здравствуйте, а подскажите флюорография и справка с анализами от дерматолога сколько действительны, т.е, за сколько до заселения должны быть сделаны? → Согласно доступной информации, для заселения в общежитие МАИ требуется флюорографическое исследование сроком не позднее одного года. О сроках действия справки от дерматолога точной информации нет, однако рекомендуется проходить обследование ежегодно.\n",
      "\n",
      "Для уточнения актуальной информации и возможных изменений в требованиях, рекомендую связаться с дирекцией студгородка МАИ по телефону +7 499 195-95-14.\n",
      "Request error: 404 Client Error: Not Found for url: https://llm.api.cloud.yandex.net/foundationModels/v1/completion\n",
      "общежития и физкультуры нужна справка 086у. Достаточно будет отдать оригинал например а общежитие, в другое место копию? → Согласно найденной информации, для заселения в общежитие МАИ требуется предоставление либо копии, либо оригинала справки 086у. Однако, неясно, достаточно ли будет предоставить оригинал в одно место, а копию — в другое, так как в некоторых случаях могут потребоваться оригиналы.\n",
      "\n",
      "Рекомендую связаться с приёмной комиссией или дирекцией студгородка МАИ напрямую для получения точной информации по вашему вопросу. Телефон дирекции студгородка: +74991959514.\n",
      "Подскажите, а в общаге на Царева кухня у каждого блока своя или одна общая? Как там обстоят дела с газовыми плитами? → По информации из доступных источников, в общежитии на Царева кухня находится на этаже, а не в каждом блоке. Газовых плит нет, используются электроплиты и духовки. Обратите внимание, что данные актуальны на 2021 год, и условия могут измениться. Если вам нужна более свежая информация, рекомендую обратиться напрямую в приёмную комиссию МАИ.\n",
      "Request error: 404 Client Error: Not Found for url: https://llm.api.cloud.yandex.net/foundationModels/v1/completion\n",
      "Добрый вечер. Подскажите пожалуйста, чем принципиально отличается образовательная программа ''Информатика\"\" на направлении 01.03.02 от ''Информатики и компьютерных наук\"\" на направлении 02.03.02?   → На основании доступной информации, направления 01.03.02 («Прикладная математика и информатика») и 02.03.02 («Фундаментальная информатика и информационные технологии») в МАИ имеют следующие особенности:\n",
      "\n",
      "- Оба направления считаются программистскими и обучаются на одной кафедре в 8 институте МАИ.\n",
      "- В 8 институте сильная программистская подготовка, студенты кафедры многократно обыгрывали и опережали МГТУ им. Баумана в соревнованиях по спортивному программированию.\n",
      "\n",
      "Для более детального понимания различий между этими программами рекомендую обратиться напрямую в приёмную комиссию МАИ или посетить официальный сайт института для изучения учебных планов и особенностей каждого направления.\n",
      "Request error: 404 Client Error: Not Found for url: https://llm.api.cloud.yandex.net/foundationModels/v1/completion\n",
      "Здравствуйте, а если поступить на бюджет без общаги, ее потом можно будет получить, если да, сложно ли это будет сделать? → Да, можно получить место в общежитии МАИ после поступления, даже если вы не подавали заявление на общежитие при поступлении. Если вы нуждаетесь в общежитии, вы можете встать в очередь на получение места. Места в общежитии могут освобождаться в течение года, что даёт возможность их получения позже. Активное участие в жизни института также может помочь быстрее получить общежитие.\n",
      "Request error: 404 Client Error: Not Found for url: https://llm.api.cloud.yandex.net/foundationModels/v1/completion\n",
      "Я правильно понимаю, что если я прохожу по первому приоритету на бюджет без общаги, а на второй приоритет с общагой, то зачисляют меня именно на первый приоритет без общежития? → Согласно правилам приёма в МАИ, приоритет зачисления не влияет на конкурс, если абитуриент «перетекает» в конкурс по более низкому приоритету. Если вы проходите по первому приоритету на бюджет без общежития, а на второй приоритет с общежитием, то вы будете участвовать в конкурсе по обоим приоритетам. При одинаковых баллах вы будете равны в конкурсе с другими абитуриентами, и приоритет будет отдаваться тому, у кого выше балл ЕГЭ.\n",
      "\n",
      "Важно помнить, что для участия в конкурсе на зачисление необходимо подать оригинал аттестата и согласие на зачисление.\n",
      "Request error: 404 Client Error: Not Found for url: https://llm.api.cloud.yandex.net/foundationModels/v1/completion\n",
      "Ошибка при обработке вопроса 'Мне позвонили из ПК и сказали, что именно на айти и программировании основан 8 институт МАИ, а у меня на некоторые группы было подано в 3. Скажите, пожалуйста, действительно ли лучше на айти направления идти в 3 институт и какие направления на госуслугах относят к 3?': Error code: 400 - {'error': {'message': 'Error in session internal_id=1cfa5b0c-611b2cdd-a22376d4-40856159&request_id=628d1b86-f062-48ba-a3ff-5ea169460630&client_request_id=undefined&folder_id=b1giflegi2ke62rs80la: number of input tokens must be no more than 8192, got 12901', 'type': 'invalid_request_error'}}\n",
      "Request error: 404 Client Error: Not Found for url: https://llm.api.cloud.yandex.net/foundationModels/v1/completion\n",
      "Расскажите пожалуйста по подробнее про факультет фундаментальная информатика и информационные технологии.  → ### Факультет фундаментальная информатика и информационные технологии в МАИ\n",
      "\n",
      "Факультет фундаментальная информатика и информационные технологии (ФИИТ) в МАИ ориентирован на классический Computer Science и предлагает профиль «Информатика и компьютерные науки». Этот факультет отличается от факультета «Компьютерные науки и прикладная математика», который имеет несколько профилей, связанных с прикладной математикой и информатикой.\n",
      "\n",
      "#### Особенности факультета:\n",
      "- **Специализация**: ФИИТ фокусируется на классическом Computer Science, что означает более глубокое изучение основ информатики и компьютерных наук.\n",
      "- **Кафедры**: У факультетов разные выпускающие кафедры. Для фундаментальной информатики и профилей прикладной математики — это кафедра 806.\n",
      "\n",
      "#### Сотрудничество с Яндексом:\n",
      "МАИ расширяет ассоциированные курсы с Яндексом, добавляя к программированию на Python курсы по backend и frontend разработке. Это даёт студентам возможность получить дополнительные навыки, востребованные на рынке труда.\n",
      "\n",
      "#### Цифровая кафедра:\n",
      "МАИ активно развивает сотрудничество с ведущими IT-компаниями и IT-подразделениями предприятий аэрокосмической индустрии. Студенты имеют возможность получить дополнительную квалификацию по IT-направлениям и приобрести навыки работы с современными информационными системами.\n",
      "\n",
      "Программы позволяют готовить специалистов с уникальными компетенциями и ориентированы на различные категории студентов. Две программы добавляют прикладные цифровые компетенции к базовым, которые формируются на основных образовательных программам по IT-направлениям.\n",
      "\n",
      "Если у вас есть дополнительные вопросы или вам нужна более подробная информация, рекомендую обратиться напрямую в приёмную комиссию МАИ.\n",
      "Request error: 404 Client Error: Not Found for url: https://llm.api.cloud.yandex.net/foundationModels/v1/completion\n",
      "На этой программе изучают питон и с++? Это в этой программе обучают созданию программ, игр и тд тп? → В МАИ действительно изучают языки программирования Python и C++. Например, на базе института №8 «Компьютерные науки и прикладная математика» студенты бакалавриата 1–2 курсов изучают Python, C++, а также алгоритмы и структуры данных по материалам хендбуков Яндекса. Для студентов 3–4 курсов предусмотрены факультативные курсы, где они могут изучать Python и Go.\n",
      "\n",
      "Также в институте №8 обучают алгоритмам и архитектурам построения кода, и студенты изучают более сложные языки программирования с первого курса.\n",
      "\n",
      "Если вас интересует конкретное направление или факультет, пожалуйста, уточните ваш вопрос, и я смогу предоставить более детальную информацию.\n"
     ]
    }
   ],
   "source": [
    "import asyncio\n",
    "import json\n",
    "from langchain_core.messages import HumanMessage\n",
    "\n",
    "async def main():\n",
    "    # Читаем вопросы из файла\n",
    "    questions = open('../data/testing_data/test_cases.txt', encoding='utf-8').read().splitlines()\n",
    "    dataset = []\n",
    "\n",
    "    for q in questions:\n",
    "        try:\n",
    "            # Получаем релевантные контексты для вопроса\n",
    "            contexts = retrieve(q)  # предполагаемая функция retrieve\n",
    "\n",
    "            # Формируем prompt для агента\n",
    "            prompt = f\"Вопрос пользователя:\\n{q}\"\n",
    "\n",
    "            # Асинхронно вызываем граф\n",
    "            response_obj = await graph.ainvoke({\"messages\": [HumanMessage(content=q)]})\n",
    "\n",
    "            # Извлекаем текст из ответа агента\n",
    "            response_text = response_obj['messages'][-1].content\n",
    "\n",
    "            # Добавляем запись в датасет\n",
    "            dataset.append({\n",
    "                \"user_input\": q,\n",
    "                \"retrieved_contexts\": contexts,\n",
    "                \"response\": response_text\n",
    "            })\n",
    "\n",
    "            print(f\"{q} → {response_text}\")\n",
    "        except Exception as e:\n",
    "            print(f\"Ошибка при обработке вопроса '{q}': {e}\")\n",
    "\n",
    "\n",
    "        # Сохраняем собранный датасет в JSON-файл\n",
    "    with open('dataset.json', 'w', encoding='utf-8') as f:\n",
    "        json.dump(dataset, f, ensure_ascii=False, indent=4)\n",
    "        \n",
    "\n",
    "if __name__ == \"__main__\":\n",
    "    asyncio.run(main())\n"
   ]
  },
  {
   "cell_type": "code",
   "execution_count": null,
   "id": "572807f5",
   "metadata": {},
   "outputs": [],
   "source": [
    "from ragas import EvaluationDataset\n",
    "eval_ds = EvaluationDataset.from_list(dataset)\n"
   ]
  },
  {
   "cell_type": "markdown",
   "id": "e9c3c48c",
   "metadata": {},
   "source": [
    "Оценка"
   ]
  },
  {
   "cell_type": "code",
   "execution_count": null,
   "id": "88678d2b",
   "metadata": {},
   "outputs": [],
   "source": [
    "from ragas import evaluate\n",
    "from ragas.llms import LangchainLLMWrapper\n",
    "from ragas.metrics import LLMContextRecall, Faithfulness, ResponseRelevancy, AnswerCorrectness, AnswerCompleteness, ContextPrecision, ContextRecall\n",
    "llm = ChatOpenAI(\n",
    "        model=\"gpt://\" + os.environ[\"FOLDER_ID\"] + '/yandexgpt/rc',\n",
    "        api_key=os.environ[\"API_KEY\"],\n",
    "        temperature=0.1,\n",
    "        base_url=\"https://llm.api.cloud.yandex.net/v1\"\n",
    "    )\n",
    "evaluator = LangchainLLMWrapper(llm)\n",
    "metrics = [\n",
    "    LLMContextRecall(),\n",
    "    Faithfulness(),\n",
    "    ResponseRelevancy(),\n",
    "    AnswerCorrectness(),\n",
    "    AnswerCompleteness(),\n",
    "    ContextPrecision(),\n",
    "    ContextRecall()\n",
    "]\n",
    "results = evaluate(\n",
    "    dataset=eval_ds,\n",
    "    metrics=metrics,\n",
    "    llm=evaluator\n",
    ")\n",
    "print(results)\n"
   ]
  }
 ],
 "metadata": {
  "kernelspec": {
   "display_name": ".venv",
   "language": "python",
   "name": "python3"
  },
  "language_info": {
   "codemirror_mode": {
    "name": "ipython",
    "version": 3
   },
   "file_extension": ".py",
   "mimetype": "text/x-python",
   "name": "python",
   "nbconvert_exporter": "python",
   "pygments_lexer": "ipython3",
   "version": "3.11.0"
  }
 },
 "nbformat": 4,
 "nbformat_minor": 5
}
