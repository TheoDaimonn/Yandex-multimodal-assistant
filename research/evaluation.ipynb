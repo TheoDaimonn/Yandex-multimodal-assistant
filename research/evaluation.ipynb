{
 "cells": [
  {
   "cell_type": "markdown",
   "id": "a9cc0853",
   "metadata": {},
   "source": [
    "Оценка RAG"
   ]
  },
  {
   "cell_type": "code",
   "execution_count": 2,
   "id": "b6e3284d",
   "metadata": {},
   "outputs": [],
   "source": [
    "from typing import List\n",
    "import os\n",
    "import json\n",
    "import numpy as np\n",
    "from react_agent.tools import search  # ваш инструмент с Qdrant + fastembed\n",
    "from langchain_openai import ChatOpenAI, OpenAIEmbeddings\n",
    "from ragas import EvaluationDataset, evaluate\n",
    "from ragas.llms import LangchainLLMWrapper\n",
    "from ragas.metrics import LLMContextRecall, Faithfulness, ResponseRelevancy\n",
    "\n",
    "\n",
    "\n",
    "def retrieve(query: str, top_k: int = 10) -> List[str]:\n",
    "    \"\"\"\n",
    "    Вызов Qdrant-инструмента search() для получения до top_k фрагментов контекста.\n",
    "    \"\"\"\n",
    "    raw = search(query)\n",
    "    # search() возвращает строки, разделённые сериями ===== и заголовками источников\n",
    "    # Разбиваем по заголовку каждого результата\n",
    "    parts = [part.strip() for part in raw.split(\"==========Актуально в период:\") if part.strip()]\n",
    "    # Берём первые top_k результатов\n",
    "    return parts[:top_k]\n"
   ]
  },
  {
   "cell_type": "markdown",
   "id": "19a087b0",
   "metadata": {},
   "source": [
    "Создание датасета"
   ]
  },
  {
   "cell_type": "code",
   "execution_count": null,
   "id": "292aadcf",
   "metadata": {},
   "outputs": [],
   "source": [
    "dataset = []\n",
    "questions = open('../data/testing_data/test_cases.txt').read().splitlines()\n",
    "for q in questions:\n",
    "    contexts = retrieve(q)\n",
    "    dataset.append({\n",
    "        \"user_input\": q,\n",
    "        \"retrieved_contexts\": contexts,\n",
    "            #\"response\": response\n",
    "    })"
   ]
  },
  {
   "cell_type": "code",
   "execution_count": null,
   "id": "572807f5",
   "metadata": {},
   "outputs": [],
   "source": [
    "from ragas import EvaluationDataset\n",
    "eval_ds = EvaluationDataset.from_list(dataset)\n"
   ]
  },
  {
   "cell_type": "markdown",
   "id": "e9c3c48c",
   "metadata": {},
   "source": [
    "Оценка"
   ]
  },
  {
   "cell_type": "code",
   "execution_count": null,
   "id": "88678d2b",
   "metadata": {},
   "outputs": [],
   "source": [
    "from ragas import evaluate\n",
    "from ragas.llms import LangchainLLMWrapper\n",
    "from ragas.metrics import LLMContextRecall, Faithfulness, ResponseRelevancy, AnswerCorrectness, AnswerCompleteness, ContextPrecision, ContextRecall\n",
    "llm = ChatOpenAI(\n",
    "        model=\"gpt://\" + os.environ[\"FOLDER_ID\"] + '/yandexgpt/rc',\n",
    "        api_key=os.environ[\"API_KEY\"],\n",
    "        temperature=0.1,\n",
    "        base_url=\"https://llm.api.cloud.yandex.net/v1\"\n",
    "    )\n",
    "evaluator = LangchainLLMWrapper(llm)\n",
    "metrics = [\n",
    "    LLMContextRecall(),\n",
    "    Faithfulness(),\n",
    "    ResponseRelevancy(),\n",
    "    AnswerCorrectness(),\n",
    "    AnswerCompleteness(),\n",
    "    ContextPrecision(),\n",
    "    ContextRecall()\n",
    "]\n",
    "results = evaluate(\n",
    "    dataset=eval_ds,\n",
    "    metrics=metrics,\n",
    "    llm=evaluator\n",
    ")\n",
    "print(results)\n"
   ]
  }
 ],
 "metadata": {
  "kernelspec": {
   "display_name": ".venv",
   "language": "python",
   "name": "python3"
  },
  "language_info": {
   "codemirror_mode": {
    "name": "ipython",
    "version": 3
   },
   "file_extension": ".py",
   "mimetype": "text/x-python",
   "name": "python",
   "nbconvert_exporter": "python",
   "pygments_lexer": "ipython3",
   "version": "3.11.0"
  }
 },
 "nbformat": 4,
 "nbformat_minor": 5
}
