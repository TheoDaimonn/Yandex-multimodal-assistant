{
 "cells": [
  {
   "cell_type": "markdown",
   "id": "a9cc0853",
   "metadata": {},
   "source": [
    "Оценка RAG"
   ]
  },
  {
   "cell_type": "code",
   "execution_count": null,
   "id": "b6e3284d",
   "metadata": {},
   "outputs": [],
   "source": [
    "from typing import List\n",
    "import os\n",
    "import asyncio\n",
    "import json\n",
    "import numpy as np\n",
    "from react_agent.tools import search \n",
    "from react_agent import graph\n",
    "from langchain_openai import ChatOpenAI, OpenAIEmbeddings\n",
    "from ragas import EvaluationDataset, evaluate\n",
    "from ragas.llms import LangchainLLMWrapper\n",
    "from ragas.metrics import LLMContextRecall, Faithfulness, ResponseRelevancy\n",
    "\n",
    "\n",
    "\n",
    "def retrieve(query: str, top_k: int = 10) -> List[str]:\n",
    "    \"\"\"\n",
    "    Вызов Qdrant-инструмента search() для получения до top_k фрагментов контекста.\n",
    "    \"\"\"\n",
    "    raw = search(query)\n",
    "    # search() возвращает строки, разделённые сериями ===== и заголовками источников\n",
    "    # Разбиваем по заголовку каждого результата\n",
    "    parts = [part.strip() for part in raw.split(\"==========Актуально в период:\") if part.strip()]\n",
    "    # Берём первые top_k результатов\n",
    "    return parts[:top_k]\n"
   ]
  },
  {
   "cell_type": "code",
   "execution_count": 14,
   "id": "9c0ce98d",
   "metadata": {},
   "outputs": [
    {
     "name": "stdout",
     "output_type": "stream",
     "text": [
      "<class 'langchain_core.utils.pydantic.ReAct AgentInput'>\n"
     ]
    }
   ],
   "source": [
    "print(graph.input_schema)\n"
   ]
  },
  {
   "cell_type": "markdown",
   "id": "19a087b0",
   "metadata": {},
   "source": [
    "Создание датасета"
   ]
  },
  {
   "cell_type": "code",
   "execution_count": 19,
   "id": "292aadcf",
   "metadata": {},
   "outputs": [
    {
     "name": "stdout",
     "output_type": "stream",
     "text": [
      "Здравствуйте, а подскажите флюорография и справка с анализами от дерматолога сколько действительны, т.е, за сколько до заселения должны быть сделаны? → {'messages': [AIMessage(content='Здравствуйте! Я AI-ассистент приёмной комиссии МАИ. Чем я могу вам помочь?', additional_kwargs={'refusal': None}, response_metadata={'token_usage': {'completion_tokens': 20, 'prompt_tokens': 1578, 'total_tokens': 1598, 'completion_tokens_details': None, 'prompt_tokens_details': None}, 'model_name': 'gpt://b1gst3c7cskk2big5fqn/yandexgpt/rc', 'system_fingerprint': None, 'id': '08cee27c-2ddd-4cc6-8459-39634ba94554', 'finish_reason': 'stop', 'logprobs': None}, id='run-e291a3e7-892b-425f-871c-b63fba57dfc7-0', usage_metadata={'input_tokens': 1578, 'output_tokens': 20, 'total_tokens': 1598, 'input_token_details': {}, 'output_token_details': {}})]}\n",
      "общежития и физкультуры нужна справка 086у. Достаточно будет отдать оригинал например а общежитие, в другое место копию? → {'messages': [AIMessage(content='Пожалуйста, расскажите, какая информация вам нужна, чтобы я мог помочь вам в процессе поступления в МАИ.', additional_kwargs={'refusal': None}, response_metadata={'token_usage': {'completion_tokens': 21, 'prompt_tokens': 1575, 'total_tokens': 1596, 'completion_tokens_details': None, 'prompt_tokens_details': None}, 'model_name': 'gpt://b1gst3c7cskk2big5fqn/yandexgpt/rc', 'system_fingerprint': None, 'id': '83e18952-ec55-4424-b323-5935980218fb', 'finish_reason': 'stop', 'logprobs': None}, id='run-1e6e0b00-31b4-447a-a772-87d8b4a1c73f-0', usage_metadata={'input_tokens': 1575, 'output_tokens': 21, 'total_tokens': 1596, 'input_token_details': {}, 'output_token_details': {}})]}\n",
      "Подскажите, а в общаге на Царева кухня у каждого блока своя или одна общая? Как там обстоят дела с газовыми плитами? → {'messages': [AIMessage(content='Здравствуйте! Я AI-ассистент приёмной комиссии МАИ. Чем я могу вам помочь?', additional_kwargs={'refusal': None}, response_metadata={'token_usage': {'completion_tokens': 20, 'prompt_tokens': 1577, 'total_tokens': 1597, 'completion_tokens_details': None, 'prompt_tokens_details': None}, 'model_name': 'gpt://b1gst3c7cskk2big5fqn/yandexgpt/rc', 'system_fingerprint': None, 'id': '14966c73-94f1-4a2e-82ed-c81aef1af2ae', 'finish_reason': 'stop', 'logprobs': None}, id='run-003fa263-5029-4c8a-87b1-1b1ea1f59991-0', usage_metadata={'input_tokens': 1577, 'output_tokens': 20, 'total_tokens': 1597, 'input_token_details': {}, 'output_token_details': {}})]}\n",
      "Добрый вечер. Подскажите пожалуйста, чем принципиально отличается образовательная программа ''Информатика\"\" на направлении 01.03.02 от ''Информатики и компьютерных наук\"\" на направлении 02.03.02?   → {'messages': [AIMessage(content='Здравствуйте! Я AI-ассистент приёмной комиссии МАИ. Чем я могу вам помочь? Хотите узнать о поступлении, стипендиях, общежитиях или чём-то ещё?', additional_kwargs={'refusal': None}, response_metadata={'token_usage': {'completion_tokens': 37, 'prompt_tokens': 1578, 'total_tokens': 1615, 'completion_tokens_details': None, 'prompt_tokens_details': None}, 'model_name': 'gpt://b1gst3c7cskk2big5fqn/yandexgpt/rc', 'system_fingerprint': None, 'id': 'b974dba3-c312-4cb4-a59f-5e84a4272c83', 'finish_reason': 'stop', 'logprobs': None}, id='run-f41357bc-35a7-42e6-8b8a-4237354b7cff-0', usage_metadata={'input_tokens': 1578, 'output_tokens': 37, 'total_tokens': 1615, 'input_token_details': {}, 'output_token_details': {}})]}\n",
      "Здравствуйте, а если поступить на бюджет без общаги, ее потом можно будет получить, если да, сложно ли это будет сделать? → {'messages': [AIMessage(content='Пожалуйста, задайте ваш вопрос, и я помогу вам с информацией о поступлении в МАИ.', additional_kwargs={'refusal': None}, response_metadata={'token_usage': {'completion_tokens': 18, 'prompt_tokens': 1577, 'total_tokens': 1595, 'completion_tokens_details': None, 'prompt_tokens_details': None}, 'model_name': 'gpt://b1gst3c7cskk2big5fqn/yandexgpt/rc', 'system_fingerprint': None, 'id': '6e23d7e4-701a-445c-95b5-bc1f37c35a4a', 'finish_reason': 'stop', 'logprobs': None}, id='run-de9ca6f6-5345-40c0-a02f-5fb5628c64d7-0', usage_metadata={'input_tokens': 1577, 'output_tokens': 18, 'total_tokens': 1595, 'input_token_details': {}, 'output_token_details': {}})]}\n",
      "Я правильно понимаю, что если я прохожу по первому приоритету на бюджет без общаги, а на второй приоритет с общагой, то зачисляют меня именно на первый приоритет без общежития? → {'messages': [AIMessage(content='Пожалуйста, расскажите, какая информация вам нужна, чтобы я мог помочь вам в процессе поступления в МАИ.', additional_kwargs={'refusal': None}, response_metadata={'token_usage': {'completion_tokens': 21, 'prompt_tokens': 1577, 'total_tokens': 1598, 'completion_tokens_details': None, 'prompt_tokens_details': None}, 'model_name': 'gpt://b1gst3c7cskk2big5fqn/yandexgpt/rc', 'system_fingerprint': None, 'id': '83e579ba-0c33-4998-b0fe-93cfc4f50915', 'finish_reason': 'stop', 'logprobs': None}, id='run-02b5c0fb-6793-4904-9794-a4df2eb258b3-0', usage_metadata={'input_tokens': 1577, 'output_tokens': 21, 'total_tokens': 1598, 'input_token_details': {}, 'output_token_details': {}})]}\n",
      "Мне позвонили из ПК и сказали, что именно на айти и программировании основан 8 институт МАИ, а у меня на некоторые группы было подано в 3. Скажите, пожалуйста, действительно ли лучше на айти направления идти в 3 институт и какие направления на госуслугах относят к 3? → {'messages': [AIMessage(content='Здравствуйте! Я AI-ассистент приёмной комиссии МАИ. Чем я могу вам помочь? Хотите узнать о поступлении, обучении или чём-то другом?', additional_kwargs={'refusal': None}, response_metadata={'token_usage': {'completion_tokens': 32, 'prompt_tokens': 1579, 'total_tokens': 1611, 'completion_tokens_details': None, 'prompt_tokens_details': None}, 'model_name': 'gpt://b1gst3c7cskk2big5fqn/yandexgpt/rc', 'system_fingerprint': None, 'id': '51feec6a-c06c-4b32-bf7a-7f89611de448', 'finish_reason': 'stop', 'logprobs': None}, id='run-5d7e0258-407e-4715-9346-5475dafdd9b3-0', usage_metadata={'input_tokens': 1579, 'output_tokens': 32, 'total_tokens': 1611, 'input_token_details': {}, 'output_token_details': {}})]}\n",
      "Расскажите пожалуйста по подробнее про факультет фундаментальная информатика и информационные технологии.  → {'messages': [AIMessage(content='Пожалуйста, задайте ваш вопрос, и я помогу вам с информацией о поступлении в МАИ.', additional_kwargs={'refusal': None}, response_metadata={'token_usage': {'completion_tokens': 18, 'prompt_tokens': 1577, 'total_tokens': 1595, 'completion_tokens_details': None, 'prompt_tokens_details': None}, 'model_name': 'gpt://b1gst3c7cskk2big5fqn/yandexgpt/rc', 'system_fingerprint': None, 'id': '0cfabd8d-b750-48b1-bb10-8a8bf78f83cf', 'finish_reason': 'stop', 'logprobs': None}, id='run-d4d543b1-3e18-407e-bced-e434f863d069-0', usage_metadata={'input_tokens': 1577, 'output_tokens': 18, 'total_tokens': 1595, 'input_token_details': {}, 'output_token_details': {}})]}\n",
      "На этой программе изучают питон и с++? Это в этой программе обучают созданию программ, игр и тд тп? → {'messages': [AIMessage(content='Пожалуйста, расскажите, какая информация вам нужна, чтобы я мог помочь вам в поступлении в МАИ.', additional_kwargs={'refusal': None}, response_metadata={'token_usage': {'completion_tokens': 20, 'prompt_tokens': 1577, 'total_tokens': 1597, 'completion_tokens_details': None, 'prompt_tokens_details': None}, 'model_name': 'gpt://b1gst3c7cskk2big5fqn/yandexgpt/rc', 'system_fingerprint': None, 'id': '52d69310-ca59-4d8c-865c-20f2bacaf336', 'finish_reason': 'stop', 'logprobs': None}, id='run-16fa12c0-e1ec-4e43-8ee9-6af2a43f0c7a-0', usage_metadata={'input_tokens': 1577, 'output_tokens': 20, 'total_tokens': 1597, 'input_token_details': {}, 'output_token_details': {}})]}\n"
     ]
    },
    {
     "ename": "CancelledError",
     "evalue": "",
     "output_type": "error",
     "traceback": [
      "\u001b[31m---------------------------------------------------------------------------\u001b[39m",
      "\u001b[31mCancelledError\u001b[39m                            Traceback (most recent call last)",
      "\u001b[36mCell\u001b[39m\u001b[36m \u001b[39m\u001b[32mIn[19]\u001b[39m\u001b[32m, line 16\u001b[39m\n\u001b[32m     10\u001b[39m prompt = (\n\u001b[32m     11\u001b[39m     \u001b[33m\"\u001b[39m\u001b[33mВопрос пользователя:\u001b[39m\u001b[38;5;130;01m\\n\u001b[39;00m\u001b[33m\"\u001b[39m\n\u001b[32m     12\u001b[39m     \u001b[33mf\u001b[39m\u001b[33m\"\u001b[39m\u001b[38;5;132;01m{\u001b[39;00mq\u001b[38;5;132;01m}\u001b[39;00m\u001b[33m\"\u001b[39m\n\u001b[32m     13\u001b[39m )\n\u001b[32m     15\u001b[39m \u001b[38;5;66;03m# 2) Вызываем агента\u001b[39;00m\n\u001b[32m---> \u001b[39m\u001b[32m16\u001b[39m response_obj = \u001b[38;5;28;01mawait\u001b[39;00m graph.ainvoke({\n\u001b[32m     17\u001b[39m     \u001b[33m\"\u001b[39m\u001b[33minput\u001b[39m\u001b[33m\"\u001b[39m: prompt,\n\u001b[32m     18\u001b[39m     \u001b[33m\"\u001b[39m\u001b[33mchat_history\u001b[39m\u001b[33m\"\u001b[39m: []\n\u001b[32m     19\u001b[39m })\n\u001b[32m     21\u001b[39m \u001b[38;5;66;03m# 3) Достаём текст\u001b[39;00m\n\u001b[32m     22\u001b[39m response_text = \u001b[38;5;28mgetattr\u001b[39m(response_obj, \u001b[33m\"\u001b[39m\u001b[33mcontent\u001b[39m\u001b[33m\"\u001b[39m, \u001b[38;5;28mstr\u001b[39m(response_obj))\n",
      "\u001b[36mFile \u001b[39m\u001b[32m~/mathmod2025/Yandex-multimodal-assistant/.venv/lib/python3.12/site-packages/langgraph/pregel/__init__.py:2873\u001b[39m, in \u001b[36mPregel.ainvoke\u001b[39m\u001b[34m(self, input, config, stream_mode, output_keys, interrupt_before, interrupt_after, checkpoint_during, debug, **kwargs)\u001b[39m\n\u001b[32m   2870\u001b[39m chunks: \u001b[38;5;28mlist\u001b[39m[Union[\u001b[38;5;28mdict\u001b[39m[\u001b[38;5;28mstr\u001b[39m, Any], Any]] = []\n\u001b[32m   2871\u001b[39m interrupts: \u001b[38;5;28mlist\u001b[39m[Interrupt] = []\n\u001b[32m-> \u001b[39m\u001b[32m2873\u001b[39m \u001b[38;5;28;01masync\u001b[39;00m \u001b[38;5;28;01mfor\u001b[39;00m chunk \u001b[38;5;129;01min\u001b[39;00m \u001b[38;5;28mself\u001b[39m.astream(\n\u001b[32m   2874\u001b[39m     \u001b[38;5;28minput\u001b[39m,\n\u001b[32m   2875\u001b[39m     config,\n\u001b[32m   2876\u001b[39m     stream_mode=stream_mode,\n\u001b[32m   2877\u001b[39m     output_keys=output_keys,\n\u001b[32m   2878\u001b[39m     interrupt_before=interrupt_before,\n\u001b[32m   2879\u001b[39m     interrupt_after=interrupt_after,\n\u001b[32m   2880\u001b[39m     checkpoint_during=checkpoint_during,\n\u001b[32m   2881\u001b[39m     debug=debug,\n\u001b[32m   2882\u001b[39m     **kwargs,\n\u001b[32m   2883\u001b[39m ):\n\u001b[32m   2884\u001b[39m     \u001b[38;5;28;01mif\u001b[39;00m stream_mode == \u001b[33m\"\u001b[39m\u001b[33mvalues\u001b[39m\u001b[33m\"\u001b[39m:\n\u001b[32m   2885\u001b[39m         \u001b[38;5;28;01mif\u001b[39;00m (\n\u001b[32m   2886\u001b[39m             \u001b[38;5;28misinstance\u001b[39m(chunk, \u001b[38;5;28mdict\u001b[39m)\n\u001b[32m   2887\u001b[39m             \u001b[38;5;129;01mand\u001b[39;00m (ints := chunk.get(INTERRUPT)) \u001b[38;5;129;01mis\u001b[39;00m \u001b[38;5;129;01mnot\u001b[39;00m \u001b[38;5;28;01mNone\u001b[39;00m\n\u001b[32m   2888\u001b[39m         ):\n",
      "\u001b[36mFile \u001b[39m\u001b[32m~/mathmod2025/Yandex-multimodal-assistant/.venv/lib/python3.12/site-packages/langgraph/pregel/__init__.py:2685\u001b[39m, in \u001b[36mPregel.astream\u001b[39m\u001b[34m(self, input, config, stream_mode, output_keys, interrupt_before, interrupt_after, checkpoint_during, debug, subgraphs)\u001b[39m\n\u001b[32m   2683\u001b[39m \u001b[38;5;28;01mif\u001b[39;00m checkpoint_during \u001b[38;5;129;01mis\u001b[39;00m \u001b[38;5;129;01mnot\u001b[39;00m \u001b[38;5;28;01mNone\u001b[39;00m:\n\u001b[32m   2684\u001b[39m     config[CONF][CONFIG_KEY_CHECKPOINT_DURING] = checkpoint_during\n\u001b[32m-> \u001b[39m\u001b[32m2685\u001b[39m \u001b[38;5;28;01masync\u001b[39;00m \u001b[38;5;28;01mwith\u001b[39;00m AsyncPregelLoop(\n\u001b[32m   2686\u001b[39m     \u001b[38;5;28minput\u001b[39m,\n\u001b[32m   2687\u001b[39m     input_model=\u001b[38;5;28mself\u001b[39m.input_model,\n\u001b[32m   2688\u001b[39m     stream=StreamProtocol(stream.put_nowait, stream_modes),\n\u001b[32m   2689\u001b[39m     config=config,\n\u001b[32m   2690\u001b[39m     store=store,\n\u001b[32m   2691\u001b[39m     checkpointer=checkpointer,\n\u001b[32m   2692\u001b[39m     nodes=\u001b[38;5;28mself\u001b[39m.nodes,\n\u001b[32m   2693\u001b[39m     specs=\u001b[38;5;28mself\u001b[39m.channels,\n\u001b[32m   2694\u001b[39m     output_keys=output_keys,\n\u001b[32m   2695\u001b[39m     stream_keys=\u001b[38;5;28mself\u001b[39m.stream_channels_asis,\n\u001b[32m   2696\u001b[39m     interrupt_before=interrupt_before_,\n\u001b[32m   2697\u001b[39m     interrupt_after=interrupt_after_,\n\u001b[32m   2698\u001b[39m     manager=run_manager,\n\u001b[32m   2699\u001b[39m     debug=debug,\n\u001b[32m   2700\u001b[39m     checkpoint_during=checkpoint_during\n\u001b[32m   2701\u001b[39m     \u001b[38;5;28;01mif\u001b[39;00m checkpoint_during \u001b[38;5;129;01mis\u001b[39;00m \u001b[38;5;129;01mnot\u001b[39;00m \u001b[38;5;28;01mNone\u001b[39;00m\n\u001b[32m   2702\u001b[39m     \u001b[38;5;28;01melse\u001b[39;00m config[CONF].get(CONFIG_KEY_CHECKPOINT_DURING, \u001b[38;5;28;01mTrue\u001b[39;00m),\n\u001b[32m   2703\u001b[39m     trigger_to_nodes=\u001b[38;5;28mself\u001b[39m.trigger_to_nodes,\n\u001b[32m   2704\u001b[39m     migrate_checkpoint=\u001b[38;5;28mself\u001b[39m._migrate_checkpoint,\n\u001b[32m   2705\u001b[39m ) \u001b[38;5;28;01mas\u001b[39;00m loop:\n\u001b[32m   2706\u001b[39m     \u001b[38;5;66;03m# create runner\u001b[39;00m\n\u001b[32m   2707\u001b[39m     runner = PregelRunner(\n\u001b[32m   2708\u001b[39m         submit=config[CONF].get(\n\u001b[32m   2709\u001b[39m             CONFIG_KEY_RUNNER_SUBMIT, weakref.WeakMethod(loop.submit)\n\u001b[32m   (...)\u001b[39m\u001b[32m   2714\u001b[39m         node_finished=config[CONF].get(CONFIG_KEY_NODE_FINISHED),\n\u001b[32m   2715\u001b[39m     )\n\u001b[32m   2716\u001b[39m     \u001b[38;5;66;03m# enable subgraph streaming\u001b[39;00m\n",
      "\u001b[36mFile \u001b[39m\u001b[32m~/mathmod2025/Yandex-multimodal-assistant/.venv/lib/python3.12/site-packages/langgraph/pregel/loop.py:1239\u001b[39m, in \u001b[36mAsyncPregelLoop.__aenter__\u001b[39m\u001b[34m(self)\u001b[39m\n\u001b[32m   1230\u001b[39m \u001b[38;5;28mself\u001b[39m.checkpoint_pending_writes = (\n\u001b[32m   1231\u001b[39m     [(\u001b[38;5;28mstr\u001b[39m(tid), k, v) \u001b[38;5;28;01mfor\u001b[39;00m tid, k, v \u001b[38;5;129;01min\u001b[39;00m saved.pending_writes]\n\u001b[32m   1232\u001b[39m     \u001b[38;5;28;01mif\u001b[39;00m saved.pending_writes \u001b[38;5;129;01mis\u001b[39;00m \u001b[38;5;129;01mnot\u001b[39;00m \u001b[38;5;28;01mNone\u001b[39;00m\n\u001b[32m   1233\u001b[39m     \u001b[38;5;28;01melse\u001b[39;00m []\n\u001b[32m   1234\u001b[39m )\n\u001b[32m   1236\u001b[39m \u001b[38;5;28mself\u001b[39m.submit = \u001b[38;5;28;01mawait\u001b[39;00m \u001b[38;5;28mself\u001b[39m.stack.enter_async_context(\n\u001b[32m   1237\u001b[39m     AsyncBackgroundExecutor(\u001b[38;5;28mself\u001b[39m.config)\n\u001b[32m   1238\u001b[39m )\n\u001b[32m-> \u001b[39m\u001b[32m1239\u001b[39m \u001b[38;5;28mself\u001b[39m.channels, \u001b[38;5;28mself\u001b[39m.managed = \u001b[38;5;28;01mawait\u001b[39;00m \u001b[38;5;28mself\u001b[39m.stack.enter_async_context(\n\u001b[32m   1240\u001b[39m     AsyncChannelsManager(\u001b[38;5;28mself\u001b[39m.specs, \u001b[38;5;28mself\u001b[39m.checkpoint, \u001b[38;5;28mself\u001b[39m)\n\u001b[32m   1241\u001b[39m )\n\u001b[32m   1242\u001b[39m \u001b[38;5;28mself\u001b[39m.stack.push(\u001b[38;5;28mself\u001b[39m._suppress_interrupt)\n\u001b[32m   1243\u001b[39m \u001b[38;5;28mself\u001b[39m.status = \u001b[33m\"\u001b[39m\u001b[33mpending\u001b[39m\u001b[33m\"\u001b[39m\n",
      "\u001b[36mFile \u001b[39m\u001b[32m/usr/lib/python3.12/contextlib.py:659\u001b[39m, in \u001b[36mAsyncExitStack.enter_async_context\u001b[39m\u001b[34m(self, cm)\u001b[39m\n\u001b[32m    655\u001b[39m \u001b[38;5;28;01mexcept\u001b[39;00m \u001b[38;5;167;01mAttributeError\u001b[39;00m:\n\u001b[32m    656\u001b[39m     \u001b[38;5;28;01mraise\u001b[39;00m \u001b[38;5;167;01mTypeError\u001b[39;00m(\u001b[33mf\u001b[39m\u001b[33m\"\u001b[39m\u001b[33m'\u001b[39m\u001b[38;5;132;01m{\u001b[39;00m\u001b[38;5;28mcls\u001b[39m.\u001b[34m__module__\u001b[39m\u001b[38;5;132;01m}\u001b[39;00m\u001b[33m.\u001b[39m\u001b[38;5;132;01m{\u001b[39;00m\u001b[38;5;28mcls\u001b[39m.\u001b[34m__qualname__\u001b[39m\u001b[38;5;132;01m}\u001b[39;00m\u001b[33m'\u001b[39m\u001b[33m object does \u001b[39m\u001b[33m\"\u001b[39m\n\u001b[32m    657\u001b[39m                     \u001b[33mf\u001b[39m\u001b[33m\"\u001b[39m\u001b[33mnot support the asynchronous context manager protocol\u001b[39m\u001b[33m\"\u001b[39m\n\u001b[32m    658\u001b[39m                    ) \u001b[38;5;28;01mfrom\u001b[39;00m\u001b[38;5;250m \u001b[39m\u001b[38;5;28;01mNone\u001b[39;00m\n\u001b[32m--> \u001b[39m\u001b[32m659\u001b[39m result = \u001b[38;5;28;01mawait\u001b[39;00m _enter(cm)\n\u001b[32m    660\u001b[39m \u001b[38;5;28mself\u001b[39m._push_async_cm_exit(cm, _exit)\n\u001b[32m    661\u001b[39m \u001b[38;5;28;01mreturn\u001b[39;00m result\n",
      "\u001b[36mFile \u001b[39m\u001b[32m/usr/lib/python3.12/contextlib.py:210\u001b[39m, in \u001b[36m_AsyncGeneratorContextManager.__aenter__\u001b[39m\u001b[34m(self)\u001b[39m\n\u001b[32m    208\u001b[39m \u001b[38;5;28;01mdel\u001b[39;00m \u001b[38;5;28mself\u001b[39m.args, \u001b[38;5;28mself\u001b[39m.kwds, \u001b[38;5;28mself\u001b[39m.func\n\u001b[32m    209\u001b[39m \u001b[38;5;28;01mtry\u001b[39;00m:\n\u001b[32m--> \u001b[39m\u001b[32m210\u001b[39m     \u001b[38;5;28;01mreturn\u001b[39;00m \u001b[38;5;28;01mawait\u001b[39;00m anext(\u001b[38;5;28mself\u001b[39m.gen)\n\u001b[32m    211\u001b[39m \u001b[38;5;28;01mexcept\u001b[39;00m \u001b[38;5;167;01mStopAsyncIteration\u001b[39;00m:\n\u001b[32m    212\u001b[39m     \u001b[38;5;28;01mraise\u001b[39;00m \u001b[38;5;167;01mRuntimeError\u001b[39;00m(\u001b[33m\"\u001b[39m\u001b[33mgenerator didn\u001b[39m\u001b[33m'\u001b[39m\u001b[33mt yield\u001b[39m\u001b[33m\"\u001b[39m) \u001b[38;5;28;01mfrom\u001b[39;00m\u001b[38;5;250m \u001b[39m\u001b[38;5;28;01mNone\u001b[39;00m\n",
      "\u001b[36mFile \u001b[39m\u001b[32m~/mathmod2025/Yandex-multimodal-assistant/.venv/lib/python3.12/site-packages/langgraph/pregel/manager.py:89\u001b[39m, in \u001b[36mAsyncChannelsManager\u001b[39m\u001b[34m(specs, checkpoint, loop, skip_context)\u001b[39m\n\u001b[32m     77\u001b[39m \u001b[38;5;28;01masync\u001b[39;00m \u001b[38;5;28;01mwith\u001b[39;00m AsyncExitStack() \u001b[38;5;28;01mas\u001b[39;00m stack:\n\u001b[32m     78\u001b[39m     \u001b[38;5;66;03m# managed: create enter tasks with reference to spec, await them\u001b[39;00m\n\u001b[32m     79\u001b[39m     \u001b[38;5;28;01mif\u001b[39;00m tasks := {\n\u001b[32m     80\u001b[39m         asyncio.create_task(\n\u001b[32m     81\u001b[39m             stack.enter_async_context(\n\u001b[32m   (...)\u001b[39m\u001b[32m     87\u001b[39m         \u001b[38;5;28;01mfor\u001b[39;00m key, value \u001b[38;5;129;01min\u001b[39;00m managed_specs.items()\n\u001b[32m     88\u001b[39m     }:\n\u001b[32m---> \u001b[39m\u001b[32m89\u001b[39m         done, _ = \u001b[38;5;28;01mawait\u001b[39;00m asyncio.wait(tasks, return_when=asyncio.ALL_COMPLETED)\n\u001b[32m     90\u001b[39m     \u001b[38;5;28;01melse\u001b[39;00m:\n\u001b[32m     91\u001b[39m         done = \u001b[38;5;28mset\u001b[39m()\n",
      "\u001b[36mFile \u001b[39m\u001b[32m/usr/lib/python3.12/asyncio/tasks.py:464\u001b[39m, in \u001b[36mwait\u001b[39m\u001b[34m(fs, timeout, return_when)\u001b[39m\n\u001b[32m    461\u001b[39m     \u001b[38;5;28;01mraise\u001b[39;00m \u001b[38;5;167;01mTypeError\u001b[39;00m(\u001b[33m\"\u001b[39m\u001b[33mPassing coroutines is forbidden, use tasks explicitly.\u001b[39m\u001b[33m\"\u001b[39m)\n\u001b[32m    463\u001b[39m loop = events.get_running_loop()\n\u001b[32m--> \u001b[39m\u001b[32m464\u001b[39m \u001b[38;5;28;01mreturn\u001b[39;00m \u001b[38;5;28;01mawait\u001b[39;00m _wait(fs, timeout, return_when, loop)\n",
      "\u001b[36mFile \u001b[39m\u001b[32m/usr/lib/python3.12/asyncio/tasks.py:550\u001b[39m, in \u001b[36m_wait\u001b[39m\u001b[34m(fs, timeout, return_when, loop)\u001b[39m\n\u001b[32m    547\u001b[39m     f.add_done_callback(_on_completion)\n\u001b[32m    549\u001b[39m \u001b[38;5;28;01mtry\u001b[39;00m:\n\u001b[32m--> \u001b[39m\u001b[32m550\u001b[39m     \u001b[38;5;28;01mawait\u001b[39;00m waiter\n\u001b[32m    551\u001b[39m \u001b[38;5;28;01mfinally\u001b[39;00m:\n\u001b[32m    552\u001b[39m     \u001b[38;5;28;01mif\u001b[39;00m timeout_handle \u001b[38;5;129;01mis\u001b[39;00m \u001b[38;5;129;01mnot\u001b[39;00m \u001b[38;5;28;01mNone\u001b[39;00m:\n",
      "\u001b[36mFile \u001b[39m\u001b[32m/usr/lib/python3.12/asyncio/futures.py:287\u001b[39m, in \u001b[36mFuture.__await__\u001b[39m\u001b[34m(self)\u001b[39m\n\u001b[32m    285\u001b[39m \u001b[38;5;28;01mif\u001b[39;00m \u001b[38;5;129;01mnot\u001b[39;00m \u001b[38;5;28mself\u001b[39m.done():\n\u001b[32m    286\u001b[39m     \u001b[38;5;28mself\u001b[39m._asyncio_future_blocking = \u001b[38;5;28;01mTrue\u001b[39;00m\n\u001b[32m--> \u001b[39m\u001b[32m287\u001b[39m     \u001b[38;5;28;01myield\u001b[39;00m \u001b[38;5;28mself\u001b[39m  \u001b[38;5;66;03m# This tells Task to wait for completion.\u001b[39;00m\n\u001b[32m    288\u001b[39m \u001b[38;5;28;01mif\u001b[39;00m \u001b[38;5;129;01mnot\u001b[39;00m \u001b[38;5;28mself\u001b[39m.done():\n\u001b[32m    289\u001b[39m     \u001b[38;5;28;01mraise\u001b[39;00m \u001b[38;5;167;01mRuntimeError\u001b[39;00m(\u001b[33m\"\u001b[39m\u001b[33mawait wasn\u001b[39m\u001b[33m'\u001b[39m\u001b[33mt used with future\u001b[39m\u001b[33m\"\u001b[39m)\n",
      "\u001b[36mFile \u001b[39m\u001b[32m/usr/lib/python3.12/asyncio/tasks.py:385\u001b[39m, in \u001b[36mTask.__wakeup\u001b[39m\u001b[34m(self, future)\u001b[39m\n\u001b[32m    383\u001b[39m \u001b[38;5;28;01mdef\u001b[39;00m\u001b[38;5;250m \u001b[39m\u001b[34m__wakeup\u001b[39m(\u001b[38;5;28mself\u001b[39m, future):\n\u001b[32m    384\u001b[39m     \u001b[38;5;28;01mtry\u001b[39;00m:\n\u001b[32m--> \u001b[39m\u001b[32m385\u001b[39m         \u001b[43mfuture\u001b[49m\u001b[43m.\u001b[49m\u001b[43mresult\u001b[49m\u001b[43m(\u001b[49m\u001b[43m)\u001b[49m\n\u001b[32m    386\u001b[39m     \u001b[38;5;28;01mexcept\u001b[39;00m \u001b[38;5;167;01mBaseException\u001b[39;00m \u001b[38;5;28;01mas\u001b[39;00m exc:\n\u001b[32m    387\u001b[39m         \u001b[38;5;66;03m# This may also be a cancellation.\u001b[39;00m\n\u001b[32m    388\u001b[39m         \u001b[38;5;28mself\u001b[39m.__step(exc)\n",
      "\u001b[36mFile \u001b[39m\u001b[32m/usr/lib/python3.12/asyncio/futures.py:198\u001b[39m, in \u001b[36mFuture.result\u001b[39m\u001b[34m(self)\u001b[39m\n\u001b[32m    196\u001b[39m \u001b[38;5;28;01mif\u001b[39;00m \u001b[38;5;28mself\u001b[39m._state == _CANCELLED:\n\u001b[32m    197\u001b[39m     exc = \u001b[38;5;28mself\u001b[39m._make_cancelled_error()\n\u001b[32m--> \u001b[39m\u001b[32m198\u001b[39m     \u001b[38;5;28;01mraise\u001b[39;00m exc\n\u001b[32m    199\u001b[39m \u001b[38;5;28;01mif\u001b[39;00m \u001b[38;5;28mself\u001b[39m._state != _FINISHED:\n\u001b[32m    200\u001b[39m     \u001b[38;5;28;01mraise\u001b[39;00m exceptions.InvalidStateError(\u001b[33m'\u001b[39m\u001b[33mResult is not ready.\u001b[39m\u001b[33m'\u001b[39m)\n",
      "\u001b[31mCancelledError\u001b[39m: "
     ]
    }
   ],
   "source": [
    "import json\n",
    "\n",
    "dataset = []\n",
    "questions = open('../data/testing_data/test_cases.txt', encoding='utf-8').read().splitlines()\n",
    "\n",
    "for q in questions:\n",
    "    contexts = retrieve(q)  # список строк\n",
    "\n",
    "    # 1) Собираем единый prompt\n",
    "    prompt = (\n",
    "        \"Вопрос пользователя:\\n\"\n",
    "        f\"{q}\"\n",
    "    )\n",
    "\n",
    "    # 2) Вызываем агента\n",
    "    response_obj = await graph.ainvoke({\n",
    "        \"input\": prompt,\n",
    "        \"chat_history\": []\n",
    "    })\n",
    "\n",
    "    # 3) Достаём текст\n",
    "    response_text = getattr(response_obj, \"content\", str(response_obj))\n",
    "\n",
    "    dataset.append({\n",
    "        \"user_input\": q,\n",
    "        \"retrieved_contexts\": contexts,\n",
    "        \"response\": response_text\n",
    "    })\n",
    "\n",
    "    print(q, \"→\", response_text)\n",
    "\n",
    "# Оставляем первые 10 и сохраняем\n",
    "dataset = dataset[:10]\n",
    "with open('dataset.json', 'w', encoding='utf-8') as f:\n",
    "    json.dump(dataset, f, ensure_ascii=False, indent=4)\n"
   ]
  },
  {
   "cell_type": "code",
   "execution_count": null,
   "id": "572807f5",
   "metadata": {},
   "outputs": [],
   "source": [
    "from ragas import EvaluationDataset\n",
    "eval_ds = EvaluationDataset.from_list(dataset)\n"
   ]
  },
  {
   "cell_type": "markdown",
   "id": "e9c3c48c",
   "metadata": {},
   "source": [
    "Оценка"
   ]
  },
  {
   "cell_type": "code",
   "execution_count": null,
   "id": "88678d2b",
   "metadata": {},
   "outputs": [],
   "source": [
    "from ragas import evaluate\n",
    "from ragas.llms import LangchainLLMWrapper\n",
    "from ragas.metrics import LLMContextRecall, Faithfulness, ResponseRelevancy, AnswerCorrectness, AnswerCompleteness, ContextPrecision, ContextRecall\n",
    "llm = ChatOpenAI(\n",
    "        model=\"gpt://\" + os.environ[\"FOLDER_ID\"] + '/yandexgpt/rc',\n",
    "        api_key=os.environ[\"API_KEY\"],\n",
    "        temperature=0.1,\n",
    "        base_url=\"https://llm.api.cloud.yandex.net/v1\"\n",
    "    )\n",
    "evaluator = LangchainLLMWrapper(llm)\n",
    "metrics = [\n",
    "    LLMContextRecall(),\n",
    "    Faithfulness(),\n",
    "    ResponseRelevancy(),\n",
    "    AnswerCorrectness(),\n",
    "    AnswerCompleteness(),\n",
    "    ContextPrecision(),\n",
    "    ContextRecall()\n",
    "]\n",
    "results = evaluate(\n",
    "    dataset=eval_ds,\n",
    "    metrics=metrics,\n",
    "    llm=evaluator\n",
    ")\n",
    "print(results)\n"
   ]
  }
 ],
 "metadata": {
  "kernelspec": {
   "display_name": ".venv",
   "language": "python",
   "name": "python3"
  },
  "language_info": {
   "codemirror_mode": {
    "name": "ipython",
    "version": 3
   },
   "file_extension": ".py",
   "mimetype": "text/x-python",
   "name": "python",
   "nbconvert_exporter": "python",
   "pygments_lexer": "ipython3",
   "version": "3.11.0"
  }
 },
 "nbformat": 4,
 "nbformat_minor": 5
}
