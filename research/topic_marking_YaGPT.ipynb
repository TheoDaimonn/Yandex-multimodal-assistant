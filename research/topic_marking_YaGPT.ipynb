{
 "cells": [
  {
   "cell_type": "markdown",
   "id": "49cae17b",
   "metadata": {},
   "source": [
    "Промаркируем топиками все единицы векторной базы"
   ]
  },
  {
   "cell_type": "markdown",
   "id": "2302e7df",
   "metadata": {},
   "source": [
    "Инсталлы"
   ]
  },
  {
   "cell_type": "code",
   "execution_count": 1,
   "id": "9651f7c0",
   "metadata": {},
   "outputs": [],
   "source": [
    "! pip install --upgrade --quiet yandex-cloud-ml-sdk\n"
   ]
  },
  {
   "cell_type": "markdown",
   "id": "0343347f",
   "metadata": {},
   "source": [
    "Импорты"
   ]
  },
  {
   "cell_type": "code",
   "execution_count": 40,
   "id": "80c1673f",
   "metadata": {},
   "outputs": [],
   "source": [
    "import os\n",
    "from yandex_cloud_ml_sdk import YCloudML\n",
    "import json\n",
    "import pandas as pd\n",
    "import ast\n"
   ]
  },
  {
   "cell_type": "markdown",
   "id": "daadcc3e",
   "metadata": {},
   "source": [
    "Функция для запросов к модели"
   ]
  },
  {
   "cell_type": "code",
   "execution_count": 62,
   "id": "0059d89f",
   "metadata": {},
   "outputs": [
    {
     "data": {
      "text/plain": [
       "'реклама\\n'"
      ]
     },
     "execution_count": 62,
     "metadata": {},
     "output_type": "execute_result"
    }
   ],
   "source": [
    "\n",
    "\n",
    "folder_id = os.environ[\"FOLDER_ID\"]\n",
    "api_key = os.environ[\"API_KEY\"]\n",
    "\n",
    "sdk = YCloudML(folder_id=folder_id, auth=api_key)\n",
    "model = sdk.models.completions(\"yandexgpt\", model_version=\"rc\")\n",
    "\n",
    "\n",
    "valid_topics = 'проходной балл, меганаправления, количество бюджетных мест, цена года обучения, общежития, индивидуальные достижения, компании-партнеры, стажировки, математика, программирование, кафедры, преподаватели, стипендии, корпуса, ремонт, айти-этаж, лаборатории, подача заявления, дни открытых дверей, чат приемки, чаты меганаправлений, языки программирования, баллы на общежитие, сертификаты на общежитие, бви, магистратура, обучение, программа, административные вопросы, профбюро, мероприятия, СпецВО, БВО, реклама'.split(', ')\n",
    "\n",
    "def tag_query(query):\n",
    "    with open('prompts/tagging_prompt.md', 'r', encoding='utf-8') as f:\n",
    "        system_prompt = f.read()\n",
    "    return model.run(system_prompt + \"\\n\\n Входной запрос:\\n\" + query).text\n",
    "tag_query('''Это не сон! Альфа-Банк дарит 500 000 рублей студентам за их идеи 🚀\n",
    "\n",
    "Вот как можно выиграть приз — участвуйте во всероссийском хакатоне Alfa Hack и создавайте свой AutoML!\n",
    "\n",
    "Команда Лаборатории машинного обучения Альфа-Банка подготовила кейсы для студентов, которые хотят прокачать свои навыки и показать свои возможности на всю \n",
    "страну 🦾\n",
    "\n",
    "За несколько недель вы сможете:\n",
    "💡 Решить реальные бизнес-задачи Альфа-Банка и получить практический опыт\n",
    "💡Пообщаться и завязать контакты с ведущими экспертами отрасли\n",
    "💡 Выиграть денежный приз и получить фаст-трек в команду Альфы\n",
    "▶ Кто может участвовать?\n",
    "\n",
    "Студенты Data Science, Data Analysis, ML-Engineering направлений и других направлений.\n",
    "\n",
    "Первый этап пройдет онлайн, а финалисты встретятся в Москве на очном финале 🔥\n",
    "\n",
    "Собирайте команду и регистрируйтесь до 31 октября по ссылке: https://alfa.me/0D7ck4 \n",
    "\n",
    "Если команды пока нет — не волнуйтесь, мы поможем найти единомышленников 🤝\n",
    "\n",
    "Скорее подавайте заявку, будем создавать технологии будущего вместе ❤''')"
   ]
  },
  {
   "cell_type": "markdown",
   "id": "0cac040f",
   "metadata": {},
   "source": [
    "Обработка диалогов"
   ]
  },
  {
   "cell_type": "code",
   "execution_count": 63,
   "id": "7f870c58",
   "metadata": {},
   "outputs": [],
   "source": [
    "df_threads = pd.read_csv('vk_chunks_df.csv')\n",
    "for query in list(df_threads['dialog_plain']):\n",
    "    ans = tag_query(query)\n",
    "\n",
    "    topics = ans.strip().replace('[', '').replace(']', '').replace('\\n\\n\\u200b', '').split(', ')\n",
    "    res = []\n",
    "    for i in topics:\n",
    "        if i  in valid_topics:\n",
    "            res.append(i)\n",
    "    topics = res\n",
    "\n",
    "\n",
    "    with open('../data/tags/vk_tags.json', 'r', encoding='utf-8') as f:\n",
    "        data = json.load(f)\n",
    "    data[query] = topics\n",
    "    with open('../data/tags/vk_tags.json', 'w', encoding='utf-8') as f:\n",
    "        json.dump(data, f, ensure_ascii=False, indent=4)"
   ]
  },
  {
   "cell_type": "markdown",
   "id": "9253d2b1",
   "metadata": {},
   "source": [
    "Обработка  постов"
   ]
  },
  {
   "cell_type": "markdown",
   "id": "53c44b6d",
   "metadata": {},
   "source": []
  }
 ],
 "metadata": {
  "kernelspec": {
   "display_name": ".venv",
   "language": "python",
   "name": "python3"
  },
  "language_info": {
   "codemirror_mode": {
    "name": "ipython",
    "version": 3
   },
   "file_extension": ".py",
   "mimetype": "text/x-python",
   "name": "python",
   "nbconvert_exporter": "python",
   "pygments_lexer": "ipython3",
   "version": "3.12.3"
  }
 },
 "nbformat": 4,
 "nbformat_minor": 5
}
