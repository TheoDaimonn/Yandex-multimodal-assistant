{
 "cells": [
  {
   "cell_type": "markdown",
   "id": "49cae17b",
   "metadata": {},
   "source": [
    "Промаркируем топиками все единицы векторной базы"
   ]
  },
  {
   "cell_type": "markdown",
   "id": "2302e7df",
   "metadata": {},
   "source": [
    "Инсталлы"
   ]
  },
  {
   "cell_type": "code",
   "execution_count": 1,
   "id": "9651f7c0",
   "metadata": {},
   "outputs": [],
   "source": [
    "! pip install --upgrade --quiet yandex-cloud-ml-sdk\n"
   ]
  },
  {
   "cell_type": "markdown",
   "id": "0343347f",
   "metadata": {},
   "source": [
    "Импорты"
   ]
  },
  {
   "cell_type": "code",
   "execution_count": 2,
   "id": "80c1673f",
   "metadata": {},
   "outputs": [],
   "source": [
    "import os\n",
    "from yandex_cloud_ml_sdk import YCloudML\n"
   ]
  },
  {
   "cell_type": "markdown",
   "id": "daadcc3e",
   "metadata": {},
   "source": [
    "Функция для запросов к модели"
   ]
  },
  {
   "cell_type": "code",
   "execution_count": 8,
   "id": "0059d89f",
   "metadata": {},
   "outputs": [
    {
     "ename": "TypeError",
     "evalue": "GPTModel.run() got an unexpected keyword argument 'temperature'",
     "output_type": "error",
     "traceback": [
      "\u001b[31m---------------------------------------------------------------------------\u001b[39m",
      "\u001b[31mTypeError\u001b[39m                                 Traceback (most recent call last)",
      "\u001b[36mCell\u001b[39m\u001b[36m \u001b[39m\u001b[32mIn[8]\u001b[39m\u001b[32m, line 7\u001b[39m\n\u001b[32m      4\u001b[39m sdk = YCloudML(folder_id=folder_id, auth=api_key)\n\u001b[32m      5\u001b[39m model = sdk.models.completions(\u001b[33m\"\u001b[39m\u001b[33myandexgpt\u001b[39m\u001b[33m\"\u001b[39m, model_version=\u001b[33m\"\u001b[39m\u001b[33mrc\u001b[39m\u001b[33m\"\u001b[39m)\n\u001b[32m----> \u001b[39m\u001b[32m7\u001b[39m \u001b[38;5;28mprint\u001b[39m(\u001b[43mmodel\u001b[49m\u001b[43m.\u001b[49m\u001b[43mrun\u001b[49m\u001b[43m(\u001b[49m\u001b[33;43m\"\u001b[39;49m\u001b[33;43mКакое вино можно пить со стейком?\u001b[39;49m\u001b[33;43m\"\u001b[39;49m\u001b[43m,\u001b[49m\u001b[43m \u001b[49m\u001b[43mtemperature\u001b[49m\u001b[43m=\u001b[49m\u001b[32;43m0\u001b[39;49m\u001b[43m)\u001b[49m.text)\n",
      "\u001b[31mTypeError\u001b[39m: GPTModel.run() got an unexpected keyword argument 'temperature'"
     ]
    }
   ],
   "source": [
    "\n",
    "\n",
    "folder_id = os.environ[\"FOLDER_ID\"]\n",
    "api_key = os.environ[\"API_KEY\"]\n",
    "\n",
    "sdk = YCloudML(folder_id=folder_id, auth=api_key)\n",
    "model = sdk.models.completions(\"yandexgpt\", model_version=\"rc\")\n",
    "\n",
    "print(model.run(\"Какое вино можно пить со стейком?\", temperature=0).text)\n"
   ]
  },
  {
   "cell_type": "markdown",
   "id": "0cac040f",
   "metadata": {},
   "source": [
    "Обработка диалогов"
   ]
  },
  {
   "cell_type": "code",
   "execution_count": null,
   "id": "7f870c58",
   "metadata": {},
   "outputs": [],
   "source": []
  },
  {
   "cell_type": "markdown",
   "id": "9253d2b1",
   "metadata": {},
   "source": [
    "Обработка  постов"
   ]
  },
  {
   "cell_type": "markdown",
   "id": "53c44b6d",
   "metadata": {},
   "source": []
  }
 ],
 "metadata": {
  "kernelspec": {
   "display_name": ".venv",
   "language": "python",
   "name": "python3"
  },
  "language_info": {
   "codemirror_mode": {
    "name": "ipython",
    "version": 3
   },
   "file_extension": ".py",
   "mimetype": "text/x-python",
   "name": "python",
   "nbconvert_exporter": "python",
   "pygments_lexer": "ipython3",
   "version": "3.12.3"
  }
 },
 "nbformat": 4,
 "nbformat_minor": 5
}
